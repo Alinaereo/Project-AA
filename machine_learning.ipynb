{
 "cells": [
  {
   "cell_type": "markdown",
   "id": "9da63b7e",
   "metadata": {},
   "source": [
    "<center>\n",
    "\n",
    "## Машинное обучение\n",
    "\n",
    "</center>"
   ]
  },
  {
   "cell_type": "markdown",
   "id": "a0cda5a9",
   "metadata": {},
   "source": [
    "В нашей работе мы хотели бы предсказывать такую перемнную, как рейтинг, поскольку возможность предугадывать данный показатель поможет как создателям (анализировать предпочтения зрителей и заранее определить успех проекта), так и зрителям (стоит ли идти на премьеру того или иного фильма).\n",
    "В связи с тем, что таргетная перемнная принадлежит к классу числовых величин, мы будем обучать Линейную регрессию и её разновидности. Оценивать результаты предсказаний моделей мы будем, опираясь на метрики MSE и MAE. Наш выбор связан с тем, что MSE придаёт большую значимость грубым ошибкам, то есть минимизируя её, мы можем добиться результата, когда модель предсказывает не совсем отличные от истины значения, но она чувствительна к выбросам, что в дальнейшем нам объяснит причину достижения не совсем маленького значения при многократной оптимизации моделей. С противоположной стороны MAE, наоборот, не придаёт большого значения предсказаниям, далеко расположенным от изначальных, то есть она меньше подтвержена выбросам, которые присутствуют в нашем датафрейме."
   ]
  },
  {
   "cell_type": "markdown",
   "id": "955c83b0",
   "metadata": {},
   "source": [
    "__Импортируем необходимые библиотеки__"
   ]
  },
  {
   "cell_type": "code",
   "execution_count": 57,
   "id": "a7601c80",
   "metadata": {},
   "outputs": [],
   "source": [
    "from collections import defaultdict as dd\n",
    "import numpy as np\n",
    "import pandas as pd\n",
    "import scipy.stats as sts\n",
    "import matplotlib.pyplot as plt\n",
    "import seaborn as sns\n",
    "from sklearn.metrics import r2_score\n",
    "\n",
    "import warnings\n",
    "warnings.filterwarnings(\"ignore\")\n",
    "from sklearn.model_selection import train_test_split\n",
    "from sklearn.linear_model import LinearRegression\n",
    "from sklearn.preprocessing import OneHotEncoder\n",
    "from sklearn.compose import ColumnTransformer\n",
    "from sklearn.preprocessing import StandardScaler \n",
    "from sklearn.pipeline import Pipeline\n",
    "from sklearn import metrics \n",
    "from sklearn.model_selection import GridSearchCV\n",
    "from sklearn.linear_model import Ridge\n",
    "from sklearn.linear_model import Lasso\n",
    "from sklearn.ensemble import RandomForestRegressor\n",
    "from xgboost import XGBRegressor\n",
    "import optuna"
   ]
  },
  {
   "cell_type": "markdown",
   "id": "59c13f75",
   "metadata": {},
   "source": [
    "Загружаем наш исходный файл уже с преобразованием EDA и с новыми двумя признаками"
   ]
  },
  {
   "cell_type": "code",
   "execution_count": 2,
   "id": "4d7d4561",
   "metadata": {},
   "outputs": [
    {
     "data": {
      "text/html": [
       "<div>\n",
       "<style scoped>\n",
       "    .dataframe tbody tr th:only-of-type {\n",
       "        vertical-align: middle;\n",
       "    }\n",
       "\n",
       "    .dataframe tbody tr th {\n",
       "        vertical-align: top;\n",
       "    }\n",
       "\n",
       "    .dataframe thead th {\n",
       "        text-align: right;\n",
       "    }\n",
       "</style>\n",
       "<table border=\"1\" class=\"dataframe\">\n",
       "  <thead>\n",
       "    <tr style=\"text-align: right;\">\n",
       "      <th></th>\n",
       "      <th>Название</th>\n",
       "      <th>Страна</th>\n",
       "      <th>Жанр</th>\n",
       "      <th>Год выпуска</th>\n",
       "      <th>Давность</th>\n",
       "      <th>Возрастное ограничение</th>\n",
       "      <th>Категория</th>\n",
       "      <th>Продолжительность</th>\n",
       "      <th>Рейтинг</th>\n",
       "    </tr>\n",
       "  </thead>\n",
       "  <tbody>\n",
       "    <tr>\n",
       "      <th>0</th>\n",
       "      <td>На солнце, вдоль рядов кукурузы</td>\n",
       "      <td>Россия</td>\n",
       "      <td>Драмы</td>\n",
       "      <td>2023</td>\n",
       "      <td>0</td>\n",
       "      <td>6</td>\n",
       "      <td>Детское</td>\n",
       "      <td>89</td>\n",
       "      <td>8.4</td>\n",
       "    </tr>\n",
       "    <tr>\n",
       "      <th>1</th>\n",
       "      <td>Беспринципные в деревне</td>\n",
       "      <td>Россия</td>\n",
       "      <td>Комедии</td>\n",
       "      <td>2023</td>\n",
       "      <td>0</td>\n",
       "      <td>18</td>\n",
       "      <td>Взрослое</td>\n",
       "      <td>86</td>\n",
       "      <td>7.2</td>\n",
       "    </tr>\n",
       "    <tr>\n",
       "      <th>2</th>\n",
       "      <td>Нюрнберг</td>\n",
       "      <td>Россия</td>\n",
       "      <td>Драмы</td>\n",
       "      <td>2023</td>\n",
       "      <td>0</td>\n",
       "      <td>12</td>\n",
       "      <td>Подростковое</td>\n",
       "      <td>124</td>\n",
       "      <td>8.1</td>\n",
       "    </tr>\n",
       "    <tr>\n",
       "      <th>3</th>\n",
       "      <td>Моё прекрасное несчастье</td>\n",
       "      <td>США</td>\n",
       "      <td>Комедии</td>\n",
       "      <td>2023</td>\n",
       "      <td>0</td>\n",
       "      <td>18</td>\n",
       "      <td>Взрослое</td>\n",
       "      <td>91</td>\n",
       "      <td>7.7</td>\n",
       "    </tr>\n",
       "    <tr>\n",
       "      <th>4</th>\n",
       "      <td>Взломщик</td>\n",
       "      <td>США</td>\n",
       "      <td>Криминал</td>\n",
       "      <td>2023</td>\n",
       "      <td>0</td>\n",
       "      <td>18</td>\n",
       "      <td>Взрослое</td>\n",
       "      <td>91</td>\n",
       "      <td>6.5</td>\n",
       "    </tr>\n",
       "    <tr>\n",
       "      <th>...</th>\n",
       "      <td>...</td>\n",
       "      <td>...</td>\n",
       "      <td>...</td>\n",
       "      <td>...</td>\n",
       "      <td>...</td>\n",
       "      <td>...</td>\n",
       "      <td>...</td>\n",
       "      <td>...</td>\n",
       "      <td>...</td>\n",
       "    </tr>\n",
       "    <tr>\n",
       "      <th>2056</th>\n",
       "      <td>Марионетка</td>\n",
       "      <td>Нидерланды</td>\n",
       "      <td>Триллеры</td>\n",
       "      <td>2020</td>\n",
       "      <td>3</td>\n",
       "      <td>18</td>\n",
       "      <td>Взрослое</td>\n",
       "      <td>107</td>\n",
       "      <td>6.5</td>\n",
       "    </tr>\n",
       "    <tr>\n",
       "      <th>2057</th>\n",
       "      <td>Русалка. Озеро мертвых</td>\n",
       "      <td>Россия</td>\n",
       "      <td>Ужасы</td>\n",
       "      <td>2018</td>\n",
       "      <td>5</td>\n",
       "      <td>16</td>\n",
       "      <td>Подростковое</td>\n",
       "      <td>83</td>\n",
       "      <td>5.5</td>\n",
       "    </tr>\n",
       "    <tr>\n",
       "      <th>2058</th>\n",
       "      <td>Форсаж 4</td>\n",
       "      <td>США</td>\n",
       "      <td>Криминал</td>\n",
       "      <td>2009</td>\n",
       "      <td>14</td>\n",
       "      <td>16</td>\n",
       "      <td>Подростковое</td>\n",
       "      <td>106</td>\n",
       "      <td>8.8</td>\n",
       "    </tr>\n",
       "    <tr>\n",
       "      <th>2059</th>\n",
       "      <td>Полночь на злаковом поле</td>\n",
       "      <td>США</td>\n",
       "      <td>Триллеры</td>\n",
       "      <td>2021</td>\n",
       "      <td>2</td>\n",
       "      <td>16</td>\n",
       "      <td>Подростковое</td>\n",
       "      <td>98</td>\n",
       "      <td>6.7</td>\n",
       "    </tr>\n",
       "    <tr>\n",
       "      <th>2060</th>\n",
       "      <td>Грань времени</td>\n",
       "      <td>США</td>\n",
       "      <td>Фантастика</td>\n",
       "      <td>2016</td>\n",
       "      <td>7</td>\n",
       "      <td>16</td>\n",
       "      <td>Подростковое</td>\n",
       "      <td>99</td>\n",
       "      <td>5.2</td>\n",
       "    </tr>\n",
       "  </tbody>\n",
       "</table>\n",
       "<p>2061 rows × 9 columns</p>\n",
       "</div>"
      ],
      "text/plain": [
       "                             Название      Страна        Жанр  Год выпуска  \\\n",
       "0     На солнце, вдоль рядов кукурузы      Россия       Драмы         2023   \n",
       "1             Беспринципные в деревне      Россия     Комедии         2023   \n",
       "2                            Нюрнберг      Россия       Драмы         2023   \n",
       "3            Моё прекрасное несчастье         США     Комедии         2023   \n",
       "4                            Взломщик         США    Криминал         2023   \n",
       "...                               ...         ...         ...          ...   \n",
       "2056                       Марионетка  Нидерланды    Триллеры         2020   \n",
       "2057           Русалка. Озеро мертвых      Россия       Ужасы         2018   \n",
       "2058                         Форсаж 4         США    Криминал         2009   \n",
       "2059         Полночь на злаковом поле         США    Триллеры         2021   \n",
       "2060                    Грань времени         США  Фантастика         2016   \n",
       "\n",
       "      Давность  Возрастное ограничение     Категория  Продолжительность  \\\n",
       "0            0                       6       Детское                 89   \n",
       "1            0                      18      Взрослое                 86   \n",
       "2            0                      12  Подростковое                124   \n",
       "3            0                      18      Взрослое                 91   \n",
       "4            0                      18      Взрослое                 91   \n",
       "...        ...                     ...           ...                ...   \n",
       "2056         3                      18      Взрослое                107   \n",
       "2057         5                      16  Подростковое                 83   \n",
       "2058        14                      16  Подростковое                106   \n",
       "2059         2                      16  Подростковое                 98   \n",
       "2060         7                      16  Подростковое                 99   \n",
       "\n",
       "      Рейтинг  \n",
       "0         8.4  \n",
       "1         7.2  \n",
       "2         8.1  \n",
       "3         7.7  \n",
       "4         6.5  \n",
       "...       ...  \n",
       "2056      6.5  \n",
       "2057      5.5  \n",
       "2058      8.8  \n",
       "2059      6.7  \n",
       "2060      5.2  \n",
       "\n",
       "[2061 rows x 9 columns]"
      ]
     },
     "execution_count": 2,
     "metadata": {},
     "output_type": "execute_result"
    }
   ],
   "source": [
    "df=pd.read_csv('project_new_feature_year_class.csv')\n",
    "df"
   ]
  },
  {
   "cell_type": "markdown",
   "id": "6681a247",
   "metadata": {},
   "source": [
    "## Применение простейших моделей "
   ]
  },
  {
   "cell_type": "markdown",
   "id": "729a0d80",
   "metadata": {},
   "source": [
    "__Деление выборки на обучающую и тестовую__"
   ]
  },
  {
   "cell_type": "code",
   "execution_count": 3,
   "id": "203cd46c",
   "metadata": {},
   "outputs": [],
   "source": [
    "df_train, df_test = train_test_split(df, test_size=0.2,random_state=45) #решили как обычно поделить на 80/20% для упрощения ))\n",
    "y_train = df_train['Рейтинг'] #это наша таргетная переменная \n",
    "y_test = df_test['Рейтинг'] \n",
    "X_train = df_train.drop(['Рейтинг','Название'], axis=1) #удаляем столбцы, которые не будут использоваться в качестве объясняющих признаков\n",
    "X_test = df_test.drop(['Рейтинг','Название'], axis=1)"
   ]
  },
  {
   "cell_type": "code",
   "execution_count": 4,
   "id": "cd990c7d",
   "metadata": {},
   "outputs": [
    {
     "name": "stdout",
     "output_type": "stream",
     "text": [
      "Index(['Год выпуска', 'Давность', 'Возрастное ограничение',\n",
      "       'Продолжительность'],\n",
      "      dtype='object')\n",
      "Index(['Страна', 'Жанр', 'Категория'], dtype='object')\n"
     ]
    }
   ],
   "source": [
    "numeric_features= X_train.select_dtypes([np.number]).columns #сохраняем названия колонок с категориальными и числовыми данными\n",
    "categorical_features= X_train.dtypes[X_train.dtypes == \"object\"].index\n",
    "print(numeric_features)\n",
    "print(categorical_features)"
   ]
  },
  {
   "cell_type": "code",
   "execution_count": 5,
   "id": "6396ed9b",
   "metadata": {},
   "outputs": [],
   "source": [
    "model=LinearRegression() #обучаем простейшую линейную регрессию без параметров \n",
    "model.fit(X_train[numeric_features], y_train)\n",
    "y_pred=model.predict(X_test[numeric_features])"
   ]
  },
  {
   "cell_type": "code",
   "execution_count": 8,
   "id": "4b17d0b4",
   "metadata": {},
   "outputs": [
    {
     "name": "stdout",
     "output_type": "stream",
     "text": [
      "MSE = 0.8703\n",
      "MAE = 0.7034\n"
     ]
    }
   ],
   "source": [
    "print(\"MSE = %.4f\" % metrics.mean_squared_error(y_test, y_pred))\n",
    "print(\"MAE = %.4f\" % metrics.mean_absolute_error(y_test, y_pred))"
   ]
  },
  {
   "cell_type": "markdown",
   "id": "2625c4f6",
   "metadata": {},
   "source": [
    "__Промежуточный вывод:__\n",
    "\n",
    "Из результатов модели мы наблюдаем высокие значения ошибки MAE и MSE, что говорит о высоких расхождениях между предсказанными и настоящими величинами. Поэтому,возможно, необходимо преобразовать категориальные переменные.\n",
    "Чтобы наша модель получала больше признаков на вход, следует применить OneHotEncoding к переменным object. Таким образом, в нашем датафрейме увеличится число фичей, которые могут поспособствовать улучшению обучения модели."
   ]
  },
  {
   "cell_type": "markdown",
   "id": "39b4b4b9",
   "metadata": {},
   "source": [
    "## Преобразование значений в датафрейме"
   ]
  },
  {
   "cell_type": "code",
   "execution_count": 9,
   "id": "a1983cbb",
   "metadata": {},
   "outputs": [],
   "source": [
    "df_ohe=df.drop(['Название'],axis=1).copy() #сохраняем таблицу без Названий фильмов, что не применить к ним случайно OHE"
   ]
  },
  {
   "cell_type": "code",
   "execution_count": 30,
   "id": "9f08a196",
   "metadata": {},
   "outputs": [
    {
     "data": {
      "text/html": [
       "<div>\n",
       "<style scoped>\n",
       "    .dataframe tbody tr th:only-of-type {\n",
       "        vertical-align: middle;\n",
       "    }\n",
       "\n",
       "    .dataframe tbody tr th {\n",
       "        vertical-align: top;\n",
       "    }\n",
       "\n",
       "    .dataframe thead th {\n",
       "        text-align: right;\n",
       "    }\n",
       "</style>\n",
       "<table border=\"1\" class=\"dataframe\">\n",
       "  <thead>\n",
       "    <tr style=\"text-align: right;\">\n",
       "      <th></th>\n",
       "      <th>Год выпуска</th>\n",
       "      <th>Давность</th>\n",
       "      <th>Возрастное ограничение</th>\n",
       "      <th>Продолжительность</th>\n",
       "      <th>Рейтинг</th>\n",
       "      <th>Страна_Австралия</th>\n",
       "      <th>Страна_Великобритания</th>\n",
       "      <th>Страна_Германия</th>\n",
       "      <th>Страна_Дания</th>\n",
       "      <th>Страна_Ирландия</th>\n",
       "      <th>...</th>\n",
       "      <th>Жанр_Триллеры</th>\n",
       "      <th>Жанр_Ужасы</th>\n",
       "      <th>Жанр_Фантастика</th>\n",
       "      <th>Жанр_Футбол</th>\n",
       "      <th>Жанр_Фэнтези</th>\n",
       "      <th>Жанр_Экранизации</th>\n",
       "      <th>Жанр_спектакли</th>\n",
       "      <th>Категория_Взрослое</th>\n",
       "      <th>Категория_Детское</th>\n",
       "      <th>Категория_Подростковое</th>\n",
       "    </tr>\n",
       "  </thead>\n",
       "  <tbody>\n",
       "    <tr>\n",
       "      <th>0</th>\n",
       "      <td>2023</td>\n",
       "      <td>0</td>\n",
       "      <td>6</td>\n",
       "      <td>89</td>\n",
       "      <td>8.4</td>\n",
       "      <td>0</td>\n",
       "      <td>0</td>\n",
       "      <td>0</td>\n",
       "      <td>0</td>\n",
       "      <td>0</td>\n",
       "      <td>...</td>\n",
       "      <td>0</td>\n",
       "      <td>0</td>\n",
       "      <td>0</td>\n",
       "      <td>0</td>\n",
       "      <td>0</td>\n",
       "      <td>0</td>\n",
       "      <td>0</td>\n",
       "      <td>0</td>\n",
       "      <td>1</td>\n",
       "      <td>0</td>\n",
       "    </tr>\n",
       "    <tr>\n",
       "      <th>1</th>\n",
       "      <td>2023</td>\n",
       "      <td>0</td>\n",
       "      <td>18</td>\n",
       "      <td>86</td>\n",
       "      <td>7.2</td>\n",
       "      <td>0</td>\n",
       "      <td>0</td>\n",
       "      <td>0</td>\n",
       "      <td>0</td>\n",
       "      <td>0</td>\n",
       "      <td>...</td>\n",
       "      <td>0</td>\n",
       "      <td>0</td>\n",
       "      <td>0</td>\n",
       "      <td>0</td>\n",
       "      <td>0</td>\n",
       "      <td>0</td>\n",
       "      <td>0</td>\n",
       "      <td>1</td>\n",
       "      <td>0</td>\n",
       "      <td>0</td>\n",
       "    </tr>\n",
       "    <tr>\n",
       "      <th>2</th>\n",
       "      <td>2023</td>\n",
       "      <td>0</td>\n",
       "      <td>12</td>\n",
       "      <td>124</td>\n",
       "      <td>8.1</td>\n",
       "      <td>0</td>\n",
       "      <td>0</td>\n",
       "      <td>0</td>\n",
       "      <td>0</td>\n",
       "      <td>0</td>\n",
       "      <td>...</td>\n",
       "      <td>0</td>\n",
       "      <td>0</td>\n",
       "      <td>0</td>\n",
       "      <td>0</td>\n",
       "      <td>0</td>\n",
       "      <td>0</td>\n",
       "      <td>0</td>\n",
       "      <td>0</td>\n",
       "      <td>0</td>\n",
       "      <td>1</td>\n",
       "    </tr>\n",
       "    <tr>\n",
       "      <th>3</th>\n",
       "      <td>2023</td>\n",
       "      <td>0</td>\n",
       "      <td>18</td>\n",
       "      <td>91</td>\n",
       "      <td>7.7</td>\n",
       "      <td>0</td>\n",
       "      <td>0</td>\n",
       "      <td>0</td>\n",
       "      <td>0</td>\n",
       "      <td>0</td>\n",
       "      <td>...</td>\n",
       "      <td>0</td>\n",
       "      <td>0</td>\n",
       "      <td>0</td>\n",
       "      <td>0</td>\n",
       "      <td>0</td>\n",
       "      <td>0</td>\n",
       "      <td>0</td>\n",
       "      <td>1</td>\n",
       "      <td>0</td>\n",
       "      <td>0</td>\n",
       "    </tr>\n",
       "    <tr>\n",
       "      <th>4</th>\n",
       "      <td>2023</td>\n",
       "      <td>0</td>\n",
       "      <td>18</td>\n",
       "      <td>91</td>\n",
       "      <td>6.5</td>\n",
       "      <td>0</td>\n",
       "      <td>0</td>\n",
       "      <td>0</td>\n",
       "      <td>0</td>\n",
       "      <td>0</td>\n",
       "      <td>...</td>\n",
       "      <td>0</td>\n",
       "      <td>0</td>\n",
       "      <td>0</td>\n",
       "      <td>0</td>\n",
       "      <td>0</td>\n",
       "      <td>0</td>\n",
       "      <td>0</td>\n",
       "      <td>1</td>\n",
       "      <td>0</td>\n",
       "      <td>0</td>\n",
       "    </tr>\n",
       "  </tbody>\n",
       "</table>\n",
       "<p>5 rows × 55 columns</p>\n",
       "</div>"
      ],
      "text/plain": [
       "   Год выпуска  Давность  Возрастное ограничение  Продолжительность  Рейтинг  \\\n",
       "0         2023         0                       6                 89      8.4   \n",
       "1         2023         0                      18                 86      7.2   \n",
       "2         2023         0                      12                124      8.1   \n",
       "3         2023         0                      18                 91      7.7   \n",
       "4         2023         0                      18                 91      6.5   \n",
       "\n",
       "   Страна_Австралия  Страна_Великобритания  Страна_Германия  Страна_Дания  \\\n",
       "0                 0                      0                0             0   \n",
       "1                 0                      0                0             0   \n",
       "2                 0                      0                0             0   \n",
       "3                 0                      0                0             0   \n",
       "4                 0                      0                0             0   \n",
       "\n",
       "   Страна_Ирландия  ...  Жанр_Триллеры  Жанр_Ужасы  Жанр_Фантастика  \\\n",
       "0                0  ...              0           0                0   \n",
       "1                0  ...              0           0                0   \n",
       "2                0  ...              0           0                0   \n",
       "3                0  ...              0           0                0   \n",
       "4                0  ...              0           0                0   \n",
       "\n",
       "   Жанр_Футбол  Жанр_Фэнтези  Жанр_Экранизации  Жанр_спектакли  \\\n",
       "0            0             0                 0               0   \n",
       "1            0             0                 0               0   \n",
       "2            0             0                 0               0   \n",
       "3            0             0                 0               0   \n",
       "4            0             0                 0               0   \n",
       "\n",
       "   Категория_Взрослое  Категория_Детское  Категория_Подростковое  \n",
       "0                   0                  1                       0  \n",
       "1                   1                  0                       0  \n",
       "2                   0                  0                       1  \n",
       "3                   1                  0                       0  \n",
       "4                   1                  0                       0  \n",
       "\n",
       "[5 rows x 55 columns]"
      ]
     },
     "execution_count": 30,
     "metadata": {},
     "output_type": "execute_result"
    }
   ],
   "source": [
    "df_ohe=pd.get_dummies(df_ohe) #применяем OHE и увеличиваем число признаков с 7 до 54 (не считая таргетную перемнную)\n",
    "df_ohe.head()"
   ]
  },
  {
   "cell_type": "code",
   "execution_count": 11,
   "id": "38d63923",
   "metadata": {},
   "outputs": [],
   "source": [
    "df_train_ohe, df_test_ohe = train_test_split(df_ohe, test_size=0.2,random_state=45)\n",
    "y_train_ohe = df_train_ohe['Рейтинг'] #всё также по-прежнему делим датафрейм на обучающую и тестовую выборки \n",
    "y_test_ohe = df_test_ohe['Рейтинг'] \n",
    "X_train_ohe = df_train_ohe.drop(['Рейтинг'], axis=1)\n",
    "X_test_ohe = df_test_ohe.drop(['Рейтинг'], axis=1)"
   ]
  },
  {
   "cell_type": "code",
   "execution_count": 12,
   "id": "1809616e",
   "metadata": {},
   "outputs": [],
   "source": [
    "model_ohe=LinearRegression() #обучаем простейшую Линейную регрессию на новом датафрейме\n",
    "model_ohe.fit(X_train_ohe, y_train_ohe)\n",
    "y_pred_ohe=model_ohe.predict(X_test_ohe)"
   ]
  },
  {
   "cell_type": "code",
   "execution_count": 13,
   "id": "0a7e2982",
   "metadata": {},
   "outputs": [
    {
     "name": "stdout",
     "output_type": "stream",
     "text": [
      "MSE = 0.7456\n",
      "MAE = 0.6533\n"
     ]
    }
   ],
   "source": [
    "print(\"MSE = %.4f\" % metrics.mean_squared_error(y_test_ohe, y_pred_ohe))\n",
    "print(\"MAE = %.4f\" % metrics.mean_absolute_error(y_test_ohe,y_pred_ohe))"
   ]
  },
  {
   "cell_type": "markdown",
   "id": "3e627a45",
   "metadata": {},
   "source": [
    "__Промежуточный вывод:__\n",
    "\n",
    "Заметим, что, применяя _one_hot_encoding_, абсолютно все метрики улучшились, давая меньшую ошибку. Поэтому работаем дальше с этими данными, применяя к ним иные способы трансформации значений объясняющих переменных. Например, попробуем стандартизировать наши числовые значения."
   ]
  },
  {
   "cell_type": "code",
   "execution_count": 17,
   "id": "a89e8e67",
   "metadata": {},
   "outputs": [],
   "source": [
    "scaler=StandardScaler() #определяем функцию стандартизации и применяем её к тестовой и обучающей выборкам\n",
    "X_train_ohe_scaled= scaler.fit_transform(X_train_ohe[['Год выпуска','Продолжительность','Давность','Возрастное ограничение']])\n",
    "X_test_ohe_scaled= scaler.transform(X_test_ohe[['Год выпуска','Продолжительность','Давность','Возрастное ограничение']])"
   ]
  },
  {
   "cell_type": "code",
   "execution_count": 18,
   "id": "555851a5",
   "metadata": {},
   "outputs": [],
   "source": [
    "model_ohe_scaler=LinearRegression() #обучаем модель с учетом стандартизации и OHE\n",
    "model_ohe_scaler.fit(X_train_ohe_scaled, y_train_ohe)\n",
    "y_pred_ohe_scaler=model_ohe_scaler.predict(X_test_ohe_scaled)"
   ]
  },
  {
   "cell_type": "code",
   "execution_count": 20,
   "id": "58a7e334",
   "metadata": {},
   "outputs": [
    {
     "name": "stdout",
     "output_type": "stream",
     "text": [
      "MSE = 0.8702\n",
      "MAE = 0.7033\n"
     ]
    }
   ],
   "source": [
    "print(\"MSE = %.4f\" % metrics.mean_squared_error(y_test_ohe, y_pred_ohe_scaler))\n",
    "print(\"MAE = %.4f\" % metrics.mean_absolute_error(y_test_ohe,y_pred_ohe_scaler))"
   ]
  },
  {
   "cell_type": "markdown",
   "id": "7111af81",
   "metadata": {},
   "source": [
    "__Промежуточный вывод:__\n",
    "\n",
    "Скалирование значений преобразованного датасета не даёт нам улучшения метрик, потому что они принимают значения, которые эквивалентны результатам обучения простейшей модели Линейной регрессии без параметров ((\n",
    "Тем не менее, этот результат ожидаем, поскольку моделе, скорее всего, сложно обучиться и понять закономерности входных параметров, когда в датафрейме присутствуют не только числовые показатели нормального распределения, но и категориальные величины, принимающие значения 1 и 0.\n",
    "Несмотря на это, попробуем одновременно применить к изначальному датафрейму стандартизацию и OHE с помощью функции ColumnTransformer, может станет лучше )) "
   ]
  },
  {
   "cell_type": "code",
   "execution_count": 21,
   "id": "d1ead40e",
   "metadata": {},
   "outputs": [],
   "source": [
    "column_transformer = ColumnTransformer([\n",
    "    ('scaling', StandardScaler(), numeric_features),    \n",
    "    ('ohe', OneHotEncoder(handle_unknown=\"ignore\", drop=\"first\"), categorical_features)])"
   ]
  },
  {
   "cell_type": "code",
   "execution_count": 22,
   "id": "5c2addb2",
   "metadata": {},
   "outputs": [],
   "source": [
    "model_lr = Pipeline(steps=[\n",
    "    ('ohe_and_scaling', column_transformer),\n",
    "    ('regression', LinearRegression(n_jobs=-1))])\n",
    "model_pipe =model_lr.fit(X_train, y_train)\n",
    "y_pred_pipe = model_pipe.predict(X_test)"
   ]
  },
  {
   "cell_type": "code",
   "execution_count": 24,
   "id": "15e62515",
   "metadata": {},
   "outputs": [
    {
     "name": "stdout",
     "output_type": "stream",
     "text": [
      "MSE = 0.7454\n",
      "MAE = 0.6535\n"
     ]
    }
   ],
   "source": [
    "print(\"MSE = %.4f\" % metrics.mean_squared_error(y_test, y_pred_pipe))\n",
    "print(\"MAE = %.4f\" % metrics.mean_absolute_error(y_test, y_pred_pipe))"
   ]
  },
  {
   "cell_type": "markdown",
   "id": "40432e23",
   "metadata": {},
   "source": [
    "__Промежуточный вывод:__\n",
    "\n",
    "Используя column_transformer вместе с Pipeline, мы, однако, получаем метрики лучше, чем при последовательном преобразовании  категориальных переменных через one_hot_encoding и стандартизации чисел. Но всё же наши метрики велики, поскольку при изолированном применении лишь OHE мы достигали идентичного результата ((("
   ]
  },
  {
   "cell_type": "markdown",
   "id": "a2da0268",
   "metadata": {},
   "source": [
    "## Боремся с возможным переобучением модели через Ridge и Lasso регрессии"
   ]
  },
  {
   "cell_type": "markdown",
   "id": "1b62aa1a",
   "metadata": {},
   "source": [
    "__Начнём с Ridge регрессии__"
   ]
  },
  {
   "cell_type": "code",
   "execution_count": 25,
   "id": "cab358be",
   "metadata": {},
   "outputs": [],
   "source": [
    "# обучаем модель на данных с преобразованными категориальными перменными (т.к. до этого эта трансформация давала лучшие метрики)\n",
    "model_r = Ridge(alpha=20) # альфа параметр данной модели, предположим он будет равен 20 \n",
    "\n",
    "model_r.fit(X_train_ohe, y_train_ohe)\n",
    "y_pred_r = model_r.predict(X_test_ohe)"
   ]
  },
  {
   "cell_type": "code",
   "execution_count": 27,
   "id": "e2a7b983",
   "metadata": {},
   "outputs": [
    {
     "name": "stdout",
     "output_type": "stream",
     "text": [
      "MSE = 0.7553\n",
      "MAE = 0.6514\n"
     ]
    }
   ],
   "source": [
    "print(\"MSE = %.4f\" % metrics.mean_squared_error(y_test_ohe, y_pred_r))\n",
    "print(\"MAE = %.4f\" % metrics.mean_absolute_error(y_test_ohe, y_pred_r))"
   ]
  },
  {
   "cell_type": "markdown",
   "id": "e01356e5",
   "metadata": {},
   "source": [
    "Пока метрики не поменялись (после обучения Ridge регрессии), поэтому попробуем подобрать параметры для этой модели с помощью перебора по сетке. Может, подобранные оптимальные значения параметров модели дадут лучший результат. "
   ]
  },
  {
   "cell_type": "code",
   "execution_count": 28,
   "id": "9a7602f3",
   "metadata": {},
   "outputs": [
    {
     "name": "stdout",
     "output_type": "stream",
     "text": [
      "3.720236681413066\n",
      "-0.8728844494010802\n"
     ]
    }
   ],
   "source": [
    "alpha = np.logspace(-10, 100,1000) # взяли широкий интервал значений для возможности выбора наиболее подходящего\n",
    "parametr={'alpha':alpha} #решили подбирать наиболее значимый параметр, коэффициент регуляризации, отвечающий за переобучение \n",
    "#модели и за веса признаков в ней\n",
    "\n",
    "ridge=Ridge(random_state=45)\n",
    "searcher = GridSearchCV(\n",
    "    ridge, parametr, \n",
    "    scoring=\"neg_root_mean_squared_error\", cv=10,n_jobs=-1) #решили сделать кросс-валидацию на 10 фолдах, потому что таким образом\n",
    "#в одном фолде получается около 200 наблюдений\n",
    "\n",
    "searcher.fit(X_train_ohe, y_train_ohe) #по-прежнему обучаемся на данных уже с OHE\n",
    "print(searcher.best_params_[\"alpha\"])\n",
    "print(searcher.best_score_)"
   ]
  },
  {
   "cell_type": "code",
   "execution_count": 31,
   "id": "bab17296",
   "metadata": {},
   "outputs": [
    {
     "name": "stdout",
     "output_type": "stream",
     "text": [
      "MSE = 0.7474\n",
      "MAE = 0.6515\n"
     ]
    }
   ],
   "source": [
    "y_pred_r_search = searcher.predict(X_test_ohe)\n",
    "print(\"MSE = %.4f\" % metrics.mean_squared_error(y_test_ohe, y_pred_r_search))\n",
    "print(\"MAE = %.4f\" % metrics.mean_absolute_error(y_test_ohe, y_pred_r_search))"
   ]
  },
  {
   "cell_type": "markdown",
   "id": "5bfa36be",
   "metadata": {},
   "source": [
    "После попытки подобрать оптимальные параметры для Ridge регрессии значения наших метрик изменились только в тысячных, что не говорит о хорошем обучении модели. Теперь снова воспользуемся Pipeline и последовательном Column_transformer и подберем, и обучим нашу модель на исходных данных."
   ]
  },
  {
   "cell_type": "code",
   "execution_count": 32,
   "id": "a72d8daf",
   "metadata": {},
   "outputs": [
    {
     "name": "stdout",
     "output_type": "stream",
     "text": [
      "1.5317404637020862\n",
      "-0.874031582848062\n"
     ]
    }
   ],
   "source": [
    "alpha = np.logspace(-10, 100, 55) #решили пропробовать рассмотреть меньшее кол-во значений для параметра alpha, чтобы код грузился быстрее\n",
    "param_grid = {'regression__alpha': alpha}  # всё также указываем параметр alpha для модели Ridge \n",
    "\n",
    "model_ridge = Pipeline(steps=[\n",
    "    ('ohe_and_scaling', column_transformer),\n",
    "    ('regression', Ridge(random_state=45)) #применяем функцию Column_transformer и объявляем моель\n",
    "])\n",
    "searcher2 = GridSearchCV(\n",
    "    model_ridge, param_grid,\n",
    "    scoring=\"neg_root_mean_squared_error\", cv=10, n_jobs=-1 # решили оптимизироваться на минимизации ошибки MSE, поскольку оно \n",
    ")                                                   # в себе содержит квадрат отклонений, поэтому, скорее всего, MAE в таком случае тоже улучшится\n",
    "searcher2.fit(X_train, y_train)\n",
    "\n",
    "print(searcher2.best_params_[\"regression__alpha\"])  # выводим лучшее значение alpha\n",
    "print(searcher2.best_score_) # выводим лучшее значение метрики"
   ]
  },
  {
   "cell_type": "code",
   "execution_count": 34,
   "id": "9a549e66",
   "metadata": {},
   "outputs": [
    {
     "name": "stdout",
     "output_type": "stream",
     "text": [
      "MSE = 0.7408\n",
      "MAE = 0.6487\n"
     ]
    }
   ],
   "source": [
    "y_pred_r_search2 = searcher2.predict(X_test)\n",
    "print(\"MSE = %.4f\" % metrics.mean_squared_error(y_test, y_pred_r_search2))\n",
    "print(\"MAE = %.4f\" % metrics.mean_absolute_error(y_test, y_pred_r_search2))"
   ]
  },
  {
   "cell_type": "markdown",
   "id": "6c6104bc",
   "metadata": {},
   "source": [
    "__Промежуточный вывод:__\n",
    "\n",
    "К сожалению, после применения модели ridge регрессии и её оптимизации наша метрика незначительно изменилась. Поэтому, наверное, стоит рассмотреть другую модель регуляризации Lasso."
   ]
  },
  {
   "cell_type": "code",
   "execution_count": 35,
   "id": "27ac9dcb",
   "metadata": {},
   "outputs": [
    {
     "name": "stdout",
     "output_type": "stream",
     "text": [
      "0.0004641588833612782\n",
      "-0.7702206766012216\n"
     ]
    }
   ],
   "source": [
    "# решили сразу оптимизировать модель и искать параметры для нее с помощью Pipeline и Column_transformer, \n",
    "# чтоб не писать много лишнего\n",
    "alpha_l = np.logspace(-10, 100, 100) # снова указываем диапазон (рандомно) для подбора значения коэффициента регуляризации \n",
    "param_grid_l = {'regression__alpha': alpha_l}\n",
    "\n",
    "model_lasso = Pipeline(steps=[\n",
    "    ('ohe_and_scaling', column_transformer),\n",
    "    ('regression', Lasso(random_state=45))]) # делаем то же самое, что и в прошлом коде\n",
    "\n",
    "searcher_l = GridSearchCV(\n",
    "    model_lasso, param_grid_l,\n",
    "    scoring=\"neg_mean_squared_error\", cv=10, n_jobs=-1 # вновь по сетке подбираем оптимальный параметр alpha\n",
    ")\n",
    "\n",
    "searcher_l.fit(X_train, y_train)\n",
    "\n",
    "print(searcher_l.best_params_['regression__alpha'])  # Выводим лучшее значение alpha\n",
    "print(searcher_l.best_score_) # выводим лучшее значение метрики"
   ]
  },
  {
   "cell_type": "code",
   "execution_count": 36,
   "id": "1f1d471f",
   "metadata": {},
   "outputs": [
    {
     "name": "stdout",
     "output_type": "stream",
     "text": [
      "MSE = 0.7391\n",
      "MAE = 0.6474\n"
     ]
    }
   ],
   "source": [
    "y_pred_l = searcher_l.predict(X_test)\n",
    "print(\"MSE = %.4f\" % metrics.mean_squared_error(y_test, y_pred_l))\n",
    "print(\"MAE = %.4f\" % metrics.mean_absolute_error(y_test, y_pred_l))"
   ]
  },
  {
   "cell_type": "markdown",
   "id": "63ba427d",
   "metadata": {},
   "source": [
    "Проделываем то же самое только для данных, которые уже заранее были преобразованы с помощью OHE"
   ]
  },
  {
   "cell_type": "code",
   "execution_count": 37,
   "id": "07693a39",
   "metadata": {},
   "outputs": [
    {
     "name": "stdout",
     "output_type": "stream",
     "text": [
      "0.001159364995043967\n",
      "-0.8742372326149702\n"
     ]
    }
   ],
   "source": [
    "alpha_l2 = np.logspace(-10, 100,110) # снова указываем диапазон (рандомно) для подбора значения коэффициента регуляризации \n",
    "parametr_l={'alpha':alpha_l2}\n",
    "\n",
    "lasso=Lasso(random_state=45)\n",
    "searcher_l2 = GridSearchCV(\n",
    "    lasso, parametr_l, \n",
    "    scoring=\"neg_root_mean_squared_error\", cv=10,n_jobs=-1 # вновь по сетке подбираем оптимальный параметр alpha\n",
    ")\n",
    "searcher_l2.fit(X_train_ohe, y_train_ohe)\n",
    "print(searcher_l2.best_params_[\"alpha\"]) # Выводим лучшее значение alpha\n",
    "print(searcher_l2.best_score_) # выводим лучшее значение метрики"
   ]
  },
  {
   "cell_type": "code",
   "execution_count": 38,
   "id": "e42c1d41",
   "metadata": {},
   "outputs": [
    {
     "name": "stdout",
     "output_type": "stream",
     "text": [
      "MSE = 0.7472\n",
      "MAE = 0.6495\n"
     ]
    }
   ],
   "source": [
    "y_pred_l2 = searcher_l2.predict(X_test_ohe)\n",
    "print(\"MSE = %.4f\" % metrics.mean_squared_error(y_test_ohe, y_pred_l2))\n",
    "print(\"MAE = %.4f\" % metrics.mean_absolute_error(y_test_ohe, y_pred_l2))"
   ]
  },
  {
   "cell_type": "markdown",
   "id": "b59a0913",
   "metadata": {},
   "source": [
    "__Промежуточный вывод:__\n",
    "\n",
    "После подборки оптимальных параметров по сетке для Lasso регрессии мы пришли к схожим значениям метрик, которые были ранее ещё получены при оптимизации Ridge регрессии. Соответственно, модель не улучшилась.\n",
    "\n",
    "По этой причине мы решили попробовать обучить другие модели, которые, возможно, будут более релевантны к нашим данным "
   ]
  },
  {
   "cell_type": "markdown",
   "id": "34ac35ce",
   "metadata": {},
   "source": [
    "## Обучаем более сложные/продвинутые модели"
   ]
  },
  {
   "cell_type": "markdown",
   "id": "b705572f",
   "metadata": {},
   "source": [
    "В одном из семинаров был пример, в котором углублённый подбор параметров модели не приводил к лучшим результатам метрики, однако решение вопроса, оказалось, заключалось в применение модели Случаного Леса. Поэтому попробуем её тоже обучить для нашего датафрейма (всё на тех же данных с OHE)."
   ]
  },
  {
   "cell_type": "code",
   "execution_count": 39,
   "id": "f868e5c4",
   "metadata": {},
   "outputs": [],
   "source": [
    "model_forest = RandomForestRegressor(random_state=45,n_estimators=1000) #решили по дефолту установить 1000\n",
    "model_forest.fit(X_train_ohe, y_train_ohe) #обучаем модель\n",
    "pred_f = model_forest.predict(X_test_ohe)"
   ]
  },
  {
   "cell_type": "code",
   "execution_count": 40,
   "id": "0053b890",
   "metadata": {},
   "outputs": [
    {
     "name": "stdout",
     "output_type": "stream",
     "text": [
      "MSE = 0.7238\n",
      "MAE = 0.6177\n"
     ]
    }
   ],
   "source": [
    "print(\"MSE = %.4f\" % metrics.mean_squared_error(y_test_ohe, pred_f))\n",
    "print(\"MAE = %.4f\" % metrics.mean_absolute_error(y_test_ohe, pred_f))"
   ]
  },
  {
   "cell_type": "markdown",
   "id": "08c1d4af",
   "metadata": {},
   "source": [
    "__Промежуточный вывод:__\n",
    "\n",
    "После обучения модели Случайного Леса мы пришли к лучшим результатам (значение обеих метрик улучшилось). Поэтому в дальнейшем будем проводить поиск параметров для этой модели с помощью градиентного спуска применяя Gridsearch, Optuna. Все эти библиотеки являются аналогами для поиска оптимальных параметров, а последняя работает даже быстрее первой. Хоть мы её и не изучали на нашем курсе, в интернет источниках чаще всего приводят именно её в качестве примера лучшего способа оптимизации метрики. "
   ]
  },
  {
   "cell_type": "code",
   "execution_count": 41,
   "id": "9597a026",
   "metadata": {},
   "outputs": [
    {
     "name": "stdout",
     "output_type": "stream",
     "text": [
      "{'max_depth': 8, 'n_estimators': 21}\n",
      "-0.8176636181692187\n"
     ]
    }
   ],
   "source": [
    "n_estimators = np.arange(1,100,10) #при нескольких запусков этого алгоритма, наиболее оптимальным числом деревьев являлось \n",
    "                                    # значение из интервала [1;100]\n",
    "max_depth = np.arange(2,20) # числа были взяты по рандому и из расчёта скорости кода\n",
    "\n",
    "parametr_f={'n_estimators':n_estimators,'max_depth':max_depth} \n",
    "forest=RandomForestRegressor(random_state=41) #объявляем модель\n",
    "searcher_f = GridSearchCV(\n",
    "    forest, parametr_f, \n",
    "    scoring=\"neg_root_mean_squared_error\", cv=10,n_jobs=-1) # подбираем параметры по сетке, минимизируя MSE\n",
    "\n",
    "searcher_f.fit(X_train_ohe, y_train_ohe)\n",
    "print(searcher_f.best_params_) # Выводим лучшее значение для глубины деревьев и их количества \n",
    "print(searcher_f.best_score_)  # выводим лучшее значение метрики"
   ]
  },
  {
   "cell_type": "code",
   "execution_count": 42,
   "id": "30c83e3a",
   "metadata": {},
   "outputs": [
    {
     "name": "stdout",
     "output_type": "stream",
     "text": [
      "MSE = 0.6783\n",
      "MAE = 0.5996\n"
     ]
    }
   ],
   "source": [
    "y_pred_f = searcher_f.predict(X_test_ohe)\n",
    "print(\"MSE = %.4f\" % metrics.mean_squared_error(y_test_ohe, y_pred_f))\n",
    "print(\"MAE = %.4f\" % metrics.mean_absolute_error(y_test_ohe, y_pred_f)) "
   ]
  },
  {
   "cell_type": "markdown",
   "id": "9f382061",
   "metadata": {},
   "source": [
    "__Промежуточный вывод:__\n",
    "\n",
    "_Мы на верном пути_ ))😃😃😃😃😃\n",
    "\n",
    "__Пока это лучшая метрика!!__\n",
    "Тем не менее, как мы упоминали ранее, существуют ещё другие способы подбора параметров для Случайного Леса. Поэтому теперь мы решили посмотреть на лучший результат метрик, которого можно дбиться с помощью XGBRegressor."
   ]
  },
  {
   "cell_type": "code",
   "execution_count": 43,
   "id": "9cdbc849",
   "metadata": {},
   "outputs": [],
   "source": [
    "model_boosting=XGBRegressor(random_state=22) #объявляем модель с дефолтными параметрами\n",
    "model_boosting.fit(X_train_ohe, y_train_ohe)\n",
    "pred_boost=model_boosting.predict(X_test_ohe) # получаем предсказания"
   ]
  },
  {
   "cell_type": "code",
   "execution_count": 44,
   "id": "82cdd893",
   "metadata": {},
   "outputs": [
    {
     "name": "stdout",
     "output_type": "stream",
     "text": [
      "MSE = 0.7486\n",
      "MAE = 0.6278\n"
     ]
    }
   ],
   "source": [
    "print(\"MSE = %.4f\" % metrics.mean_squared_error(y_test_ohe, pred_boost))\n",
    "print(\"MAE = %.4f\" % metrics.mean_absolute_error(y_test_ohe, pred_boost))"
   ]
  },
  {
   "cell_type": "markdown",
   "id": "697cb1f1",
   "metadata": {},
   "source": [
    "__Промежуточный вывод:__\n",
    "\n",
    "Модель, которая по идее должна выдавать лучшие результаты, не оправдала наших надежд, потому что метрики приняли значения хуже тех, что были ранее для простейшей модели Случайного леса в начале этого блока. Но мы не отчаиваемся и переходим к подбору параметров для этой модели и для Случайного леса с помощью Optuna."
   ]
  },
  {
   "cell_type": "code",
   "execution_count": 45,
   "id": "27c98aa8",
   "metadata": {
    "scrolled": true
   },
   "outputs": [
    {
     "name": "stderr",
     "output_type": "stream",
     "text": [
      "\u001b[32m[I 2023-06-14 17:33:22,914]\u001b[0m A new study created in memory with name: no-name-30f0da1a-22af-4973-96a5-4c3bd37bb9c3\u001b[0m\n",
      "\u001b[32m[I 2023-06-14 17:33:23,027]\u001b[0m Trial 0 finished with value: 0.722422516593497 and parameters: {'n_estimators': 30, 'max_depth': 4}. Best is trial 0 with value: 0.722422516593497.\u001b[0m\n",
      "\u001b[32m[I 2023-06-14 17:33:23,298]\u001b[0m Trial 1 finished with value: 0.6780242816959451 and parameters: {'n_estimators': 93, 'max_depth': 10}. Best is trial 1 with value: 0.6780242816959451.\u001b[0m\n",
      "\u001b[32m[I 2023-06-14 17:33:23,409]\u001b[0m Trial 2 finished with value: 0.6646477065899662 and parameters: {'n_estimators': 47, 'max_depth': 6}. Best is trial 2 with value: 0.6646477065899662.\u001b[0m\n",
      "\u001b[32m[I 2023-06-14 17:33:23,572]\u001b[0m Trial 3 finished with value: 0.6852124439182202 and parameters: {'n_estimators': 45, 'max_depth': 13}. Best is trial 2 with value: 0.6646477065899662.\u001b[0m\n",
      "\u001b[32m[I 2023-06-14 17:33:23,737]\u001b[0m Trial 4 finished with value: 0.6603376539039894 and parameters: {'n_estimators': 65, 'max_depth': 7}. Best is trial 4 with value: 0.6603376539039894.\u001b[0m\n",
      "\u001b[32m[I 2023-06-14 17:33:23,859]\u001b[0m Trial 5 finished with value: 0.7150359790402538 and parameters: {'n_estimators': 61, 'max_depth': 4}. Best is trial 4 with value: 0.6603376539039894.\u001b[0m\n",
      "\u001b[32m[I 2023-06-14 17:33:24,026]\u001b[0m Trial 6 finished with value: 0.6811920920029159 and parameters: {'n_estimators': 71, 'max_depth': 5}. Best is trial 4 with value: 0.6603376539039894.\u001b[0m\n",
      "\u001b[32m[I 2023-06-14 17:33:24,237]\u001b[0m Trial 7 finished with value: 0.676781222028708 and parameters: {'n_estimators': 71, 'max_depth': 10}. Best is trial 4 with value: 0.6603376539039894.\u001b[0m\n",
      "\u001b[32m[I 2023-06-14 17:33:24,357]\u001b[0m Trial 8 finished with value: 0.678940084972643 and parameters: {'n_estimators': 33, 'max_depth': 11}. Best is trial 4 with value: 0.6603376539039894.\u001b[0m\n",
      "\u001b[32m[I 2023-06-14 17:33:24,491]\u001b[0m Trial 9 finished with value: 0.6871926766809976 and parameters: {'n_estimators': 35, 'max_depth': 13}. Best is trial 4 with value: 0.6603376539039894.\u001b[0m\n",
      "\u001b[32m[I 2023-06-14 17:33:24,548]\u001b[0m Trial 10 finished with value: 0.6712143230646987 and parameters: {'n_estimators': 11, 'max_depth': 7}. Best is trial 4 with value: 0.6603376539039894.\u001b[0m\n",
      "\u001b[32m[I 2023-06-14 17:33:24,770]\u001b[0m Trial 11 finished with value: 0.6612319321648573 and parameters: {'n_estimators': 89, 'max_depth': 7}. Best is trial 4 with value: 0.6603376539039894.\u001b[0m\n",
      "\u001b[32m[I 2023-06-14 17:33:24,943]\u001b[0m Trial 12 finished with value: 0.8874585343763014 and parameters: {'n_estimators': 97, 'max_depth': 2}. Best is trial 4 with value: 0.6603376539039894.\u001b[0m\n",
      "\u001b[32m[I 2023-06-14 17:33:25,168]\u001b[0m Trial 13 finished with value: 0.6660096832296178 and parameters: {'n_estimators': 83, 'max_depth': 8}. Best is trial 4 with value: 0.6603376539039894.\u001b[0m\n",
      "\u001b[32m[I 2023-06-14 17:33:25,374]\u001b[0m Trial 14 finished with value: 0.6666443116598693 and parameters: {'n_estimators': 76, 'max_depth': 8}. Best is trial 4 with value: 0.6603376539039894.\u001b[0m\n",
      "\u001b[32m[I 2023-06-14 17:33:25,585]\u001b[0m Trial 15 finished with value: 0.6667635705338002 and parameters: {'n_estimators': 85, 'max_depth': 6}. Best is trial 4 with value: 0.6603376539039894.\u001b[0m\n",
      "\u001b[32m[I 2023-06-14 17:33:25,829]\u001b[0m Trial 16 finished with value: 0.7041775735361949 and parameters: {'n_estimators': 61, 'max_depth': 15}. Best is trial 4 with value: 0.6603376539039894.\u001b[0m\n",
      "\u001b[32m[I 2023-06-14 17:33:26,132]\u001b[0m Trial 17 finished with value: 0.6715713105290241 and parameters: {'n_estimators': 91, 'max_depth': 9}. Best is trial 4 with value: 0.6603376539039894.\u001b[0m\n",
      "\u001b[32m[I 2023-06-14 17:33:26,349]\u001b[0m Trial 18 finished with value: 0.7666765142292646 and parameters: {'n_estimators': 100, 'max_depth': 3}. Best is trial 4 with value: 0.6603376539039894.\u001b[0m\n",
      "\u001b[32m[I 2023-06-14 17:33:26,517]\u001b[0m Trial 19 finished with value: 0.6587164795153516 and parameters: {'n_estimators': 60, 'max_depth': 7}. Best is trial 19 with value: 0.6587164795153516.\u001b[0m\n",
      "\u001b[32m[I 2023-06-14 17:33:26,712]\u001b[0m Trial 20 finished with value: 0.6904182302147657 and parameters: {'n_estimators': 53, 'max_depth': 12}. Best is trial 19 with value: 0.6587164795153516.\u001b[0m\n",
      "\u001b[32m[I 2023-06-14 17:33:26,890]\u001b[0m Trial 21 finished with value: 0.6595508376295145 and parameters: {'n_estimators': 63, 'max_depth': 7}. Best is trial 19 with value: 0.6587164795153516.\u001b[0m\n",
      "\u001b[32m[I 2023-06-14 17:33:27,053]\u001b[0m Trial 22 finished with value: 0.6644142475752584 and parameters: {'n_estimators': 61, 'max_depth': 6}. Best is trial 19 with value: 0.6587164795153516.\u001b[0m\n",
      "\u001b[32m[I 2023-06-14 17:33:27,262]\u001b[0m Trial 23 finished with value: 0.6720428501589377 and parameters: {'n_estimators': 68, 'max_depth': 9}. Best is trial 19 with value: 0.6587164795153516.\u001b[0m\n",
      "\u001b[32m[I 2023-06-14 17:33:27,406]\u001b[0m Trial 24 finished with value: 0.659355660697841 and parameters: {'n_estimators': 51, 'max_depth': 7}. Best is trial 19 with value: 0.6587164795153516.\u001b[0m\n",
      "\u001b[32m[I 2023-06-14 17:33:27,523]\u001b[0m Trial 25 finished with value: 0.6776656354757064 and parameters: {'n_estimators': 52, 'max_depth': 5}. Best is trial 19 with value: 0.6587164795153516.\u001b[0m\n",
      "\u001b[32m[I 2023-06-14 17:33:27,682]\u001b[0m Trial 26 finished with value: 0.6618909656376697 and parameters: {'n_estimators': 41, 'max_depth': 8}. Best is trial 19 with value: 0.6587164795153516.\u001b[0m\n",
      "\u001b[32m[I 2023-06-14 17:33:27,778]\u001b[0m Trial 27 finished with value: 0.682115245153637 and parameters: {'n_estimators': 25, 'max_depth': 5}. Best is trial 19 with value: 0.6587164795153516.\u001b[0m\n",
      "\u001b[32m[I 2023-06-14 17:33:27,989]\u001b[0m Trial 28 finished with value: 0.6719175979976828 and parameters: {'n_estimators': 55, 'max_depth': 10}. Best is trial 19 with value: 0.6587164795153516.\u001b[0m\n",
      "\u001b[32m[I 2023-06-14 17:33:28,072]\u001b[0m Trial 29 finished with value: 0.727111940484827 and parameters: {'n_estimators': 21, 'max_depth': 4}. Best is trial 19 with value: 0.6587164795153516.\u001b[0m\n",
      "\u001b[32m[I 2023-06-14 17:33:28,211]\u001b[0m Trial 30 finished with value: 0.6563155717078996 and parameters: {'n_estimators': 40, 'max_depth': 7}. Best is trial 30 with value: 0.6563155717078996.\u001b[0m\n",
      "\u001b[32m[I 2023-06-14 17:33:28,357]\u001b[0m Trial 31 finished with value: 0.6563155717078994 and parameters: {'n_estimators': 40, 'max_depth': 7}. Best is trial 31 with value: 0.6563155717078994.\u001b[0m\n",
      "\u001b[32m[I 2023-06-14 17:33:28,497]\u001b[0m Trial 32 finished with value: 0.6639095748088862 and parameters: {'n_estimators': 41, 'max_depth': 6}. Best is trial 31 with value: 0.6563155717078994.\u001b[0m\n",
      "\u001b[32m[I 2023-06-14 17:33:28,662]\u001b[0m Trial 33 finished with value: 0.6635274893568963 and parameters: {'n_estimators': 47, 'max_depth': 8}. Best is trial 31 with value: 0.6563155717078994.\u001b[0m\n",
      "\u001b[32m[I 2023-06-14 17:33:28,815]\u001b[0m Trial 34 finished with value: 0.6693808151157219 and parameters: {'n_estimators': 38, 'max_depth': 9}. Best is trial 31 with value: 0.6563155717078994.\u001b[0m\n",
      "\u001b[32m[I 2023-06-14 17:33:28,922]\u001b[0m Trial 35 finished with value: 0.6633076035074074 and parameters: {'n_estimators': 25, 'max_depth': 7}. Best is trial 31 with value: 0.6563155717078994.\u001b[0m\n",
      "\u001b[32m[I 2023-06-14 17:33:29,070]\u001b[0m Trial 36 finished with value: 0.6786172521397642 and parameters: {'n_estimators': 46, 'max_depth': 5}. Best is trial 31 with value: 0.6563155717078994.\u001b[0m\n",
      "\u001b[32m[I 2023-06-14 17:33:29,222]\u001b[0m Trial 37 finished with value: 0.665322156872571 and parameters: {'n_estimators': 49, 'max_depth': 6}. Best is trial 31 with value: 0.6563155717078994.\u001b[0m\n",
      "\u001b[32m[I 2023-06-14 17:33:29,382]\u001b[0m Trial 38 finished with value: 0.7661160134640493 and parameters: {'n_estimators': 57, 'max_depth': 3}. Best is trial 31 with value: 0.6563155717078994.\u001b[0m\n",
      "\u001b[32m[I 2023-06-14 17:33:29,516]\u001b[0m Trial 39 finished with value: 0.6835212535006325 and parameters: {'n_estimators': 29, 'max_depth': 11}. Best is trial 31 with value: 0.6563155717078994.\u001b[0m\n",
      "\u001b[32m[I 2023-06-14 17:33:29,687]\u001b[0m Trial 40 finished with value: 0.6679136123436121 and parameters: {'n_estimators': 42, 'max_depth': 9}. Best is trial 31 with value: 0.6563155717078994.\u001b[0m\n",
      "\u001b[32m[I 2023-06-14 17:33:29,872]\u001b[0m Trial 41 finished with value: 0.6594063409478115 and parameters: {'n_estimators': 50, 'max_depth': 7}. Best is trial 31 with value: 0.6563155717078994.\u001b[0m\n"
     ]
    },
    {
     "name": "stderr",
     "output_type": "stream",
     "text": [
      "\u001b[32m[I 2023-06-14 17:33:30,007]\u001b[0m Trial 42 finished with value: 0.6557283539084569 and parameters: {'n_estimators': 35, 'max_depth': 7}. Best is trial 42 with value: 0.6557283539084569.\u001b[0m\n",
      "\u001b[32m[I 2023-06-14 17:33:30,137]\u001b[0m Trial 43 finished with value: 0.6651242888716611 and parameters: {'n_estimators': 35, 'max_depth': 6}. Best is trial 42 with value: 0.6557283539084569.\u001b[0m\n",
      "\u001b[32m[I 2023-06-14 17:33:30,213]\u001b[0m Trial 44 finished with value: 0.6754448029971708 and parameters: {'n_estimators': 16, 'max_depth': 7}. Best is trial 42 with value: 0.6557283539084569.\u001b[0m\n",
      "\u001b[32m[I 2023-06-14 17:33:30,334]\u001b[0m Trial 45 finished with value: 0.6627044151483347 and parameters: {'n_estimators': 31, 'max_depth': 8}. Best is trial 42 with value: 0.6557283539084569.\u001b[0m\n",
      "\u001b[32m[I 2023-06-14 17:33:30,465]\u001b[0m Trial 46 finished with value: 0.6638185792283073 and parameters: {'n_estimators': 38, 'max_depth': 6}. Best is trial 42 with value: 0.6557283539084569.\u001b[0m\n",
      "\u001b[32m[I 2023-06-14 17:33:30,642]\u001b[0m Trial 47 finished with value: 0.6682658669565428 and parameters: {'n_estimators': 43, 'max_depth': 10}. Best is trial 42 with value: 0.6557283539084569.\u001b[0m\n",
      "\u001b[32m[I 2023-06-14 17:33:30,726]\u001b[0m Trial 48 finished with value: 0.723729478983809 and parameters: {'n_estimators': 27, 'max_depth': 4}. Best is trial 42 with value: 0.6557283539084569.\u001b[0m\n",
      "\u001b[32m[I 2023-06-14 17:33:30,990]\u001b[0m Trial 49 finished with value: 0.6665159811734204 and parameters: {'n_estimators': 75, 'max_depth': 8}. Best is trial 42 with value: 0.6557283539084569.\u001b[0m\n",
      "\u001b[32m[I 2023-06-14 17:33:31,171]\u001b[0m Trial 50 finished with value: 0.6787651085742243 and parameters: {'n_estimators': 59, 'max_depth': 5}. Best is trial 42 with value: 0.6557283539084569.\u001b[0m\n",
      "\u001b[32m[I 2023-06-14 17:33:31,363]\u001b[0m Trial 51 finished with value: 0.659355660697841 and parameters: {'n_estimators': 51, 'max_depth': 7}. Best is trial 42 with value: 0.6557283539084569.\u001b[0m\n",
      "\u001b[32m[I 2023-06-14 17:33:31,554]\u001b[0m Trial 52 finished with value: 0.6573472713564329 and parameters: {'n_estimators': 56, 'max_depth': 7}. Best is trial 42 with value: 0.6557283539084569.\u001b[0m\n",
      "\u001b[32m[I 2023-06-14 17:33:31,774]\u001b[0m Trial 53 finished with value: 0.6603376539039894 and parameters: {'n_estimators': 65, 'max_depth': 7}. Best is trial 42 with value: 0.6557283539084569.\u001b[0m\n",
      "\u001b[32m[I 2023-06-14 17:33:31,905]\u001b[0m Trial 54 finished with value: 0.660204002308474 and parameters: {'n_estimators': 37, 'max_depth': 8}. Best is trial 42 with value: 0.6557283539084569.\u001b[0m\n",
      "\u001b[32m[I 2023-06-14 17:33:32,102]\u001b[0m Trial 55 finished with value: 0.662612360786928 and parameters: {'n_estimators': 57, 'max_depth': 6}. Best is trial 42 with value: 0.6557283539084569.\u001b[0m\n",
      "\u001b[32m[I 2023-06-14 17:33:32,267]\u001b[0m Trial 56 finished with value: 0.6585808348917371 and parameters: {'n_estimators': 46, 'max_depth': 7}. Best is trial 42 with value: 0.6557283539084569.\u001b[0m\n",
      "\u001b[32m[I 2023-06-14 17:33:32,444]\u001b[0m Trial 57 finished with value: 0.666854083215658 and parameters: {'n_estimators': 46, 'max_depth': 9}. Best is trial 42 with value: 0.6557283539084569.\u001b[0m\n",
      "\u001b[32m[I 2023-06-14 17:33:32,567]\u001b[0m Trial 58 finished with value: 0.6636060821958241 and parameters: {'n_estimators': 34, 'max_depth': 6}. Best is trial 42 with value: 0.6557283539084569.\u001b[0m\n",
      "\u001b[32m[I 2023-06-14 17:33:32,821]\u001b[0m Trial 59 finished with value: 0.7013070368786657 and parameters: {'n_estimators': 55, 'max_depth': 15}. Best is trial 42 with value: 0.6557283539084569.\u001b[0m\n",
      "\u001b[32m[I 2023-06-14 17:33:32,997]\u001b[0m Trial 60 finished with value: 0.6612326017276475 and parameters: {'n_estimators': 44, 'max_depth': 8}. Best is trial 42 with value: 0.6557283539084569.\u001b[0m\n",
      "\u001b[32m[I 2023-06-14 17:33:33,138]\u001b[0m Trial 61 finished with value: 0.6558011996545854 and parameters: {'n_estimators': 39, 'max_depth': 7}. Best is trial 42 with value: 0.6557283539084569.\u001b[0m\n",
      "\u001b[32m[I 2023-06-14 17:33:33,267]\u001b[0m Trial 62 finished with value: 0.6547061902581162 and parameters: {'n_estimators': 32, 'max_depth': 7}. Best is trial 62 with value: 0.6547061902581162.\u001b[0m\n",
      "\u001b[32m[I 2023-06-14 17:33:33,389]\u001b[0m Trial 63 finished with value: 0.6557491605871436 and parameters: {'n_estimators': 31, 'max_depth': 7}. Best is trial 62 with value: 0.6547061902581162.\u001b[0m\n",
      "\u001b[32m[I 2023-06-14 17:33:33,478]\u001b[0m Trial 64 finished with value: 0.6857839088745215 and parameters: {'n_estimators': 19, 'max_depth': 5}. Best is trial 62 with value: 0.6547061902581162.\u001b[0m\n",
      "\u001b[32m[I 2023-06-14 17:33:33,604]\u001b[0m Trial 65 finished with value: 0.6627044151483347 and parameters: {'n_estimators': 31, 'max_depth': 8}. Best is trial 62 with value: 0.6547061902581162.\u001b[0m\n",
      "\u001b[32m[I 2023-06-14 17:33:33,704]\u001b[0m Trial 66 finished with value: 0.6715955995269838 and parameters: {'n_estimators': 23, 'max_depth': 6}. Best is trial 62 with value: 0.6547061902581162.\u001b[0m\n",
      "\u001b[32m[I 2023-06-14 17:33:33,852]\u001b[0m Trial 67 finished with value: 0.6611503956555743 and parameters: {'n_estimators': 39, 'max_depth': 8}. Best is trial 62 with value: 0.6547061902581162.\u001b[0m\n",
      "\u001b[32m[I 2023-06-14 17:33:33,973]\u001b[0m Trial 68 finished with value: 0.6547061902581162 and parameters: {'n_estimators': 32, 'max_depth': 7}. Best is trial 62 with value: 0.6547061902581162.\u001b[0m\n",
      "\u001b[32m[I 2023-06-14 17:33:34,082]\u001b[0m Trial 69 finished with value: 0.7200580859782579 and parameters: {'n_estimators': 32, 'max_depth': 4}. Best is trial 62 with value: 0.6547061902581162.\u001b[0m\n",
      "\u001b[32m[I 2023-06-14 17:33:34,184]\u001b[0m Trial 70 finished with value: 0.683259755994782 and parameters: {'n_estimators': 27, 'max_depth': 9}. Best is trial 62 with value: 0.6547061902581162.\u001b[0m\n",
      "\u001b[32m[I 2023-06-14 17:33:34,294]\u001b[0m Trial 71 finished with value: 0.6545400786119075 and parameters: {'n_estimators': 34, 'max_depth': 7}. Best is trial 71 with value: 0.6545400786119075.\u001b[0m\n",
      "\u001b[32m[I 2023-06-14 17:33:34,404]\u001b[0m Trial 72 finished with value: 0.6557283539084567 and parameters: {'n_estimators': 35, 'max_depth': 7}. Best is trial 71 with value: 0.6545400786119075.\u001b[0m\n",
      "\u001b[32m[I 2023-06-14 17:33:34,509]\u001b[0m Trial 73 finished with value: 0.6539613942200225 and parameters: {'n_estimators': 36, 'max_depth': 7}. Best is trial 73 with value: 0.6539613942200225.\u001b[0m\n",
      "\u001b[32m[I 2023-06-14 17:33:34,627]\u001b[0m Trial 74 finished with value: 0.6651242888716611 and parameters: {'n_estimators': 35, 'max_depth': 6}. Best is trial 73 with value: 0.6539613942200225.\u001b[0m\n",
      "\u001b[32m[I 2023-06-14 17:33:34,725]\u001b[0m Trial 75 finished with value: 0.6621167493259166 and parameters: {'n_estimators': 29, 'max_depth': 7}. Best is trial 73 with value: 0.6539613942200225.\u001b[0m\n",
      "\u001b[32m[I 2023-06-14 17:33:34,804]\u001b[0m Trial 76 finished with value: 0.6807805558805918 and parameters: {'n_estimators': 14, 'max_depth': 8}. Best is trial 73 with value: 0.6539613942200225.\u001b[0m\n",
      "\u001b[32m[I 2023-06-14 17:33:34,930]\u001b[0m Trial 77 finished with value: 0.6682397557356937 and parameters: {'n_estimators': 36, 'max_depth': 9}. Best is trial 73 with value: 0.6539613942200225.\u001b[0m\n",
      "\u001b[32m[I 2023-06-14 17:33:35,008]\u001b[0m Trial 78 finished with value: 0.6816341982393062 and parameters: {'n_estimators': 27, 'max_depth': 5}. Best is trial 73 with value: 0.6539613942200225.\u001b[0m\n",
      "\u001b[32m[I 2023-06-14 17:33:35,091]\u001b[0m Trial 79 finished with value: 0.6742553402045592 and parameters: {'n_estimators': 21, 'max_depth': 6}. Best is trial 73 with value: 0.6539613942200225.\u001b[0m\n",
      "\u001b[32m[I 2023-06-14 17:33:35,189]\u001b[0m Trial 80 finished with value: 0.6538249596151552 and parameters: {'n_estimators': 33, 'max_depth': 7}. Best is trial 80 with value: 0.6538249596151552.\u001b[0m\n",
      "\u001b[32m[I 2023-06-14 17:33:35,303]\u001b[0m Trial 81 finished with value: 0.6547061902581162 and parameters: {'n_estimators': 32, 'max_depth': 7}. Best is trial 80 with value: 0.6538249596151552.\u001b[0m\n",
      "\u001b[32m[I 2023-06-14 17:33:35,424]\u001b[0m Trial 82 finished with value: 0.661983109738905 and parameters: {'n_estimators': 33, 'max_depth': 8}. Best is trial 80 with value: 0.6538249596151552.\u001b[0m\n",
      "\u001b[32m[I 2023-06-14 17:33:35,508]\u001b[0m Trial 83 finished with value: 0.6694570794004 and parameters: {'n_estimators': 29, 'max_depth': 6}. Best is trial 80 with value: 0.6538249596151552.\u001b[0m\n",
      "\u001b[32m[I 2023-06-14 17:33:35,591]\u001b[0m Trial 84 finished with value: 0.6633076035074074 and parameters: {'n_estimators': 25, 'max_depth': 7}. Best is trial 80 with value: 0.6538249596151552.\u001b[0m\n"
     ]
    },
    {
     "name": "stderr",
     "output_type": "stream",
     "text": [
      "\u001b[32m[I 2023-06-14 17:33:35,706]\u001b[0m Trial 85 finished with value: 0.6538249596151552 and parameters: {'n_estimators': 33, 'max_depth': 7}. Best is trial 80 with value: 0.6538249596151552.\u001b[0m\n",
      "\u001b[32m[I 2023-06-14 17:33:35,809]\u001b[0m Trial 86 finished with value: 0.661983109738905 and parameters: {'n_estimators': 33, 'max_depth': 8}. Best is trial 80 with value: 0.6538249596151552.\u001b[0m\n",
      "\u001b[32m[I 2023-06-14 17:33:35,921]\u001b[0m Trial 87 finished with value: 0.6777810793269332 and parameters: {'n_estimators': 36, 'max_depth': 5}. Best is trial 80 with value: 0.6538249596151552.\u001b[0m\n",
      "\u001b[32m[I 2023-06-14 17:33:36,000]\u001b[0m Trial 88 finished with value: 0.6715955995269838 and parameters: {'n_estimators': 23, 'max_depth': 6}. Best is trial 80 with value: 0.6538249596151552.\u001b[0m\n",
      "\u001b[32m[I 2023-06-14 17:33:36,123]\u001b[0m Trial 89 finished with value: 0.6574970297935904 and parameters: {'n_estimators': 42, 'max_depth': 7}. Best is trial 80 with value: 0.6538249596151552.\u001b[0m\n",
      "\u001b[32m[I 2023-06-14 17:33:36,236]\u001b[0m Trial 90 finished with value: 0.6627302570460204 and parameters: {'n_estimators': 28, 'max_depth': 7}. Best is trial 80 with value: 0.6538249596151552.\u001b[0m\n",
      "\u001b[32m[I 2023-06-14 17:33:36,341]\u001b[0m Trial 91 finished with value: 0.6627044151483347 and parameters: {'n_estimators': 31, 'max_depth': 8}. Best is trial 80 with value: 0.6538249596151552.\u001b[0m\n",
      "\u001b[32m[I 2023-06-14 17:33:36,442]\u001b[0m Trial 92 finished with value: 0.6545400786119075 and parameters: {'n_estimators': 34, 'max_depth': 7}. Best is trial 80 with value: 0.6538249596151552.\u001b[0m\n",
      "\u001b[32m[I 2023-06-14 17:33:36,540]\u001b[0m Trial 93 finished with value: 0.663606082195824 and parameters: {'n_estimators': 34, 'max_depth': 6}. Best is trial 80 with value: 0.6538249596151552.\u001b[0m\n",
      "\u001b[32m[I 2023-06-14 17:33:36,654]\u001b[0m Trial 94 finished with value: 0.6540707274031197 and parameters: {'n_estimators': 37, 'max_depth': 7}. Best is trial 80 with value: 0.6538249596151552.\u001b[0m\n",
      "\u001b[32m[I 2023-06-14 17:33:36,771]\u001b[0m Trial 95 finished with value: 0.65407072740312 and parameters: {'n_estimators': 37, 'max_depth': 7}. Best is trial 80 with value: 0.6538249596151552.\u001b[0m\n",
      "\u001b[32m[I 2023-06-14 17:33:36,888]\u001b[0m Trial 96 finished with value: 0.6616806798973126 and parameters: {'n_estimators': 38, 'max_depth': 8}. Best is trial 80 with value: 0.6538249596151552.\u001b[0m\n",
      "\u001b[32m[I 2023-06-14 17:33:36,974]\u001b[0m Trial 97 finished with value: 0.6633076035074074 and parameters: {'n_estimators': 25, 'max_depth': 7}. Best is trial 80 with value: 0.6538249596151552.\u001b[0m\n",
      "\u001b[32m[I 2023-06-14 17:33:37,105]\u001b[0m Trial 98 finished with value: 0.6651467431043335 and parameters: {'n_estimators': 48, 'max_depth': 6}. Best is trial 80 with value: 0.6538249596151552.\u001b[0m\n",
      "\u001b[32m[I 2023-06-14 17:33:37,222]\u001b[0m Trial 99 finished with value: 0.6563155717078996 and parameters: {'n_estimators': 40, 'max_depth': 7}. Best is trial 80 with value: 0.6538249596151552.\u001b[0m\n"
     ]
    },
    {
     "name": "stdout",
     "output_type": "stream",
     "text": [
      "0.6538249596151552\n",
      "{'n_estimators': 33, 'max_depth': 7}\n"
     ]
    }
   ],
   "source": [
    "def objective(trial): #https://www.kaggle.com/code/listeningtounity/random-forest-with-optuna идея кода\n",
    "    global X_train_ohe\n",
    "    global y_train_ohe # на всякий случай вызовем эти перемнные, чтоб функция понимали, что они заданы из вне\n",
    "    global y_test_ohe\n",
    "    global X_test_ohe\n",
    "    n_estimators= trial.suggest_int(\"n_estimators\",10,100) # параметр, указывающий кол-во деревьев\n",
    "    max_depth = trial.suggest_int(\"max_depth\", 2, 15) # глубина дерева, наверное, насколько много ветвлений в нем\n",
    "    mod = RandomForestRegressor(random_state=45,n_estimators=n_estimators,max_depth=max_depth, n_jobs=-1) # вызываем модель случайного леса и передаём ей подобранные параметры\n",
    "    mod.fit(X_train_ohe,y_train_ohe) # обучаем модель случайного леса на обучающей выборке\n",
    "    prediction = mod.predict(X_test_ohe)\n",
    "    mse=metrics.mean_squared_error(y_test_ohe,prediction) # снова решаем оптимизировать по MSE, считая, что эта метрика потянет за собой и MAE вниз\n",
    "    return mse \n",
    "\n",
    "\n",
    "study = optuna.create_study(direction=\"minimize\") # создаём объект обучения с целью минимизации получаемой на выходе MSE\n",
    "study.optimize(objective,n_trials=100)# оптимизируем подбор гиперпараметров с помощью функции, написанной выше, и проделываем 100 итераций для поиска минимума\n",
    "trial = study.best_trial # обращаемся к лучшей итерации (с минимальной метрикой)\n",
    "print(trial.value) # выводим метрику лучшей итерации\n",
    "print(trial.params) # выводим параметры лучшей итерации"
   ]
  },
  {
   "cell_type": "code",
   "execution_count": 46,
   "id": "cb14140f",
   "metadata": {},
   "outputs": [
    {
     "name": "stdout",
     "output_type": "stream",
     "text": [
      "MSE = 0.6597\n",
      "MAE = 0.5896\n"
     ]
    }
   ],
   "source": [
    "model_optuna_for = RandomForestRegressor(n_estimators=33, max_depth= 7, random_state=29) \n",
    "# взяли параметры, полученные из модели выше и зафиксировали random на значении, при котором метрика наименьшая\n",
    "model_optuna_for.fit(X_train_ohe,y_train_ohe)\n",
    "prob_forest=model_optuna_for.predict(X_test_ohe)\n",
    "print(\"MSE = %.4f\" % metrics.mean_squared_error(y_test_ohe, prob_forest))\n",
    "print(\"MAE = %.4f\" % metrics.mean_absolute_error(y_test_ohe, prob_forest))"
   ]
  },
  {
   "cell_type": "markdown",
   "id": "a945203a",
   "metadata": {},
   "source": [
    "__Промежуточный вывод:__\n",
    "\n",
    "__Ваааааууу!!__\n",
    "Результат данного подбора гиперпараметров удивил, потому что значения метрики стали меньше тех, что были рассчитаны на основе гиперпараметров для этой же модели Случайного Леса с помощью перебора о сетке. Но у нас ещё есть XGBRegressor, который также стоит попробовать оптимизировать на Optuna."
   ]
  },
  {
   "cell_type": "code",
   "execution_count": 47,
   "id": "6856e054",
   "metadata": {
    "scrolled": true
   },
   "outputs": [
    {
     "name": "stderr",
     "output_type": "stream",
     "text": [
      "\u001b[32m[I 2023-06-14 17:48:07,486]\u001b[0m A new study created in memory with name: no-name-7b8aafce-114c-4c44-b46c-db54f08bab7d\u001b[0m\n",
      "\u001b[32m[I 2023-06-14 17:48:07,818]\u001b[0m Trial 0 finished with value: 0.7554080504847738 and parameters: {'booster': 'gbtree', 'alpha': 0.13752571529091007, 'subsample': 0.9392731081951241, 'colsample_bytree': 0.42188123550663403, 'max_depth': 7, 'min_child_weight': 10, 'eta': 0.3975239907979913, 'gamma': 0.0010122647118953393}. Best is trial 0 with value: 0.7554080504847738.\u001b[0m\n",
      "\u001b[32m[I 2023-06-14 17:48:09,250]\u001b[0m Trial 1 finished with value: 32.27873146738072 and parameters: {'booster': 'dart', 'alpha': 0.18825397368568042, 'subsample': 0.6573422283908131, 'colsample_bytree': 0.06413066024122765, 'max_depth': 5, 'min_child_weight': 6, 'eta': 0.0018674147594982126, 'gamma': 0.23678503991676378}. Best is trial 0 with value: 0.7554080504847738.\u001b[0m\n",
      "\u001b[32m[I 2023-06-14 17:48:09,469]\u001b[0m Trial 2 finished with value: 1.0005940341636081 and parameters: {'booster': 'gbtree', 'alpha': 0.186137799907708, 'subsample': 0.6851594111107726, 'colsample_bytree': 0.022842951934218782, 'max_depth': 5, 'min_child_weight': 10, 'eta': 0.0655437534973468, 'gamma': 0.013905378813129572}. Best is trial 0 with value: 0.7554080504847738.\u001b[0m\n",
      "\u001b[32m[I 2023-06-14 17:48:09,741]\u001b[0m Trial 3 finished with value: 0.7176497938732593 and parameters: {'booster': 'gbtree', 'alpha': 0.027873348313931838, 'subsample': 0.9670037591273076, 'colsample_bytree': 0.11362451941125747, 'max_depth': 7, 'min_child_weight': 5, 'eta': 0.3505051946154204, 'gamma': 0.005908583806138725}. Best is trial 3 with value: 0.7176497938732593.\u001b[0m\n",
      "\u001b[32m[I 2023-06-14 17:48:09,971]\u001b[0m Trial 4 finished with value: 25.818730935445377 and parameters: {'booster': 'gbtree', 'alpha': 0.02547363389583788, 'subsample': 0.7797566579114762, 'colsample_bytree': 0.21379032469522546, 'max_depth': 5, 'min_child_weight': 7, 'eta': 0.003019276809267814, 'gamma': 0.03918982749619131}. Best is trial 3 with value: 0.7176497938732593.\u001b[0m\n",
      "\u001b[32m[I 2023-06-14 17:48:11,937]\u001b[0m Trial 5 finished with value: 0.6939397715128885 and parameters: {'booster': 'dart', 'alpha': 0.4819443868954589, 'subsample': 0.8551529322687019, 'colsample_bytree': 0.4956157706627729, 'max_depth': 9, 'min_child_weight': 9, 'eta': 0.11102181759523229, 'gamma': 0.009206094431256686}. Best is trial 5 with value: 0.6939397715128885.\u001b[0m\n",
      "\u001b[32m[I 2023-06-14 17:48:12,149]\u001b[0m Trial 6 finished with value: 0.9433401414096841 and parameters: {'booster': 'gblinear', 'alpha': 0.12849668301420766, 'subsample': 0.7938401811742508, 'colsample_bytree': 0.48488998686559237, 'max_depth': 6, 'min_child_weight': 5, 'eta': 0.16403763693025922, 'gamma': 0.0030371791114927643}. Best is trial 5 with value: 0.6939397715128885.\u001b[0m\n",
      "\u001b[32m[I 2023-06-14 17:48:12,398]\u001b[0m Trial 7 finished with value: 36.445713322237815 and parameters: {'booster': 'gbtree', 'alpha': 0.04329748814721747, 'subsample': 0.6185060447647135, 'colsample_bytree': 0.49363907537004076, 'max_depth': 2, 'min_child_weight': 7, 'eta': 0.00124581389381428, 'gamma': 0.012850631235175818}. Best is trial 5 with value: 0.6939397715128885.\u001b[0m\n",
      "\u001b[32m[I 2023-06-14 17:48:14,126]\u001b[0m Trial 8 finished with value: 0.7202339012527337 and parameters: {'booster': 'dart', 'alpha': 0.051892445346176916, 'subsample': 0.6659041428667088, 'colsample_bytree': 0.346148024670096, 'max_depth': 6, 'min_child_weight': 7, 'eta': 0.2276377425503488, 'gamma': 0.24096556135777153}. Best is trial 5 with value: 0.6939397715128885.\u001b[0m\n",
      "\u001b[32m[I 2023-06-14 17:48:14,343]\u001b[0m Trial 9 finished with value: 0.6714065652084346 and parameters: {'booster': 'gbtree', 'alpha': 0.35808062459914497, 'subsample': 0.7250215682503036, 'colsample_bytree': 0.1995886740035151, 'max_depth': 2, 'min_child_weight': 6, 'eta': 0.12560567161858024, 'gamma': 0.036466845631859666}. Best is trial 9 with value: 0.6714065652084346.\u001b[0m\n",
      "\u001b[32m[I 2023-06-14 17:48:14,579]\u001b[0m Trial 10 finished with value: 1.1087515030105843 and parameters: {'booster': 'gblinear', 'alpha': 0.7166124500250545, 'subsample': 0.7346391504591773, 'colsample_bytree': 0.20586857999589586, 'max_depth': 1, 'min_child_weight': 6, 'eta': 0.03282327908358361, 'gamma': 0.050780939589074175}. Best is trial 9 with value: 0.6714065652084346.\u001b[0m\n",
      "\u001b[32m[I 2023-06-14 17:48:15,980]\u001b[0m Trial 11 finished with value: 0.6660701711218033 and parameters: {'booster': 'dart', 'alpha': 0.546202801597884, 'subsample': 0.8765239711146859, 'colsample_bytree': 0.31847699389733425, 'max_depth': 9, 'min_child_weight': 9, 'eta': 0.08582542324352446, 'gamma': 0.05631566483856087}. Best is trial 11 with value: 0.6660701711218033.\u001b[0m\n",
      "\u001b[32m[I 2023-06-14 17:48:17,209]\u001b[0m Trial 12 finished with value: 0.6769466953881194 and parameters: {'booster': 'dart', 'alpha': 0.36352909290451185, 'subsample': 0.8578655323269603, 'colsample_bytree': 0.3038886589120629, 'max_depth': 3, 'min_child_weight': 9, 'eta': 0.05591659286606119, 'gamma': 0.0609095005128589}. Best is trial 11 with value: 0.6660701711218033.\u001b[0m\n",
      "\u001b[32m[I 2023-06-14 17:48:18,486]\u001b[0m Trial 13 finished with value: 2.4536011303430763 and parameters: {'booster': 'dart', 'alpha': 0.8781429012721821, 'subsample': 0.7373221106660445, 'colsample_bytree': 0.2774330073749499, 'max_depth': 9, 'min_child_weight': 8, 'eta': 0.016495650082914808, 'gamma': 0.08241772383881098}. Best is trial 11 with value: 0.6660701711218033.\u001b[0m\n",
      "\u001b[32m[I 2023-06-14 17:48:18,746]\u001b[0m Trial 14 finished with value: 0.959104980022466 and parameters: {'booster': 'gblinear', 'alpha': 0.3605586517771171, 'subsample': 0.8588965750269871, 'colsample_bytree': 0.16307031785912005, 'max_depth': 2, 'min_child_weight': 8, 'eta': 0.1248281525958234, 'gamma': 0.0291504473726476}. Best is trial 11 with value: 0.6660701711218033.\u001b[0m\n",
      "\u001b[32m[I 2023-06-14 17:48:19,048]\u001b[0m Trial 15 finished with value: 2.2936599470163213 and parameters: {'booster': 'gbtree', 'alpha': 0.9528866632497257, 'subsample': 0.8982190449028095, 'colsample_bytree': 0.3332886317261149, 'max_depth': 3, 'min_child_weight': 9, 'eta': 0.016987039107492954, 'gamma': 0.10793635224271263}. Best is trial 11 with value: 0.6660701711218033.\u001b[0m\n",
      "\u001b[32m[I 2023-06-14 17:48:20,427]\u001b[0m Trial 16 finished with value: 0.7158424553973874 and parameters: {'booster': 'dart', 'alpha': 0.27150160204425355, 'subsample': 0.9862730640915112, 'colsample_bytree': 0.23309543552146797, 'max_depth': 8, 'min_child_weight': 6, 'eta': 0.42392693384103725, 'gamma': 0.42039167031383573}. Best is trial 11 with value: 0.6660701711218033.\u001b[0m\n",
      "\u001b[32m[I 2023-06-14 17:48:20,739]\u001b[0m Trial 17 finished with value: 0.6956511842825477 and parameters: {'booster': 'gbtree', 'alpha': 0.5039396283120957, 'subsample': 0.8241890702743031, 'colsample_bytree': 0.14182256322106954, 'max_depth': 4, 'min_child_weight': 8, 'eta': 0.07245869493173848, 'gamma': 0.02250448137171654}. Best is trial 11 with value: 0.6660701711218033.\u001b[0m\n",
      "\u001b[32m[I 2023-06-14 17:48:21,964]\u001b[0m Trial 18 finished with value: 0.9339180731373677 and parameters: {'booster': 'dart', 'alpha': 0.010916853538370566, 'subsample': 0.915317406304092, 'colsample_bytree': 0.26013537027106426, 'max_depth': 1, 'min_child_weight': 9, 'eta': 0.032358407696329486, 'gamma': 0.11283823251915279}. Best is trial 11 with value: 0.6660701711218033.\u001b[0m\n",
      "\u001b[32m[I 2023-06-14 17:48:22,216]\u001b[0m Trial 19 finished with value: 0.9343318736559705 and parameters: {'booster': 'gblinear', 'alpha': 0.5627116866002045, 'subsample': 0.7494114740077595, 'colsample_bytree': 0.35765270129223076, 'max_depth': 4, 'min_child_weight': 6, 'eta': 0.20378948517475706, 'gamma': 0.029552749085900276}. Best is trial 11 with value: 0.6660701711218033.\u001b[0m\n",
      "\u001b[32m[I 2023-06-14 17:48:23,462]\u001b[0m Trial 20 finished with value: 7.7999851203897865 and parameters: {'booster': 'dart', 'alpha': 0.2620540008674671, 'subsample': 0.998903791086497, 'colsample_bytree': 0.1824196716594033, 'max_depth': 8, 'min_child_weight': 10, 'eta': 0.009399848881752269, 'gamma': 0.04423120973795448}. Best is trial 11 with value: 0.6660701711218033.\u001b[0m\n",
      "\u001b[32m[I 2023-06-14 17:48:24,942]\u001b[0m Trial 21 finished with value: 0.6644453438254363 and parameters: {'booster': 'dart', 'alpha': 0.3627150662001023, 'subsample': 0.8762038307587208, 'colsample_bytree': 0.30591804261124544, 'max_depth': 3, 'min_child_weight': 9, 'eta': 0.06635716725027625, 'gamma': 0.07403891107453021}. Best is trial 21 with value: 0.6644453438254363.\u001b[0m\n"
     ]
    },
    {
     "name": "stderr",
     "output_type": "stream",
     "text": [
      "\u001b[32m[I 2023-06-14 17:48:26,647]\u001b[0m Trial 22 finished with value: 0.6639145524344728 and parameters: {'booster': 'dart', 'alpha': 0.652866833044533, 'subsample': 0.8256578091006123, 'colsample_bytree': 0.26753599111798654, 'max_depth': 3, 'min_child_weight': 8, 'eta': 0.0969728486527461, 'gamma': 0.07633372704184811}. Best is trial 22 with value: 0.6639145524344728.\u001b[0m\n",
      "\u001b[32m[I 2023-06-14 17:48:28,459]\u001b[0m Trial 23 finished with value: 0.6573576089642539 and parameters: {'booster': 'dart', 'alpha': 0.6499268682135004, 'subsample': 0.8922220346350335, 'colsample_bytree': 0.27786652164527625, 'max_depth': 3, 'min_child_weight': 8, 'eta': 0.07915557383598433, 'gamma': 0.08980243067043218}. Best is trial 23 with value: 0.6573576089642539.\u001b[0m\n",
      "\u001b[32m[I 2023-06-14 17:48:30,098]\u001b[0m Trial 24 finished with value: 0.7281485721053146 and parameters: {'booster': 'dart', 'alpha': 0.9469693374873538, 'subsample': 0.824792468535288, 'colsample_bytree': 0.2659819323458033, 'max_depth': 3, 'min_child_weight': 8, 'eta': 0.04048885384044858, 'gamma': 0.1462334775264731}. Best is trial 23 with value: 0.6573576089642539.\u001b[0m\n",
      "\u001b[32m[I 2023-06-14 17:48:31,426]\u001b[0m Trial 25 finished with value: 0.6709238383317986 and parameters: {'booster': 'dart', 'alpha': 0.6652870283120913, 'subsample': 0.920952871709719, 'colsample_bytree': 0.2879111215768999, 'max_depth': 4, 'min_child_weight': 8, 'eta': 0.04960889065927982, 'gamma': 0.08680902206981447}. Best is trial 23 with value: 0.6573576089642539.\u001b[0m\n",
      "\u001b[32m[I 2023-06-14 17:48:32,710]\u001b[0m Trial 26 finished with value: 0.6541746715580649 and parameters: {'booster': 'dart', 'alpha': 0.7374566040340624, 'subsample': 0.8900996481587584, 'colsample_bytree': 0.24221648820012842, 'max_depth': 3, 'min_child_weight': 7, 'eta': 0.08822445291093081, 'gamma': 0.17592027308378913}. Best is trial 26 with value: 0.6541746715580649.\u001b[0m\n",
      "\u001b[32m[I 2023-06-14 17:48:34,049]\u001b[0m Trial 27 finished with value: 0.6637516062108748 and parameters: {'booster': 'dart', 'alpha': 0.700617928635821, 'subsample': 0.9407153814903442, 'colsample_bytree': 0.2400847820306727, 'max_depth': 2, 'min_child_weight': 7, 'eta': 0.21900200126868594, 'gamma': 0.15916731301481518}. Best is trial 26 with value: 0.6541746715580649.\u001b[0m\n",
      "\u001b[32m[I 2023-06-14 17:48:35,275]\u001b[0m Trial 28 finished with value: 0.71349270847375 and parameters: {'booster': 'dart', 'alpha': 0.9174230593712094, 'subsample': 0.9567055613988376, 'colsample_bytree': 0.2288043541910763, 'max_depth': 1, 'min_child_weight': 7, 'eta': 0.2620051492883244, 'gamma': 0.17354012158809679}. Best is trial 26 with value: 0.6541746715580649.\u001b[0m\n",
      "\u001b[32m[I 2023-06-14 17:48:36,663]\u001b[0m Trial 29 finished with value: 0.661150174359355 and parameters: {'booster': 'dart', 'alpha': 0.6862116101962907, 'subsample': 0.9395638482736374, 'colsample_bytree': 0.3736014590581128, 'max_depth': 2, 'min_child_weight': 7, 'eta': 0.16793250891997086, 'gamma': 0.47867872235517145}. Best is trial 26 with value: 0.6541746715580649.\u001b[0m\n",
      "\u001b[32m[I 2023-06-14 17:48:38,161]\u001b[0m Trial 30 finished with value: 0.6849492294767264 and parameters: {'booster': 'dart', 'alpha': 0.43187535574581376, 'subsample': 0.924874848003251, 'colsample_bytree': 0.3894713884497087, 'max_depth': 4, 'min_child_weight': 7, 'eta': 0.4910776846699998, 'gamma': 0.49169111516384234}. Best is trial 26 with value: 0.6541746715580649.\u001b[0m\n",
      "\u001b[32m[I 2023-06-14 17:48:39,433]\u001b[0m Trial 31 finished with value: 0.6681569670080246 and parameters: {'booster': 'dart', 'alpha': 0.7183369175450901, 'subsample': 0.9431680674688263, 'colsample_bytree': 0.24237651006809524, 'max_depth': 2, 'min_child_weight': 7, 'eta': 0.1702264918013232, 'gamma': 0.3084917761062904}. Best is trial 26 with value: 0.6541746715580649.\u001b[0m\n",
      "\u001b[32m[I 2023-06-14 17:48:40,901]\u001b[0m Trial 32 finished with value: 0.6642308253121003 and parameters: {'booster': 'dart', 'alpha': 0.6955670856451083, 'subsample': 0.9521011396541237, 'colsample_bytree': 0.3889462526950515, 'max_depth': 2, 'min_child_weight': 7, 'eta': 0.2356701085961055, 'gamma': 0.1810839532863373}. Best is trial 26 with value: 0.6541746715580649.\u001b[0m\n",
      "\u001b[32m[I 2023-06-14 17:48:42,587]\u001b[0m Trial 33 finished with value: 0.7151803810456235 and parameters: {'booster': 'dart', 'alpha': 0.4867251134946505, 'subsample': 0.8973022194163467, 'colsample_bytree': 0.238058416154717, 'max_depth': 1, 'min_child_weight': 6, 'eta': 0.3036153831407524, 'gamma': 0.28654134001989834}. Best is trial 26 with value: 0.6541746715580649.\u001b[0m\n",
      "\u001b[32m[I 2023-06-14 17:48:44,362]\u001b[0m Trial 34 finished with value: 0.6562309421912477 and parameters: {'booster': 'dart', 'alpha': 0.19343132742875294, 'subsample': 0.9734688975518052, 'colsample_bytree': 0.3008655247648813, 'max_depth': 2, 'min_child_weight': 7, 'eta': 0.15731467681056824, 'gamma': 0.3373867306336013}. Best is trial 26 with value: 0.6541746715580649.\u001b[0m\n",
      "\u001b[32m[I 2023-06-14 17:48:46,225]\u001b[0m Trial 35 finished with value: 0.6481438902463337 and parameters: {'booster': 'dart', 'alpha': 0.20609934976827732, 'subsample': 0.9705165873816421, 'colsample_bytree': 0.31795366495596644, 'max_depth': 3, 'min_child_weight': 8, 'eta': 0.15210107367787942, 'gamma': 0.3331015251700495}. Best is trial 35 with value: 0.6481438902463337.\u001b[0m\n",
      "\u001b[32m[I 2023-06-14 17:48:47,574]\u001b[0m Trial 36 finished with value: 0.647295557672047 and parameters: {'booster': 'dart', 'alpha': 0.19067133799593167, 'subsample': 0.9742818115106766, 'colsample_bytree': 0.29531182858389393, 'max_depth': 5, 'min_child_weight': 8, 'eta': 0.09024547739920358, 'gamma': 0.31396389642774936}. Best is trial 36 with value: 0.647295557672047.\u001b[0m\n",
      "\u001b[32m[I 2023-06-14 17:48:47,873]\u001b[0m Trial 37 finished with value: 0.8883070176926249 and parameters: {'booster': 'gblinear', 'alpha': 0.1739205777043323, 'subsample': 0.9726120620051819, 'colsample_bytree': 0.30844326405779426, 'max_depth': 6, 'min_child_weight': 5, 'eta': 0.33661494309878875, 'gamma': 0.3403361641761591}. Best is trial 36 with value: 0.647295557672047.\u001b[0m\n",
      "\u001b[32m[I 2023-06-14 17:48:49,359]\u001b[0m Trial 38 finished with value: 0.6455185454641902 and parameters: {'booster': 'dart', 'alpha': 0.11363996977719344, 'subsample': 0.982093130233426, 'colsample_bytree': 0.32748450137413554, 'max_depth': 5, 'min_child_weight': 8, 'eta': 0.1274192601722129, 'gamma': 0.22658010965851427}. Best is trial 38 with value: 0.6455185454641902.\u001b[0m\n",
      "\u001b[32m[I 2023-06-14 17:48:50,635]\u001b[0m Trial 39 finished with value: 0.6515388623551598 and parameters: {'booster': 'dart', 'alpha': 0.10171840262478124, 'subsample': 0.9885189199889883, 'colsample_bytree': 0.3343166549583049, 'max_depth': 5, 'min_child_weight': 10, 'eta': 0.09758178426687003, 'gamma': 0.23393210526638125}. Best is trial 38 with value: 0.6455185454641902.\u001b[0m\n",
      "\u001b[32m[I 2023-06-14 17:48:52,082]\u001b[0m Trial 40 finished with value: 0.6457922718081628 and parameters: {'booster': 'dart', 'alpha': 0.09876135185414464, 'subsample': 0.9962031484997699, 'colsample_bytree': 0.33210965020941546, 'max_depth': 5, 'min_child_weight': 10, 'eta': 0.09911526547513898, 'gamma': 0.2174795986440909}. Best is trial 38 with value: 0.6455185454641902.\u001b[0m\n",
      "\u001b[32m[I 2023-06-14 17:48:53,521]\u001b[0m Trial 41 finished with value: 0.6544227146622089 and parameters: {'booster': 'dart', 'alpha': 0.09939573169151346, 'subsample': 0.9928832240374154, 'colsample_bytree': 0.3409053328995075, 'max_depth': 5, 'min_child_weight': 10, 'eta': 0.12034628033558337, 'gamma': 0.23705028536750522}. Best is trial 38 with value: 0.6455185454641902.\u001b[0m\n",
      "\u001b[32m[I 2023-06-14 17:48:54,987]\u001b[0m Trial 42 finished with value: 0.6529379057842251 and parameters: {'booster': 'dart', 'alpha': 0.0992505260481931, 'subsample': 0.9716726345301586, 'colsample_bytree': 0.36043735313836467, 'max_depth': 6, 'min_child_weight': 10, 'eta': 0.11017808118483112, 'gamma': 0.24160717031050088}. Best is trial 38 with value: 0.6455185454641902.\u001b[0m\n",
      "\u001b[32m[I 2023-06-14 17:48:56,319]\u001b[0m Trial 43 finished with value: 0.6474358539268589 and parameters: {'booster': 'dart', 'alpha': 0.12398319530461833, 'subsample': 0.9987217506053462, 'colsample_bytree': 0.3278432555142522, 'max_depth': 5, 'min_child_weight': 10, 'eta': 0.1364762648987843, 'gamma': 0.3659773639267857}. Best is trial 38 with value: 0.6455185454641902.\u001b[0m\n"
     ]
    },
    {
     "name": "stderr",
     "output_type": "stream",
     "text": [
      "\u001b[32m[I 2023-06-14 17:48:56,671]\u001b[0m Trial 44 finished with value: 0.6489467662979729 and parameters: {'booster': 'gbtree', 'alpha': 0.13740470527780274, 'subsample': 0.9755695783421019, 'colsample_bytree': 0.4153348940876964, 'max_depth': 5, 'min_child_weight': 10, 'eta': 0.14379276916058745, 'gamma': 0.3924197502283417}. Best is trial 38 with value: 0.6455185454641902.\u001b[0m\n",
      "\u001b[32m[I 2023-06-14 17:48:58,484]\u001b[0m Trial 45 finished with value: 0.7152207637239811 and parameters: {'booster': 'dart', 'alpha': 0.07644104636298855, 'subsample': 0.9996617777386851, 'colsample_bytree': 0.32422243728835515, 'max_depth': 7, 'min_child_weight': 9, 'eta': 0.3396493157832936, 'gamma': 0.3803235239068307}. Best is trial 38 with value: 0.6455185454641902.\u001b[0m\n",
      "\u001b[32m[I 2023-06-14 17:48:58,745]\u001b[0m Trial 46 finished with value: 1.0688875775237783 and parameters: {'booster': 'gblinear', 'alpha': 0.17208758935875218, 'subsample': 0.9656628152630358, 'colsample_bytree': 0.29360714578073366, 'max_depth': 6, 'min_child_weight': 9, 'eta': 0.06282850549021801, 'gamma': 0.4953719051487288}. Best is trial 38 with value: 0.6455185454641902.\u001b[0m\n",
      "\u001b[32m[I 2023-06-14 17:49:00,590]\u001b[0m Trial 47 finished with value: 0.663172831411424 and parameters: {'booster': 'dart', 'alpha': 0.12714698502133714, 'subsample': 0.9521122183548425, 'colsample_bytree': 0.3198414452264878, 'max_depth': 5, 'min_child_weight': 10, 'eta': 0.17701462704743184, 'gamma': 0.13034432570360158}. Best is trial 38 with value: 0.6455185454641902.\u001b[0m\n",
      "\u001b[32m[I 2023-06-14 17:49:02,236]\u001b[0m Trial 48 finished with value: 0.6701756828160761 and parameters: {'booster': 'dart', 'alpha': 0.06952126026641446, 'subsample': 0.9848158934082046, 'colsample_bytree': 0.3460385962941849, 'max_depth': 7, 'min_child_weight': 8, 'eta': 0.1295286826668732, 'gamma': 0.27669547581892145}. Best is trial 38 with value: 0.6455185454641902.\u001b[0m\n",
      "\u001b[32m[I 2023-06-14 17:49:02,570]\u001b[0m Trial 49 finished with value: 0.6744852916851916 and parameters: {'booster': 'gbtree', 'alpha': 0.21630384049826448, 'subsample': 0.9585821210142, 'colsample_bytree': 0.283610273399956, 'max_depth': 4, 'min_child_weight': 9, 'eta': 0.24150897832436444, 'gamma': 0.19077538557798995}. Best is trial 38 with value: 0.6455185454641902.\u001b[0m\n",
      "\u001b[32m[I 2023-06-14 17:49:03,940]\u001b[0m Trial 50 finished with value: 0.6543876399538959 and parameters: {'booster': 'dart', 'alpha': 0.15303969565325684, 'subsample': 0.9298106762546968, 'colsample_bytree': 0.42549041291235484, 'max_depth': 6, 'min_child_weight': 10, 'eta': 0.07996173606680648, 'gamma': 0.128011546508439}. Best is trial 38 with value: 0.6455185454641902.\u001b[0m\n",
      "\u001b[32m[I 2023-06-14 17:49:04,270]\u001b[0m Trial 51 finished with value: 0.6535146193237855 and parameters: {'booster': 'gbtree', 'alpha': 0.13691698469202432, 'subsample': 0.9826779003331335, 'colsample_bytree': 0.40060800341612285, 'max_depth': 5, 'min_child_weight': 10, 'eta': 0.13101625999569777, 'gamma': 0.3725748291247537}. Best is trial 38 with value: 0.6455185454641902.\u001b[0m\n",
      "\u001b[32m[I 2023-06-14 17:49:04,618]\u001b[0m Trial 52 finished with value: 0.6492187817714082 and parameters: {'booster': 'gbtree', 'alpha': 0.12594774513446366, 'subsample': 0.969056175054277, 'colsample_bytree': 0.425257900839339, 'max_depth': 5, 'min_child_weight': 10, 'eta': 0.16545522343817876, 'gamma': 0.3617991819472842}. Best is trial 38 with value: 0.6455185454641902.\u001b[0m\n",
      "\u001b[32m[I 2023-06-14 17:49:04,952]\u001b[0m Trial 53 finished with value: 0.6456985837176821 and parameters: {'booster': 'gbtree', 'alpha': 0.2190014748998514, 'subsample': 0.9989095039703284, 'colsample_bytree': 0.36668844913354454, 'max_depth': 5, 'min_child_weight': 9, 'eta': 0.1036904349176251, 'gamma': 0.216877934745465}. Best is trial 38 with value: 0.6455185454641902.\u001b[0m\n",
      "\u001b[32m[I 2023-06-14 17:49:05,284]\u001b[0m Trial 54 finished with value: 0.6424478512392702 and parameters: {'booster': 'gbtree', 'alpha': 0.23240727531866961, 'subsample': 0.9950806406159702, 'colsample_bytree': 0.35664304614337994, 'max_depth': 4, 'min_child_weight': 9, 'eta': 0.1011294336828261, 'gamma': 0.2139307465606399}. Best is trial 54 with value: 0.6424478512392702.\u001b[0m\n",
      "\u001b[32m[I 2023-06-14 17:49:05,605]\u001b[0m Trial 55 finished with value: 0.6501320401901213 and parameters: {'booster': 'gbtree', 'alpha': 0.27290590231973044, 'subsample': 0.9983363337781036, 'colsample_bytree': 0.36057710593538633, 'max_depth': 4, 'min_child_weight': 9, 'eta': 0.10336548483490517, 'gamma': 0.20348239457802408}. Best is trial 54 with value: 0.6424478512392702.\u001b[0m\n",
      "\u001b[32m[I 2023-06-14 17:49:05,946]\u001b[0m Trial 56 finished with value: 0.6512625287460218 and parameters: {'booster': 'gbtree', 'alpha': 0.22670977011705779, 'subsample': 0.9846634616401084, 'colsample_bytree': 0.33176780010875184, 'max_depth': 4, 'min_child_weight': 9, 'eta': 0.057869769201000426, 'gamma': 0.23194428947490675}. Best is trial 54 with value: 0.6424478512392702.\u001b[0m\n",
      "\u001b[32m[I 2023-06-14 17:49:06,312]\u001b[0m Trial 57 finished with value: 0.6459081553630283 and parameters: {'booster': 'gbtree', 'alpha': 0.17337306156117976, 'subsample': 0.9572787675633395, 'colsample_bytree': 0.352274255657463, 'max_depth': 6, 'min_child_weight': 9, 'eta': 0.08724740695193403, 'gamma': 0.11949072654883353}. Best is trial 54 with value: 0.6424478512392702.\u001b[0m\n",
      "\u001b[32m[I 2023-06-14 17:49:06,655]\u001b[0m Trial 58 finished with value: 0.6353164418448656 and parameters: {'booster': 'gbtree', 'alpha': 0.16940034812047428, 'subsample': 0.9548763627360225, 'colsample_bytree': 0.370088429946005, 'max_depth': 6, 'min_child_weight': 9, 'eta': 0.07377045233520887, 'gamma': 0.13794795543817517}. Best is trial 58 with value: 0.6353164418448656.\u001b[0m\n",
      "\u001b[32m[I 2023-06-14 17:49:07,015]\u001b[0m Trial 59 finished with value: 0.6419053072363642 and parameters: {'booster': 'gbtree', 'alpha': 0.15935429081103242, 'subsample': 0.9539103164861469, 'colsample_bytree': 0.3730661687960091, 'max_depth': 6, 'min_child_weight': 9, 'eta': 0.05070809714530388, 'gamma': 0.11032888631666622}. Best is trial 58 with value: 0.6353164418448656.\u001b[0m\n",
      "\u001b[32m[I 2023-06-14 17:49:07,376]\u001b[0m Trial 60 finished with value: 0.646052527411264 and parameters: {'booster': 'gbtree', 'alpha': 0.24326636190296955, 'subsample': 0.9363574726714763, 'colsample_bytree': 0.3769636785409804, 'max_depth': 7, 'min_child_weight': 9, 'eta': 0.04912503169144213, 'gamma': 0.10397743092275741}. Best is trial 58 with value: 0.6353164418448656.\u001b[0m\n",
      "\u001b[32m[I 2023-06-14 17:49:07,719]\u001b[0m Trial 61 finished with value: 0.6388129713541711 and parameters: {'booster': 'gbtree', 'alpha': 0.16008177393423886, 'subsample': 0.9540948177369268, 'colsample_bytree': 0.3543677577720838, 'max_depth': 6, 'min_child_weight': 9, 'eta': 0.06891370331517763, 'gamma': 0.13743151582082697}. Best is trial 58 with value: 0.6353164418448656.\u001b[0m\n",
      "\u001b[32m[I 2023-06-14 17:49:08,082]\u001b[0m Trial 62 finished with value: 0.6387299020095362 and parameters: {'booster': 'gbtree', 'alpha': 0.1458189561480269, 'subsample': 0.9179871588115299, 'colsample_bytree': 0.37473986984671753, 'max_depth': 6, 'min_child_weight': 9, 'eta': 0.07038647411304036, 'gamma': 0.14188641960051612}. Best is trial 58 with value: 0.6353164418448656.\u001b[0m\n",
      "\u001b[32m[I 2023-06-14 17:49:08,453]\u001b[0m Trial 63 finished with value: 0.6409086351834195 and parameters: {'booster': 'gbtree', 'alpha': 0.29417343352866265, 'subsample': 0.9124847247269197, 'colsample_bytree': 0.37561316768595143, 'max_depth': 6, 'min_child_weight': 9, 'eta': 0.07100249580525177, 'gamma': 0.1430975973179414}. Best is trial 58 with value: 0.6353164418448656.\u001b[0m\n",
      "\u001b[32m[I 2023-06-14 17:49:08,848]\u001b[0m Trial 64 finished with value: 0.6571011017788341 and parameters: {'booster': 'gbtree', 'alpha': 0.31556571643287673, 'subsample': 0.9131031256770479, 'colsample_bytree': 0.4065040642870395, 'max_depth': 8, 'min_child_weight': 9, 'eta': 0.0460511996069012, 'gamma': 0.1457283606484779}. Best is trial 58 with value: 0.6353164418448656.\u001b[0m\n",
      "\u001b[32m[I 2023-06-14 17:49:09,225]\u001b[0m Trial 65 finished with value: 0.6362926097741736 and parameters: {'booster': 'gbtree', 'alpha': 0.15415498510041176, 'subsample': 0.945563392307241, 'colsample_bytree': 0.4432981065152465, 'max_depth': 6, 'min_child_weight': 9, 'eta': 0.06903396545319171, 'gamma': 0.06778347559131657}. Best is trial 58 with value: 0.6353164418448656.\u001b[0m\n"
     ]
    },
    {
     "name": "stderr",
     "output_type": "stream",
     "text": [
      "\u001b[32m[I 2023-06-14 17:49:09,648]\u001b[0m Trial 66 finished with value: 0.6388868887704207 and parameters: {'booster': 'gbtree', 'alpha': 0.1557648872818937, 'subsample': 0.9108619783758952, 'colsample_bytree': 0.45643106805744665, 'max_depth': 6, 'min_child_weight': 9, 'eta': 0.06831916217111439, 'gamma': 0.06536321632330715}. Best is trial 58 with value: 0.6353164418448656.\u001b[0m\n",
      "\u001b[32m[I 2023-06-14 17:49:10,084]\u001b[0m Trial 67 finished with value: 0.636109908909924 and parameters: {'booster': 'gbtree', 'alpha': 0.16558582678585823, 'subsample': 0.9107823872535663, 'colsample_bytree': 0.44698489523486, 'max_depth': 6, 'min_child_weight': 9, 'eta': 0.0638370283211357, 'gamma': 0.06295429637724084}. Best is trial 58 with value: 0.6353164418448656.\u001b[0m\n",
      "\u001b[32m[I 2023-06-14 17:49:10,516]\u001b[0m Trial 68 finished with value: 0.6426539727112817 and parameters: {'booster': 'gbtree', 'alpha': 0.15589765739593753, 'subsample': 0.9110118308089871, 'colsample_bytree': 0.4579319538827789, 'max_depth': 7, 'min_child_weight': 9, 'eta': 0.07146012544941287, 'gamma': 0.0677537722135796}. Best is trial 58 with value: 0.6353164418448656.\u001b[0m\n",
      "\u001b[32m[I 2023-06-14 17:49:10,900]\u001b[0m Trial 69 finished with value: 0.6371966721135083 and parameters: {'booster': 'gbtree', 'alpha': 0.29459683296095746, 'subsample': 0.904681282023789, 'colsample_bytree': 0.46120524981263267, 'max_depth': 6, 'min_child_weight': 9, 'eta': 0.06378277024190035, 'gamma': 0.05218228421062177}. Best is trial 58 with value: 0.6353164418448656.\u001b[0m\n",
      "\u001b[32m[I 2023-06-14 17:49:11,279]\u001b[0m Trial 70 finished with value: 0.7475008033780649 and parameters: {'booster': 'gbtree', 'alpha': 0.14701606320717356, 'subsample': 0.9252070815747753, 'colsample_bytree': 0.47260547101675676, 'max_depth': 6, 'min_child_weight': 9, 'eta': 0.030995419257214156, 'gamma': 0.05742924167661044}. Best is trial 58 with value: 0.6353164418448656.\u001b[0m\n",
      "\u001b[32m[I 2023-06-14 17:49:11,654]\u001b[0m Trial 71 finished with value: 0.6369551880022088 and parameters: {'booster': 'gbtree', 'alpha': 0.198190177233143, 'subsample': 0.9046288789816677, 'colsample_bytree': 0.44002803713245664, 'max_depth': 6, 'min_child_weight': 9, 'eta': 0.06445608506569142, 'gamma': 0.04949154532317934}. Best is trial 58 with value: 0.6353164418448656.\u001b[0m\n",
      "\u001b[32m[I 2023-06-14 17:49:12,039]\u001b[0m Trial 72 finished with value: 0.6353365239694666 and parameters: {'booster': 'gbtree', 'alpha': 0.19420006363121783, 'subsample': 0.8756784014446037, 'colsample_bytree': 0.4430632778833231, 'max_depth': 7, 'min_child_weight': 9, 'eta': 0.06416167789752943, 'gamma': 0.051678447868016494}. Best is trial 58 with value: 0.6353164418448656.\u001b[0m\n",
      "\u001b[32m[I 2023-06-14 17:49:12,438]\u001b[0m Trial 73 finished with value: 0.6325007553648764 and parameters: {'booster': 'gbtree', 'alpha': 0.1949009830592844, 'subsample': 0.8790032715720084, 'colsample_bytree': 0.4339416316328119, 'max_depth': 7, 'min_child_weight': 9, 'eta': 0.05889429373396001, 'gamma': 0.047902840667793246}. Best is trial 73 with value: 0.6325007553648764.\u001b[0m\n",
      "\u001b[32m[I 2023-06-14 17:49:12,886]\u001b[0m Trial 74 finished with value: 0.6442255463086816 and parameters: {'booster': 'gbtree', 'alpha': 0.19192579220500222, 'subsample': 0.8776472543383386, 'colsample_bytree': 0.4426393755248473, 'max_depth': 8, 'min_child_weight': 9, 'eta': 0.04194050945577332, 'gamma': 0.04819589371294288}. Best is trial 73 with value: 0.6325007553648764.\u001b[0m\n",
      "\u001b[32m[I 2023-06-14 17:49:13,315]\u001b[0m Trial 75 finished with value: 0.6442339061357175 and parameters: {'booster': 'gbtree', 'alpha': 0.2475365947832255, 'subsample': 0.8994565087334211, 'colsample_bytree': 0.4896929782426486, 'max_depth': 7, 'min_child_weight': 8, 'eta': 0.060617898168724725, 'gamma': 0.038878012502801}. Best is trial 73 with value: 0.6325007553648764.\u001b[0m\n",
      "\u001b[32m[I 2023-06-14 17:49:13,742]\u001b[0m Trial 76 finished with value: 0.6879927402251558 and parameters: {'booster': 'gbtree', 'alpha': 0.18582521341757666, 'subsample': 0.8813961740725137, 'colsample_bytree': 0.436192454709993, 'max_depth': 7, 'min_child_weight': 9, 'eta': 0.034886939942787895, 'gamma': 0.05187325001150076}. Best is trial 73 with value: 0.6325007553648764.\u001b[0m\n",
      "\u001b[32m[I 2023-06-14 17:49:14,237]\u001b[0m Trial 77 finished with value: 0.6428899221096389 and parameters: {'booster': 'gbtree', 'alpha': 0.20730939974371113, 'subsample': 0.8659785529259074, 'colsample_bytree': 0.4754927922200132, 'max_depth': 8, 'min_child_weight': 9, 'eta': 0.05518326839501187, 'gamma': 0.04349514867580331}. Best is trial 73 with value: 0.6325007553648764.\u001b[0m\n",
      "\u001b[32m[I 2023-06-14 17:49:14,723]\u001b[0m Trial 78 finished with value: 0.6399290474162413 and parameters: {'booster': 'gbtree', 'alpha': 0.32893199436848275, 'subsample': 0.9015120238394873, 'colsample_bytree': 0.4454580759255366, 'max_depth': 7, 'min_child_weight': 8, 'eta': 0.07937581883159193, 'gamma': 0.03272541035494477}. Best is trial 73 with value: 0.6325007553648764.\u001b[0m\n",
      "\u001b[32m[I 2023-06-14 17:49:15,201]\u001b[0m Trial 79 finished with value: 0.661539538294824 and parameters: {'booster': 'gbtree', 'alpha': 0.2668261755373752, 'subsample': 0.9317760236325789, 'colsample_bytree': 0.49440481052223795, 'max_depth': 7, 'min_child_weight': 9, 'eta': 0.0402102011244669, 'gamma': 0.07631638521808558}. Best is trial 73 with value: 0.6325007553648764.\u001b[0m\n",
      "\u001b[32m[I 2023-06-14 17:49:15,597]\u001b[0m Trial 80 finished with value: 0.6392353231715162 and parameters: {'booster': 'gbtree', 'alpha': 0.1974899330568916, 'subsample': 0.8499781797894537, 'colsample_bytree': 0.414593283765491, 'max_depth': 6, 'min_child_weight': 9, 'eta': 0.05717073688940987, 'gamma': 0.08656031292659273}. Best is trial 73 with value: 0.6325007553648764.\u001b[0m\n",
      "\u001b[32m[I 2023-06-14 17:49:15,995]\u001b[0m Trial 81 finished with value: 0.6428628914472106 and parameters: {'booster': 'gbtree', 'alpha': 0.17714307021235798, 'subsample': 0.9448688592530157, 'colsample_bytree': 0.398575695968183, 'max_depth': 6, 'min_child_weight': 9, 'eta': 0.08166240914302472, 'gamma': 0.059577663834964975}. Best is trial 73 with value: 0.6325007553648764.\u001b[0m\n",
      "\u001b[32m[I 2023-06-14 17:49:16,447]\u001b[0m Trial 82 finished with value: 0.6384130639974774 and parameters: {'booster': 'gbtree', 'alpha': 0.14272717705490606, 'subsample': 0.9229501917226703, 'colsample_bytree': 0.4352727658342354, 'max_depth': 6, 'min_child_weight': 9, 'eta': 0.07521040225030398, 'gamma': 0.09086931460326371}. Best is trial 73 with value: 0.6325007553648764.\u001b[0m\n",
      "\u001b[32m[I 2023-06-14 17:49:16,914]\u001b[0m Trial 83 finished with value: 0.6357932154527869 and parameters: {'booster': 'gbtree', 'alpha': 0.14042145750928875, 'subsample': 0.9241332953140781, 'colsample_bytree': 0.43047808402694476, 'max_depth': 7, 'min_child_weight': 9, 'eta': 0.06292335949239741, 'gamma': 0.09635391946825818}. Best is trial 73 with value: 0.6325007553648764.\u001b[0m\n",
      "\u001b[32m[I 2023-06-14 17:49:17,364]\u001b[0m Trial 84 finished with value: 0.6401975245311058 and parameters: {'booster': 'gbtree', 'alpha': 0.23923229589101114, 'subsample': 0.8864896794874846, 'colsample_bytree': 0.4315644433482059, 'max_depth': 7, 'min_child_weight': 9, 'eta': 0.04721891537421357, 'gamma': 0.09286189189673869}. Best is trial 73 with value: 0.6325007553648764.\u001b[0m\n",
      "\u001b[32m[I 2023-06-14 17:49:17,650]\u001b[0m Trial 85 finished with value: 1.0456491070507188 and parameters: {'booster': 'gblinear', 'alpha': 0.11369762369137246, 'subsample': 0.9256223450291766, 'colsample_bytree': 0.4591525309328456, 'max_depth': 8, 'min_child_weight': 9, 'eta': 0.058865264615677655, 'gamma': 0.06827832301385561}. Best is trial 73 with value: 0.6325007553648764.\u001b[0m\n",
      "\u001b[32m[I 2023-06-14 17:49:18,054]\u001b[0m Trial 86 finished with value: 0.8171176001717052 and parameters: {'booster': 'gbtree', 'alpha': 0.21146954529478545, 'subsample': 0.9055380007008746, 'colsample_bytree': 0.4477500956278427, 'max_depth': 7, 'min_child_weight': 8, 'eta': 0.0283996270656371, 'gamma': 0.052257586155936245}. Best is trial 73 with value: 0.6325007553648764.\u001b[0m\n",
      "\u001b[32m[I 2023-06-14 17:49:18,445]\u001b[0m Trial 87 finished with value: 0.6659191421874394 and parameters: {'booster': 'gbtree', 'alpha': 0.17346823216658963, 'subsample': 0.936221126850954, 'colsample_bytree': 0.47810519652979455, 'max_depth': 6, 'min_child_weight': 9, 'eta': 0.03932587192016999, 'gamma': 0.044047779124560225}. Best is trial 73 with value: 0.6325007553648764.\u001b[0m\n"
     ]
    },
    {
     "name": "stderr",
     "output_type": "stream",
     "text": [
      "\u001b[32m[I 2023-06-14 17:49:18,868]\u001b[0m Trial 88 finished with value: 0.6388745316813913 and parameters: {'booster': 'gbtree', 'alpha': 0.2913812739262305, 'subsample': 0.8906673017314475, 'colsample_bytree': 0.4195102623351334, 'max_depth': 7, 'min_child_weight': 9, 'eta': 0.08699835305645703, 'gamma': 0.09503710467461375}. Best is trial 73 with value: 0.6325007553648764.\u001b[0m\n",
      "\u001b[32m[I 2023-06-14 17:49:19,260]\u001b[0m Trial 89 finished with value: 0.6341005467876155 and parameters: {'booster': 'gbtree', 'alpha': 0.13210399387971425, 'subsample': 0.9014555602133588, 'colsample_bytree': 0.43395649460990093, 'max_depth': 6, 'min_child_weight': 9, 'eta': 0.05208135077131007, 'gamma': 0.07261341756982967}. Best is trial 73 with value: 0.6325007553648764.\u001b[0m\n",
      "\u001b[32m[I 2023-06-14 17:49:19,663]\u001b[0m Trial 90 finished with value: 0.642310616052897 and parameters: {'booster': 'gbtree', 'alpha': 0.11506573979835019, 'subsample': 0.8956258185383766, 'colsample_bytree': 0.4627878396511893, 'max_depth': 7, 'min_child_weight': 8, 'eta': 0.05263120500347087, 'gamma': 0.07671741469948565}. Best is trial 73 with value: 0.6325007553648764.\u001b[0m\n",
      "\u001b[32m[I 2023-06-14 17:49:20,047]\u001b[0m Trial 91 finished with value: 0.6403730939149419 and parameters: {'booster': 'gbtree', 'alpha': 0.1338590253761678, 'subsample': 0.9203279141694294, 'colsample_bytree': 0.436507829031241, 'max_depth': 6, 'min_child_weight': 9, 'eta': 0.06291975522651015, 'gamma': 0.05695603368808122}. Best is trial 73 with value: 0.6325007553648764.\u001b[0m\n",
      "\u001b[32m[I 2023-06-14 17:49:20,405]\u001b[0m Trial 92 finished with value: 0.6511786387387649 and parameters: {'booster': 'gbtree', 'alpha': 0.198186304698119, 'subsample': 0.9061582250036435, 'colsample_bytree': 0.4309544127155692, 'max_depth': 6, 'min_child_weight': 9, 'eta': 0.11430142313251249, 'gamma': 0.07976005647191901}. Best is trial 73 with value: 0.6325007553648764.\u001b[0m\n",
      "\u001b[32m[I 2023-06-14 17:49:20,810]\u001b[0m Trial 93 finished with value: 0.6509130596083071 and parameters: {'booster': 'gbtree', 'alpha': 0.13786835466080405, 'subsample': 0.931046560626985, 'colsample_bytree': 0.4487797147530936, 'max_depth': 7, 'min_child_weight': 9, 'eta': 0.07776354684199692, 'gamma': 0.06502732098999349}. Best is trial 73 with value: 0.6325007553648764.\u001b[0m\n",
      "\u001b[32m[I 2023-06-14 17:49:21,195]\u001b[0m Trial 94 finished with value: 0.6534162806880324 and parameters: {'booster': 'gbtree', 'alpha': 0.1717513843078815, 'subsample': 0.9433222502460145, 'colsample_bytree': 0.4685536621823056, 'max_depth': 6, 'min_child_weight': 9, 'eta': 0.04353472803967169, 'gamma': 0.03524465805154068}. Best is trial 73 with value: 0.6325007553648764.\u001b[0m\n",
      "\u001b[32m[I 2023-06-14 17:49:21,604]\u001b[0m Trial 95 finished with value: 0.647628277995524 and parameters: {'booster': 'gbtree', 'alpha': 0.22357038633865486, 'subsample': 0.919985502522591, 'colsample_bytree': 0.48370271275251076, 'max_depth': 6, 'min_child_weight': 9, 'eta': 0.09016017426609058, 'gamma': 0.09857050282490233}. Best is trial 73 with value: 0.6325007553648764.\u001b[0m\n",
      "\u001b[32m[I 2023-06-14 17:49:21,919]\u001b[0m Trial 96 finished with value: 1.0915274106532284 and parameters: {'booster': 'gblinear', 'alpha': 0.15026748039163065, 'subsample': 0.8879689171050799, 'colsample_bytree': 0.4152909876055576, 'max_depth': 6, 'min_child_weight': 10, 'eta': 0.04950221125559544, 'gamma': 0.041757751332088866}. Best is trial 73 with value: 0.6325007553648764.\u001b[0m\n",
      "\u001b[32m[I 2023-06-14 17:49:22,344]\u001b[0m Trial 97 finished with value: 0.6461194545434369 and parameters: {'booster': 'gbtree', 'alpha': 0.11914779645694094, 'subsample': 0.9033280749873673, 'colsample_bytree': 0.4489123121377037, 'max_depth': 8, 'min_child_weight': 9, 'eta': 0.06422341004721656, 'gamma': 0.047177087497580546}. Best is trial 73 with value: 0.6325007553648764.\u001b[0m\n",
      "\u001b[32m[I 2023-06-14 17:49:22,735]\u001b[0m Trial 98 finished with value: 0.6483206710916021 and parameters: {'booster': 'gbtree', 'alpha': 0.24985087465481054, 'subsample': 0.8943567529789775, 'colsample_bytree': 0.4687978113308001, 'max_depth': 7, 'min_child_weight': 8, 'eta': 0.05334943932761732, 'gamma': 0.11072672386997125}. Best is trial 73 with value: 0.6325007553648764.\u001b[0m\n",
      "\u001b[32m[I 2023-06-14 17:49:23,147]\u001b[0m Trial 99 finished with value: 0.6476863008094176 and parameters: {'booster': 'gbtree', 'alpha': 0.1847635444647421, 'subsample': 0.9276927510569685, 'colsample_bytree': 0.42420833614223663, 'max_depth': 6, 'min_child_weight': 10, 'eta': 0.11781046157929179, 'gamma': 0.08586387656786085}. Best is trial 73 with value: 0.6325007553648764.\u001b[0m\n"
     ]
    },
    {
     "name": "stdout",
     "output_type": "stream",
     "text": [
      "0.6325007553648764\n",
      "{'booster': 'gbtree', 'alpha': 0.1949009830592844, 'subsample': 0.8790032715720084, 'colsample_bytree': 0.4339416316328119, 'max_depth': 7, 'min_child_weight': 9, 'eta': 0.05889429373396001, 'gamma': 0.047902840667793246}\n"
     ]
    }
   ],
   "source": [
    "def objective_2(trial): #КОД ВЗЯТ https://github.com/optuna/optuna-examples/blob/main/xgboost/xgboost_simple.py#L20\n",
    "    params_2 = { # указывем возможные гиперпараметры для XGBClassifier\n",
    "        \"verbosity\": 0, # принимает silent, то есть не будет выдавать предупреждений \n",
    "        \"tree_method\": \"exact\", # нужно для построения деревьев для xgboost\n",
    "        \"booster\": trial.suggest_categorical(\"booster\", [\"gbtree\", \"gblinear\", \"dart\"]), # один из главных параметров модели, через trial.suggest задаём возможные варианты для модели\n",
    "        \"alpha\": trial.suggest_float(\"alpha\", 0.01, 1.0, log=True), # нужно для L1 регуляризации\n",
    "        \"subsample\": trial.suggest_float(\"subsample\", 0.6, 1.0), # параметр для предотвращения переобучения\n",
    "        \"colsample_bytree\": trial.suggest_float(\"colsample_bytree\", 0.001, 0.5), # для subsample, играющий роль при построении дерево решения\n",
    "        \"max_depth\" : trial.suggest_int(\"max_depth\", 1, 9), # глубина дерева и его разветвлений (чем выше, тем выше шанс переобучения)\n",
    "        \"min_child_weight\" : trial.suggest_int(\"min_child_weight\", 5, 10), # минимальная сумма инстанций при каждой итерации \n",
    "        \"eta\" : trial.suggest_float(\"eta\", 0.001, 0.5, log=True), # размер шага для последующих итераций для предотвращения переобучения\n",
    "        \"gamma\" : trial.suggest_float(\"gamma\", 0.001, 0.5, log=True)} # указание наименьших потерь в модели для дальнейший итераций\n",
    "\n",
    "    bst = XGBRegressor(**params_2,random_state=45) # задаём модель и передаём ей выбранные optuna параметры\n",
    "    bst.fit(X_train_ohe,y_train_ohe)# обучаем модель\n",
    "    preds = bst.predict(X_test_ohe)  # ищем вероятности на тестовых данных\n",
    "    mse=metrics.mean_squared_error(y_test_ohe,preds) # возвращаем в конечном итоге метрику MSE\n",
    "    return mse\n",
    "\n",
    "\n",
    "study_2 = optuna.create_study(direction=\"minimize\") # создаём объект обучения с целью минимизации получаемой на выходе MSE\n",
    "study_2.optimize(objective_2, n_trials=100) # оптимизируем подбор гиперпараметров с помощью функции, написанной выше, и проделываем 100 итераций для поиска минимума\n",
    "trial_2 = study_2.best_trial # обращаемся к лучшей итерации (с минимальной метрикой)\n",
    "print(trial_2.value) # выводим метрику лучшей итерации\n",
    "print(trial_2.params) # выводим параметры лучшей итерации"
   ]
  },
  {
   "cell_type": "markdown",
   "id": "e739e261",
   "metadata": {},
   "source": [
    "Мы не знаем, как зафиксить функцию Optuna, поэтому просто примите как данность, значения, используемые ниже"
   ]
  },
  {
   "cell_type": "code",
   "execution_count": 48,
   "id": "451f752a",
   "metadata": {},
   "outputs": [
    {
     "name": "stdout",
     "output_type": "stream",
     "text": [
      "MSE = 0.6280\n",
      "MAE = 0.5867\n"
     ]
    }
   ],
   "source": [
    "model_optuna_xgb = XGBRegressor(booster= 'gbtree', alpha= 0.1888541247434945, \n",
    "                                subsample= 0.8148005490034689, colsample_bytree= 0.3231724533391643, max_depth= 7, \n",
    "                                min_child_weight= 5, eta= 0.07470182451300954, gamma=0.49547339295145565,\n",
    "                                random_state=45) \n",
    "# взяли параметры, полученные из модели выше и зафиксировали рандом на значении, при котором метрика наибольшая\n",
    "model_optuna_xgb.fit(X_train_ohe,y_train_ohe)\n",
    "prob_xgb=model_optuna_xgb.predict(X_test_ohe)\n",
    "print(\"MSE = %.4f\" % metrics.mean_squared_error(y_test_ohe, prob_xgb))\n",
    "print(\"MAE = %.4f\" % metrics.mean_absolute_error(y_test_ohe, prob_xgb))"
   ]
  },
  {
   "cell_type": "markdown",
   "id": "698cc395",
   "metadata": {},
   "source": [
    "<center>\n",
    "\n",
    "## Вывод:\n",
    "\n",
    "</center>\n",
    "\n",
    "Перепробовав разные способы подбора оптимальных параметров для различных моделей, мы пришли к выводу, что наименьшая средняя абсолютная ошибка принимает значение 0,58; а средняя квадратичная ошибка - 0,62\n",
    "Теперь мы бы хотели попробовать на модели, дающей лучший результат, обучить нашу изначальную выборку, исключая фильмы с низким рейтингом (3-4), то есть убрать выбросы"
   ]
  },
  {
   "cell_type": "markdown",
   "id": "76baba7f",
   "metadata": {},
   "source": [
    "## Результаты метрик без выбросов"
   ]
  },
  {
   "cell_type": "markdown",
   "id": "c918b20c",
   "metadata": {},
   "source": [
    "Теперь мы бы хотели протестировать лучшие модели (давшие минимальные метрики) на данных без выбросов, зная, что они чаще всего мешают хорошему обучению модели. В нашем случае (из визуализаций EDA было заметно) выбросами будем считать значения ретинга меньше 4 включительно. Можем смело их удалить, поскольку таких значений всего лишь 33."
   ]
  },
  {
   "cell_type": "code",
   "execution_count": 45,
   "id": "a6974620",
   "metadata": {},
   "outputs": [
    {
     "data": {
      "text/plain": [
       "Int64Index([ 135,  140,  167,  190,  290,  327,  372,  403,  447,  449,  641,\n",
       "             843,  895,  924,  927, 1001, 1122, 1144, 1337, 1348, 1388, 1429,\n",
       "            1456, 1459, 1485, 1508, 1551, 1759, 1779, 1791, 1911, 1947, 2001],\n",
       "           dtype='int64')"
      ]
     },
     "execution_count": 45,
     "metadata": {},
     "output_type": "execute_result"
    }
   ],
   "source": [
    "df[df['Рейтинг']<=4].index #таких фильмов всего 33, это примерно 1% от нашей выборки "
   ]
  },
  {
   "cell_type": "markdown",
   "id": "7475b4ab",
   "metadata": {},
   "source": [
    "Построим после удаления выбросов гистограмму распределения рейтинга"
   ]
  },
  {
   "cell_type": "code",
   "execution_count": 49,
   "id": "be2c1101",
   "metadata": {},
   "outputs": [
    {
     "data": {
      "text/plain": [
       "(array([ 37.,  48.,  83., 156., 182., 272., 515., 448., 253.,  34.]),\n",
       " array([4.1 , 4.63, 5.16, 5.69, 6.22, 6.75, 7.28, 7.81, 8.34, 8.87, 9.4 ]),\n",
       " <BarContainer object of 10 artists>)"
      ]
     },
     "execution_count": 49,
     "metadata": {},
     "output_type": "execute_result"
    },
    {
     "data": {
      "image/png": "[encoded data removed]",
      "text/plain": [
       "<Figure size 640x480 with 1 Axes>"
      ]
     },
     "metadata": {},
     "output_type": "display_data"
    }
   ],
   "source": [
    "df_last=df_ohe.copy()\n",
    "df_last=df_last.drop(df_last[df_last['Рейтинг']<=4].index,axis=0) #удаляем те самые рейтинги ниже 4 включительно\n",
    "plt.hist(df_last['Рейтинг'])"
   ]
  },
  {
   "cell_type": "markdown",
   "id": "6a02306a",
   "metadata": {},
   "source": [
    "Из графика заметно, что у нас все ещё скошенное распределение, однако левый хвост выбросов мы всё же уменьшили. Помимо этого хотим обратить внимание, что взяли df_ohe по причине, что он уже обработан с помощью OneHotEncoding, а как мы помним данный датасет нам давал лучшие предсказания. Теперь таким же образом, как в прошлый раз, разделим наши данные на обучающую и тестовую выборки."
   ]
  },
  {
   "cell_type": "code",
   "execution_count": 50,
   "id": "c24e7ef9",
   "metadata": {},
   "outputs": [],
   "source": [
    "df_train_last, df_test_last = train_test_split(df_last, test_size=0.2,random_state=45)\n",
    "y_train_last = df_train_last['Рейтинг']\n",
    "y_test_last = df_test_last['Рейтинг'] \n",
    "X_train_last = df_train_last.drop(['Рейтинг'], axis=1)\n",
    "X_test_last = df_test_last.drop(['Рейтинг'], axis=1)"
   ]
  },
  {
   "cell_type": "markdown",
   "id": "41c065bf",
   "metadata": {},
   "source": [
    "Ура мы на финишной прямой!!! \n",
    "\n",
    "Нам осталось только скопировать значения гиперпараметров из моделей с лучшими метриками из прошлого пункта, и обучить на нашей выборке без выбросов модели."
   ]
  },
  {
   "cell_type": "code",
   "execution_count": 62,
   "id": "e8724cdd",
   "metadata": {},
   "outputs": [
    {
     "name": "stdout",
     "output_type": "stream",
     "text": [
      "MSE = 0.5536\n",
      "MAE = 0.5788\n",
      "MAPE = 0.0846\n"
     ]
    }
   ],
   "source": [
    "model_optuna_xgb = XGBRegressor(booster= 'dart', alpha= 0.09029923304328494, \n",
    "                                subsample= 0.7779408552392788, colsample_bytree= 0.4404618096557218, max_depth= 4, \n",
    "                                min_child_weight= 8, eta= 0.09923965464055982, gamma=0.031133872473454553,\n",
    "                                random_state=45) \n",
    "\n",
    "model_optuna_xgb.fit(X_train_last,y_train_last)\n",
    "prob_last=model_optuna_xgb.predict(X_test_last)\n",
    "print(\"MSE = %.4f\" % metrics.mean_squared_error(y_test_last, prob_last))\n",
    "print(\"MAE = %.4f\" % metrics.mean_absolute_error(y_test_last, prob_last))\n",
    "print('MAPE = %.4f' % metrics.mean_absolute_percentage_error(y_test_last, prob_last))"
   ]
  },
  {
   "cell_type": "code",
   "execution_count": 52,
   "id": "c10eece9",
   "metadata": {},
   "outputs": [
    {
     "name": "stdout",
     "output_type": "stream",
     "text": [
      "MSE = 0.5997\n",
      "MAE = 0.6000\n"
     ]
    }
   ],
   "source": [
    "model_optuna_for = RandomForestRegressor(n_estimators=33, max_depth= 7, random_state=95) \n",
    "\n",
    "model_optuna_for.fit(X_train_last,y_train_last)\n",
    "prob_forest_last=model_optuna_for.predict(X_test_last)\n",
    "print(\"MSE = %.4f\" % metrics.mean_squared_error(y_test_last, prob_forest_last))\n",
    "print(\"MAE = %.4f\" % metrics.mean_absolute_error(y_test_last, prob_forest_last))"
   ]
  },
  {
   "cell_type": "code",
   "execution_count": 53,
   "id": "11320b81",
   "metadata": {},
   "outputs": [
    {
     "name": "stdout",
     "output_type": "stream",
     "text": [
      "MSE = 0.6162\n",
      "MAE = 0.6089\n"
     ]
    }
   ],
   "source": [
    "n_estimators = np.arange(1,100,10)\n",
    "max_depth = np.arange(2,20)\n",
    "\n",
    "parametr_last={'n_estimators':n_estimators,'max_depth':max_depth} \n",
    "forest_last=RandomForestRegressor(random_state=41)\n",
    "searcher_last = GridSearchCV(\n",
    "    forest_last, parametr_last, \n",
    "    scoring=\"neg_root_mean_squared_error\", cv=10,n_jobs=-1)\n",
    "searcher_last.fit(X_train_last, y_train_last)\n",
    "y_pred_last = searcher_last.predict(X_test_last)\n",
    "\n",
    "print(\"MSE = %.4f\" % metrics.mean_squared_error(y_test_last, y_pred_last))\n",
    "print(\"MAE = %.4f\" % metrics.mean_absolute_error(y_test_last, y_pred_last)) "
   ]
  },
  {
   "cell_type": "markdown",
   "id": "c54e7506",
   "metadata": {},
   "source": [
    "<center>\n",
    "\n",
    "## Вывод итоговый:\n",
    "\n",
    "</center>\n",
    "\n",
    "После удаления выбросов, только XGBRegressor дал оптимальный результат (MSE = 0.5536, MAE = 0.5788). Специально для лучшей модели мы также рассчитали метрику MAPE = 0.0846, которая говорит, что в среднем наши прогнозы отличаются от фактических значений на 8,46%. Касательно метрик MSE и MAE можно подчеркнуть причину, по которой наши лучшие метрики обучения принимают столько высокие показатели. Она кроется в том, что MSE чувствительно к выбрасам, даже после удаления фильмов с рейтингом ниже 4 распределение рейтинга всё равно осталось скошенным, поэтому левый хвост значений может быть воспринят MSE, как выбросы, что, безусловно, ухудшит предсказания. Переходя к MAE, то полученную величину можно интерпретировать так: в среднем наши предсказания на 0,57 разнятся с истинными. Насколько это большое расхождение нельзя ответить на первый взгляд, но, полагам, построение доверительного интервала могло разрешить эту проблему. Считая, что рейтинг лежит в диапазоне от 4 до 10, то в этом случае величина 0,57 составляет 1/12 (считая в 1 лежит два раза по 0,5), то есть около 0,08.\n",
    "\n",
    "Мы можем предположить, что, наверное, данные метрики могут принимать значения и меньше, но для этого будет необходимо рассматривать большую выборку и её признаков соответственно.\\\n",
    "Изначально мы планировали парсить данные с Кинопоиска, так как там можно было найти информацию о бюджете фильма, IMDb и количество оценок для этого рейтинга. Однако структура сайта оказалась сложной, поэтому мы перешли на иви (да,да теперь он пишется на русском). Из плюсов: ИВИ обладает большей библиотекой, чем Кинопоиск, однако парсинг более 80 страниц занимает очень много времени, что затрудняет сбор большего количества данных.\\\n",
    "Соответственно, можно полагать, что с увеличением базы данных и признаков к ним будет более точно предсказываться рейтинг."
   ]
  }
 ],
 "metadata": {
  "kernelspec": {
   "display_name": "Python 3 (ipykernel)",
   "language": "python",
   "name": "python3"
  },
  "language_info": {
   "codemirror_mode": {
    "name": "ipython",
    "version": 3
   },
   "file_extension": ".py",
   "mimetype": "text/x-python",
   "name": "python",
   "nbconvert_exporter": "python",
   "pygments_lexer": "ipython3",
   "version": "3.9.13"
  }
 },
 "nbformat": 4,
 "nbformat_minor": 5
}
