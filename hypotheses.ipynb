{
 "cells": [
  {
   "cell_type": "markdown",
   "id": "98ff02af",
   "metadata": {},
   "source": [
    "<center>\n",
    "\n",
    "## Гипотезы\n",
    "    \n",
    "</center>"
   ]
  },
  {
   "cell_type": "code",
   "execution_count": 1,
   "id": "44c0e865",
   "metadata": {},
   "outputs": [],
   "source": [
    "from scipy.stats import mannwhitneyu"
   ]
  },
  {
   "cell_type": "code",
   "execution_count": 2,
   "id": "fa8d01d6",
   "metadata": {},
   "outputs": [],
   "source": [
    "from scipy.stats import ttest_1samp, ttest_ind, chisquare, f_oneway"
   ]
  },
  {
   "cell_type": "code",
   "execution_count": 3,
   "id": "3c5ba197",
   "metadata": {},
   "outputs": [],
   "source": [
    "import numpy as np\n",
    "import pandas as pd\n",
    "\n",
    "import scipy.stats as sts\n",
    "from bootstrapped import bootstrap as bs\n",
    "from bootstrapped import compare_functions as bs_compare\n",
    "\n",
    "import seaborn as sns\n",
    "import matplotlib.pyplot as plt\n",
    "from scipy.stats import wilcoxon\n",
    "from scipy.stats import levene\n",
    "from scipy.stats import kruskal\n",
    "import warnings\n",
    "warnings.filterwarnings(\"ignore\")"
   ]
  },
  {
   "cell_type": "markdown",
   "id": "954b1ba1",
   "metadata": {},
   "source": [
    "__На основе визуализаций наших данных и логических рассуждений были сформулированы следующие гипотезы:__\n",
    "1) Средний рейтинг фильмов с возрастным ограничением 0+ и 6+ в России и СССР больше 8.5 (значение было выбрано после просмотра среза таблицы по указанным условиям).\n",
    "\n",
    "2) Средняя продолжительность фильмов в Великобритании примерно равна средней во Франции (критерий выбора стран зависел от однородности выборок, для Франции и Великобритании кол-во наблюдений почти одинаково, что позволяет нам протестировать гипотезу продолжительности на них).\n",
    "\n",
    "3) Разброс рейтинга фильмов c 2000гг. в Канаде равен разбросу в Германии (выбор стран вновь зависел от кол-ва фильмов выпущенных после 2000гг. для большей релевантности).\n",
    "\n",
    "4) Средняя продолжительность фильмов во всех странах для возрастного ограничения 12+ имеет то же значение, что и для 18+.  (критерий выбора условий всё тот же).\n",
    "\n",
    "5) Средний рейтинг фильмов, выпущенных до 2016гг., равен среднему после 2016г."
   ]
  },
  {
   "cell_type": "markdown",
   "id": "8227f8b9",
   "metadata": {},
   "source": [
    "Для проверки гипотез будем использовать уровень значимости $5\\%$.\n",
    "\n",
    "Теперь загрузим наш Датасет, обработанный после EDA и с новыми признаками."
   ]
  },
  {
   "cell_type": "code",
   "execution_count": 4,
   "id": "2f30bdc3",
   "metadata": {},
   "outputs": [
    {
     "data": {
      "text/html": [
       "<div>\n",
       "<style scoped>\n",
       "    .dataframe tbody tr th:only-of-type {\n",
       "        vertical-align: middle;\n",
       "    }\n",
       "\n",
       "    .dataframe tbody tr th {\n",
       "        vertical-align: top;\n",
       "    }\n",
       "\n",
       "    .dataframe thead th {\n",
       "        text-align: right;\n",
       "    }\n",
       "</style>\n",
       "<table border=\"1\" class=\"dataframe\">\n",
       "  <thead>\n",
       "    <tr style=\"text-align: right;\">\n",
       "      <th></th>\n",
       "      <th>Название</th>\n",
       "      <th>Страна</th>\n",
       "      <th>Жанр</th>\n",
       "      <th>Год выпуска</th>\n",
       "      <th>Давность</th>\n",
       "      <th>Возрастное ограничение</th>\n",
       "      <th>Категория</th>\n",
       "      <th>Продолжительность</th>\n",
       "      <th>Рейтинг</th>\n",
       "    </tr>\n",
       "  </thead>\n",
       "  <tbody>\n",
       "    <tr>\n",
       "      <th>0</th>\n",
       "      <td>На солнце, вдоль рядов кукурузы</td>\n",
       "      <td>Россия</td>\n",
       "      <td>Драмы</td>\n",
       "      <td>2023</td>\n",
       "      <td>0</td>\n",
       "      <td>6</td>\n",
       "      <td>Детское</td>\n",
       "      <td>89</td>\n",
       "      <td>8.4</td>\n",
       "    </tr>\n",
       "    <tr>\n",
       "      <th>1</th>\n",
       "      <td>Беспринципные в деревне</td>\n",
       "      <td>Россия</td>\n",
       "      <td>Комедии</td>\n",
       "      <td>2023</td>\n",
       "      <td>0</td>\n",
       "      <td>18</td>\n",
       "      <td>Взрослое</td>\n",
       "      <td>86</td>\n",
       "      <td>7.2</td>\n",
       "    </tr>\n",
       "    <tr>\n",
       "      <th>2</th>\n",
       "      <td>Нюрнберг</td>\n",
       "      <td>Россия</td>\n",
       "      <td>Драмы</td>\n",
       "      <td>2023</td>\n",
       "      <td>0</td>\n",
       "      <td>12</td>\n",
       "      <td>Подростковое</td>\n",
       "      <td>124</td>\n",
       "      <td>8.1</td>\n",
       "    </tr>\n",
       "    <tr>\n",
       "      <th>3</th>\n",
       "      <td>Моё прекрасное несчастье</td>\n",
       "      <td>США</td>\n",
       "      <td>Комедии</td>\n",
       "      <td>2023</td>\n",
       "      <td>0</td>\n",
       "      <td>18</td>\n",
       "      <td>Взрослое</td>\n",
       "      <td>91</td>\n",
       "      <td>7.7</td>\n",
       "    </tr>\n",
       "    <tr>\n",
       "      <th>4</th>\n",
       "      <td>Взломщик</td>\n",
       "      <td>США</td>\n",
       "      <td>Криминал</td>\n",
       "      <td>2023</td>\n",
       "      <td>0</td>\n",
       "      <td>18</td>\n",
       "      <td>Взрослое</td>\n",
       "      <td>91</td>\n",
       "      <td>6.5</td>\n",
       "    </tr>\n",
       "    <tr>\n",
       "      <th>...</th>\n",
       "      <td>...</td>\n",
       "      <td>...</td>\n",
       "      <td>...</td>\n",
       "      <td>...</td>\n",
       "      <td>...</td>\n",
       "      <td>...</td>\n",
       "      <td>...</td>\n",
       "      <td>...</td>\n",
       "      <td>...</td>\n",
       "    </tr>\n",
       "    <tr>\n",
       "      <th>2056</th>\n",
       "      <td>Марионетка</td>\n",
       "      <td>Нидерланды</td>\n",
       "      <td>Триллеры</td>\n",
       "      <td>2020</td>\n",
       "      <td>3</td>\n",
       "      <td>18</td>\n",
       "      <td>Взрослое</td>\n",
       "      <td>107</td>\n",
       "      <td>6.5</td>\n",
       "    </tr>\n",
       "    <tr>\n",
       "      <th>2057</th>\n",
       "      <td>Русалка. Озеро мертвых</td>\n",
       "      <td>Россия</td>\n",
       "      <td>Ужасы</td>\n",
       "      <td>2018</td>\n",
       "      <td>5</td>\n",
       "      <td>16</td>\n",
       "      <td>Подростковое</td>\n",
       "      <td>83</td>\n",
       "      <td>5.5</td>\n",
       "    </tr>\n",
       "    <tr>\n",
       "      <th>2058</th>\n",
       "      <td>Форсаж 4</td>\n",
       "      <td>США</td>\n",
       "      <td>Криминал</td>\n",
       "      <td>2009</td>\n",
       "      <td>14</td>\n",
       "      <td>16</td>\n",
       "      <td>Подростковое</td>\n",
       "      <td>106</td>\n",
       "      <td>8.8</td>\n",
       "    </tr>\n",
       "    <tr>\n",
       "      <th>2059</th>\n",
       "      <td>Полночь на злаковом поле</td>\n",
       "      <td>США</td>\n",
       "      <td>Триллеры</td>\n",
       "      <td>2021</td>\n",
       "      <td>2</td>\n",
       "      <td>16</td>\n",
       "      <td>Подростковое</td>\n",
       "      <td>98</td>\n",
       "      <td>6.7</td>\n",
       "    </tr>\n",
       "    <tr>\n",
       "      <th>2060</th>\n",
       "      <td>Грань времени</td>\n",
       "      <td>США</td>\n",
       "      <td>Фантастика</td>\n",
       "      <td>2016</td>\n",
       "      <td>7</td>\n",
       "      <td>16</td>\n",
       "      <td>Подростковое</td>\n",
       "      <td>99</td>\n",
       "      <td>5.2</td>\n",
       "    </tr>\n",
       "  </tbody>\n",
       "</table>\n",
       "<p>2061 rows × 9 columns</p>\n",
       "</div>"
      ],
      "text/plain": [
       "                             Название      Страна        Жанр  Год выпуска  \\\n",
       "0     На солнце, вдоль рядов кукурузы      Россия       Драмы         2023   \n",
       "1             Беспринципные в деревне      Россия     Комедии         2023   \n",
       "2                            Нюрнберг      Россия       Драмы         2023   \n",
       "3            Моё прекрасное несчастье         США     Комедии         2023   \n",
       "4                            Взломщик         США    Криминал         2023   \n",
       "...                               ...         ...         ...          ...   \n",
       "2056                       Марионетка  Нидерланды    Триллеры         2020   \n",
       "2057           Русалка. Озеро мертвых      Россия       Ужасы         2018   \n",
       "2058                         Форсаж 4         США    Криминал         2009   \n",
       "2059         Полночь на злаковом поле         США    Триллеры         2021   \n",
       "2060                    Грань времени         США  Фантастика         2016   \n",
       "\n",
       "      Давность  Возрастное ограничение     Категория  Продолжительность  \\\n",
       "0            0                       6       Детское                 89   \n",
       "1            0                      18      Взрослое                 86   \n",
       "2            0                      12  Подростковое                124   \n",
       "3            0                      18      Взрослое                 91   \n",
       "4            0                      18      Взрослое                 91   \n",
       "...        ...                     ...           ...                ...   \n",
       "2056         3                      18      Взрослое                107   \n",
       "2057         5                      16  Подростковое                 83   \n",
       "2058        14                      16  Подростковое                106   \n",
       "2059         2                      16  Подростковое                 98   \n",
       "2060         7                      16  Подростковое                 99   \n",
       "\n",
       "      Рейтинг  \n",
       "0         8.4  \n",
       "1         7.2  \n",
       "2         8.1  \n",
       "3         7.7  \n",
       "4         6.5  \n",
       "...       ...  \n",
       "2056      6.5  \n",
       "2057      5.5  \n",
       "2058      8.8  \n",
       "2059      6.7  \n",
       "2060      5.2  \n",
       "\n",
       "[2061 rows x 9 columns]"
      ]
     },
     "execution_count": 4,
     "metadata": {},
     "output_type": "execute_result"
    }
   ],
   "source": [
    "df = pd.read_csv('project_new_feature_year_class.csv')\n",
    "df"
   ]
  },
  {
   "cell_type": "markdown",
   "id": "bbc67ddf",
   "metadata": {},
   "source": [
    "## Гипотеза №1: Любимые мультики"
   ]
  },
  {
   "cell_type": "markdown",
   "id": "a857c10b",
   "metadata": {},
   "source": [
    "Мы думаем, что в России умеют создавать хорошие фильмы \"Для всей семьи\", которые ценятся по всему миру. Поэтому мы решили рассмотреть фильмы с возрастным ограничением 0+ и 6+ за всю историю России (Россия и СССР). Наше предположение основывалось на анализе гистограммы среднего возрастного ограничения по странам в части EDA, потому что в СССР, как оказалось, самое низкое возрастное ограничение."
   ]
  },
  {
   "cell_type": "markdown",
   "id": "7fff69d4",
   "metadata": {},
   "source": [
    "__Перейдём к рассмотрению 1 гипотезы:__\n",
    "средний рейтинг фильмов с возрастным ограничением 0+ и 6+ в России и СССР больше 8.5"
   ]
  },
  {
   "cell_type": "markdown",
   "id": "f6b350ea",
   "metadata": {},
   "source": [
    "$$\n",
    "\\begin{aligned}\n",
    "&H_0: \\hspace{2mm} \\mu ≥ 8.5 \\\\\n",
    "&H_1: \\hspace{2mm} \\mu < 8.5\n",
    "\\end{aligned}\n",
    "$$"
   ]
  },
  {
   "cell_type": "markdown",
   "id": "66f9f2ad",
   "metadata": {},
   "source": [
    "Изначально посмотрим, как распределены наши значения рейтинга при условии стран и возрастного ограничения."
   ]
  },
  {
   "cell_type": "code",
   "execution_count": 5,
   "id": "4f7614a2",
   "metadata": {},
   "outputs": [
    {
     "data": {
      "text/html": [
       "<div>\n",
       "<style scoped>\n",
       "    .dataframe tbody tr th:only-of-type {\n",
       "        vertical-align: middle;\n",
       "    }\n",
       "\n",
       "    .dataframe tbody tr th {\n",
       "        vertical-align: top;\n",
       "    }\n",
       "\n",
       "    .dataframe thead th {\n",
       "        text-align: right;\n",
       "    }\n",
       "</style>\n",
       "<table border=\"1\" class=\"dataframe\">\n",
       "  <thead>\n",
       "    <tr style=\"text-align: right;\">\n",
       "      <th></th>\n",
       "      <th>Название</th>\n",
       "      <th>Страна</th>\n",
       "      <th>Жанр</th>\n",
       "      <th>Год выпуска</th>\n",
       "      <th>Давность</th>\n",
       "      <th>Возрастное ограничение</th>\n",
       "      <th>Категория</th>\n",
       "      <th>Продолжительность</th>\n",
       "      <th>Рейтинг</th>\n",
       "    </tr>\n",
       "  </thead>\n",
       "  <tbody>\n",
       "    <tr>\n",
       "      <th>0</th>\n",
       "      <td>На солнце, вдоль рядов кукурузы</td>\n",
       "      <td>Россия</td>\n",
       "      <td>Драмы</td>\n",
       "      <td>2023</td>\n",
       "      <td>0</td>\n",
       "      <td>6</td>\n",
       "      <td>Детское</td>\n",
       "      <td>89</td>\n",
       "      <td>8.4</td>\n",
       "    </tr>\n",
       "    <tr>\n",
       "      <th>43</th>\n",
       "      <td>Солдатик</td>\n",
       "      <td>Россия</td>\n",
       "      <td>Драмы</td>\n",
       "      <td>2019</td>\n",
       "      <td>4</td>\n",
       "      <td>6</td>\n",
       "      <td>Детское</td>\n",
       "      <td>86</td>\n",
       "      <td>8.6</td>\n",
       "    </tr>\n",
       "    <tr>\n",
       "      <th>46</th>\n",
       "      <td>Последний богатырь: Посланник Тьмы</td>\n",
       "      <td>Россия</td>\n",
       "      <td>Фэнтези</td>\n",
       "      <td>2021</td>\n",
       "      <td>2</td>\n",
       "      <td>6</td>\n",
       "      <td>Детское</td>\n",
       "      <td>107</td>\n",
       "      <td>8.4</td>\n",
       "    </tr>\n",
       "    <tr>\n",
       "      <th>56</th>\n",
       "      <td>Моя ужасная сестра</td>\n",
       "      <td>Россия</td>\n",
       "      <td>Комедии</td>\n",
       "      <td>2022</td>\n",
       "      <td>1</td>\n",
       "      <td>6</td>\n",
       "      <td>Детское</td>\n",
       "      <td>74</td>\n",
       "      <td>7.9</td>\n",
       "    </tr>\n",
       "    <tr>\n",
       "      <th>86</th>\n",
       "      <td>Офицеры (цветная версия)</td>\n",
       "      <td>СССР</td>\n",
       "      <td>Советские</td>\n",
       "      <td>1971</td>\n",
       "      <td>52</td>\n",
       "      <td>6</td>\n",
       "      <td>Детское</td>\n",
       "      <td>95</td>\n",
       "      <td>9.0</td>\n",
       "    </tr>\n",
       "    <tr>\n",
       "      <th>...</th>\n",
       "      <td>...</td>\n",
       "      <td>...</td>\n",
       "      <td>...</td>\n",
       "      <td>...</td>\n",
       "      <td>...</td>\n",
       "      <td>...</td>\n",
       "      <td>...</td>\n",
       "      <td>...</td>\n",
       "      <td>...</td>\n",
       "    </tr>\n",
       "    <tr>\n",
       "      <th>1903</th>\n",
       "      <td>Москва-Кассиопея</td>\n",
       "      <td>СССР</td>\n",
       "      <td>Фантастика</td>\n",
       "      <td>1974</td>\n",
       "      <td>49</td>\n",
       "      <td>6</td>\n",
       "      <td>Детское</td>\n",
       "      <td>79</td>\n",
       "      <td>8.2</td>\n",
       "    </tr>\n",
       "    <tr>\n",
       "      <th>1949</th>\n",
       "      <td>Доживем до понедельника</td>\n",
       "      <td>СССР</td>\n",
       "      <td>Мелодрамы</td>\n",
       "      <td>1968</td>\n",
       "      <td>55</td>\n",
       "      <td>0</td>\n",
       "      <td>Детское</td>\n",
       "      <td>100</td>\n",
       "      <td>8.6</td>\n",
       "    </tr>\n",
       "    <tr>\n",
       "      <th>2011</th>\n",
       "      <td>Спящая красавица. Легенда двух королевств: Лед...</td>\n",
       "      <td>Россия</td>\n",
       "      <td>спектакли</td>\n",
       "      <td>2020</td>\n",
       "      <td>3</td>\n",
       "      <td>0</td>\n",
       "      <td>Детское</td>\n",
       "      <td>95</td>\n",
       "      <td>7.9</td>\n",
       "    </tr>\n",
       "    <tr>\n",
       "      <th>2019</th>\n",
       "      <td>Ёлки Последние</td>\n",
       "      <td>Россия</td>\n",
       "      <td>Комедии</td>\n",
       "      <td>2018</td>\n",
       "      <td>5</td>\n",
       "      <td>6</td>\n",
       "      <td>Детское</td>\n",
       "      <td>92</td>\n",
       "      <td>8.1</td>\n",
       "    </tr>\n",
       "    <tr>\n",
       "      <th>2030</th>\n",
       "      <td>Команда мечты</td>\n",
       "      <td>Россия</td>\n",
       "      <td>Спорт</td>\n",
       "      <td>2019</td>\n",
       "      <td>4</td>\n",
       "      <td>6</td>\n",
       "      <td>Детское</td>\n",
       "      <td>81</td>\n",
       "      <td>7.7</td>\n",
       "    </tr>\n",
       "  </tbody>\n",
       "</table>\n",
       "<p>95 rows × 9 columns</p>\n",
       "</div>"
      ],
      "text/plain": [
       "                                               Название  Страна        Жанр  \\\n",
       "0                       На солнце, вдоль рядов кукурузы  Россия       Драмы   \n",
       "43                                             Солдатик  Россия       Драмы   \n",
       "46                   Последний богатырь: Посланник Тьмы  Россия     Фэнтези   \n",
       "56                                   Моя ужасная сестра  Россия     Комедии   \n",
       "86                             Офицеры (цветная версия)    СССР   Советские   \n",
       "...                                                 ...     ...         ...   \n",
       "1903                                   Москва-Кассиопея    СССР  Фантастика   \n",
       "1949                            Доживем до понедельника    СССР   Мелодрамы   \n",
       "2011  Спящая красавица. Легенда двух королевств: Лед...  Россия   спектакли   \n",
       "2019                                     Ёлки Последние  Россия     Комедии   \n",
       "2030                                      Команда мечты  Россия       Спорт   \n",
       "\n",
       "      Год выпуска  Давность  Возрастное ограничение Категория  \\\n",
       "0            2023         0                       6   Детское   \n",
       "43           2019         4                       6   Детское   \n",
       "46           2021         2                       6   Детское   \n",
       "56           2022         1                       6   Детское   \n",
       "86           1971        52                       6   Детское   \n",
       "...           ...       ...                     ...       ...   \n",
       "1903         1974        49                       6   Детское   \n",
       "1949         1968        55                       0   Детское   \n",
       "2011         2020         3                       0   Детское   \n",
       "2019         2018         5                       6   Детское   \n",
       "2030         2019         4                       6   Детское   \n",
       "\n",
       "      Продолжительность  Рейтинг  \n",
       "0                    89      8.4  \n",
       "43                   86      8.6  \n",
       "46                  107      8.4  \n",
       "56                   74      7.9  \n",
       "86                   95      9.0  \n",
       "...                 ...      ...  \n",
       "1903                 79      8.2  \n",
       "1949                100      8.6  \n",
       "2011                 95      7.9  \n",
       "2019                 92      8.1  \n",
       "2030                 81      7.7  \n",
       "\n",
       "[95 rows x 9 columns]"
      ]
     },
     "execution_count": 5,
     "metadata": {},
     "output_type": "execute_result"
    }
   ],
   "source": [
    "rus_SU=df[(df['Страна']=='Россия')|(df['Страна']=='СССР')][(df['Возрастное ограничение']==0)|(df['Возрастное ограничение']==6)]\n",
    "rus_SU"
   ]
  },
  {
   "cell_type": "code",
   "execution_count": 24,
   "id": "b76dac98",
   "metadata": {},
   "outputs": [
    {
     "data": {
      "text/plain": [
       "Text(0.5, 1.0, 'Распределение рейтинга фильмов в России и СССР (0+ и 6+)')"
      ]
     },
     "execution_count": 24,
     "metadata": {},
     "output_type": "execute_result"
    },
    {
     "data": {
      "image/png": "[encoded data removed]",
      "text/plain": [
       "<Figure size 640x480 with 1 Axes>"
      ]
     },
     "metadata": {},
     "output_type": "display_data"
    }
   ],
   "source": [
    "sns.distplot(rus_SU['Рейтинг'])\n",
    "plt.ylabel(\"Плотность\")\n",
    "plt.title('Распределение рейтинга фильмов в России и СССР (0+ и 6+)')"
   ]
  },
  {
   "cell_type": "markdown",
   "id": "ba7a2fe3",
   "metadata": {},
   "source": [
    "Заметим из графика, что распределение скошено, а также присутствуют выбросы, что мешает нам обратиться к z-тестам и t-тестам. Поэтому придётся прибегнуть к непараметрическим тестам. \n",
    "\n",
    "Применим тест Уилкоксона на одной выборке, который подходит в случае, если распределение нельзя отнести к нормальному. "
   ]
  },
  {
   "cell_type": "code",
   "execution_count": 7,
   "id": "a0f92737",
   "metadata": {},
   "outputs": [
    {
     "data": {
      "text/plain": [
       "WilcoxonResult(statistic=637.0, pvalue=2.998180880127762e-08)"
      ]
     },
     "execution_count": 7,
     "metadata": {},
     "output_type": "execute_result"
    }
   ],
   "source": [
    "statistic_pvalue=sts.wilcoxon(rus_SU['Рейтинг']-8.5,alternative='less')\n",
    "statistic_pvalue"
   ]
  },
  {
   "cell_type": "code",
   "execution_count": 8,
   "id": "92a04250",
   "metadata": {},
   "outputs": [
    {
     "data": {
      "text/plain": [
       "False"
      ]
     },
     "execution_count": 8,
     "metadata": {},
     "output_type": "execute_result"
    }
   ],
   "source": [
    "statistic_pvalue[1]>0.05"
   ]
  },
  {
   "cell_type": "markdown",
   "id": "41dfa726",
   "metadata": {},
   "source": [
    "__Вывод:__\n",
    "\n",
    "Поскольку рассчитанный p-value меньше уровня значимости, отвергаем нулевую гипотезу и считаем, что средний рейтинг фильмов категории 0+ и 6+ за всю историю советского и постсоветсткого кино был меньше 8.5, что в принципе заметно на графике с левосторонней асимметрией и продолжительным хвостом слева, что сдвигает средний рейтинг дальше от 8.5. Однако можем выявить, что, хоть наша гипотеза отверглась, большая часть фильмов нашего производства достаточно высоко оценивается. Хотя это может быть связано с тем, что большая часть российского кинематографа на ИВИ не требует подписки для просмотра, поэтому их может просмотреть и оценить больше людей."
   ]
  },
  {
   "cell_type": "markdown",
   "id": "299ed6f5",
   "metadata": {},
   "source": [
    "## Гипотеза №2: Кино-кинонема-кинематограф"
   ]
  },
  {
   "cell_type": "markdown",
   "id": "3e2a5341",
   "metadata": {},
   "source": [
    "Тогда перейдём к тестированию следующей гипотезы:  средняя продолжительность фильмов в Великобритании примерно равна средней во Франции. Альтернативная: средняя продолжительность фильмов в Великобритании больше средней во Франции. \\\n",
    "Выбор представленных стран основывался на примерно одинаковом кол-ве данных в выборках."
   ]
  },
  {
   "cell_type": "code",
   "execution_count": 31,
   "id": "542a986d",
   "metadata": {},
   "outputs": [
    {
     "data": {
      "text/plain": [
       "145"
      ]
     },
     "execution_count": 31,
     "metadata": {},
     "output_type": "execute_result"
    }
   ],
   "source": [
    "len(df[df['Страна']=='Великобритания'])"
   ]
  },
  {
   "cell_type": "code",
   "execution_count": 32,
   "id": "1c1e76ad",
   "metadata": {},
   "outputs": [
    {
     "data": {
      "text/plain": [
       "118"
      ]
     },
     "execution_count": 32,
     "metadata": {},
     "output_type": "execute_result"
    }
   ],
   "source": [
    "len(df[df['Страна']=='Франция'])"
   ]
  },
  {
   "cell_type": "markdown",
   "id": "94c48382",
   "metadata": {},
   "source": [
    "$$\n",
    "\\begin{aligned}\n",
    "& H_0: \\mu_{UK} = \\mu_{France} \\\\\n",
    "& H_1: \\mu_{UK} > \\mu_{France}\n",
    "\\end{aligned}\n",
    "$$"
   ]
  },
  {
   "cell_type": "markdown",
   "id": "98c04ed1",
   "metadata": {},
   "source": [
    "Снова перед принятием решения о выборе того или иного критерия проверки посмотрим на распределение продолжительности фильмов в указанных странах."
   ]
  },
  {
   "cell_type": "code",
   "execution_count": 9,
   "id": "376b3d16",
   "metadata": {},
   "outputs": [
    {
     "data": {
      "text/html": [
       "<div>\n",
       "<style scoped>\n",
       "    .dataframe tbody tr th:only-of-type {\n",
       "        vertical-align: middle;\n",
       "    }\n",
       "\n",
       "    .dataframe tbody tr th {\n",
       "        vertical-align: top;\n",
       "    }\n",
       "\n",
       "    .dataframe thead th {\n",
       "        text-align: right;\n",
       "    }\n",
       "</style>\n",
       "<table border=\"1\" class=\"dataframe\">\n",
       "  <thead>\n",
       "    <tr style=\"text-align: right;\">\n",
       "      <th></th>\n",
       "      <th>Название</th>\n",
       "      <th>Страна</th>\n",
       "      <th>Жанр</th>\n",
       "      <th>Год выпуска</th>\n",
       "      <th>Давность</th>\n",
       "      <th>Возрастное ограничение</th>\n",
       "      <th>Категория</th>\n",
       "      <th>Продолжительность</th>\n",
       "      <th>Рейтинг</th>\n",
       "    </tr>\n",
       "  </thead>\n",
       "  <tbody>\n",
       "    <tr>\n",
       "      <th>15</th>\n",
       "      <td>Горизонт в огне</td>\n",
       "      <td>Франция</td>\n",
       "      <td>Драмы</td>\n",
       "      <td>2022</td>\n",
       "      <td>1</td>\n",
       "      <td>18</td>\n",
       "      <td>Взрослое</td>\n",
       "      <td>134</td>\n",
       "      <td>8.1</td>\n",
       "    </tr>\n",
       "    <tr>\n",
       "      <th>18</th>\n",
       "      <td>При чём тут любовь?</td>\n",
       "      <td>Великобритания</td>\n",
       "      <td>Мелодрамы</td>\n",
       "      <td>2022</td>\n",
       "      <td>1</td>\n",
       "      <td>18</td>\n",
       "      <td>Взрослое</td>\n",
       "      <td>104</td>\n",
       "      <td>8.2</td>\n",
       "    </tr>\n",
       "    <tr>\n",
       "      <th>29</th>\n",
       "      <td>1+1</td>\n",
       "      <td>Франция</td>\n",
       "      <td>Драмы</td>\n",
       "      <td>2011</td>\n",
       "      <td>12</td>\n",
       "      <td>16</td>\n",
       "      <td>Подростковое</td>\n",
       "      <td>112</td>\n",
       "      <td>9.0</td>\n",
       "    </tr>\n",
       "    <tr>\n",
       "      <th>35</th>\n",
       "      <td>Путешественница во времени</td>\n",
       "      <td>Франция</td>\n",
       "      <td>Драмы</td>\n",
       "      <td>2022</td>\n",
       "      <td>1</td>\n",
       "      <td>16</td>\n",
       "      <td>Подростковое</td>\n",
       "      <td>120</td>\n",
       "      <td>7.7</td>\n",
       "    </tr>\n",
       "    <tr>\n",
       "      <th>38</th>\n",
       "      <td>Война миров: Вторжение</td>\n",
       "      <td>Великобритания</td>\n",
       "      <td>Фантастика</td>\n",
       "      <td>2023</td>\n",
       "      <td>0</td>\n",
       "      <td>12</td>\n",
       "      <td>Подростковое</td>\n",
       "      <td>83</td>\n",
       "      <td>4.7</td>\n",
       "    </tr>\n",
       "    <tr>\n",
       "      <th>...</th>\n",
       "      <td>...</td>\n",
       "      <td>...</td>\n",
       "      <td>...</td>\n",
       "      <td>...</td>\n",
       "      <td>...</td>\n",
       "      <td>...</td>\n",
       "      <td>...</td>\n",
       "      <td>...</td>\n",
       "      <td>...</td>\n",
       "    </tr>\n",
       "    <tr>\n",
       "      <th>2015</th>\n",
       "      <td>Овердрайв</td>\n",
       "      <td>Франция</td>\n",
       "      <td>Боевики</td>\n",
       "      <td>2017</td>\n",
       "      <td>6</td>\n",
       "      <td>16</td>\n",
       "      <td>Подростковое</td>\n",
       "      <td>89</td>\n",
       "      <td>7.4</td>\n",
       "    </tr>\n",
       "    <tr>\n",
       "      <th>2023</th>\n",
       "      <td>Гнездо</td>\n",
       "      <td>Великобритания</td>\n",
       "      <td>Драмы</td>\n",
       "      <td>2020</td>\n",
       "      <td>3</td>\n",
       "      <td>18</td>\n",
       "      <td>Взрослое</td>\n",
       "      <td>103</td>\n",
       "      <td>5.9</td>\n",
       "    </tr>\n",
       "    <tr>\n",
       "      <th>2034</th>\n",
       "      <td>Выжившая</td>\n",
       "      <td>Франция</td>\n",
       "      <td>Триллеры</td>\n",
       "      <td>2017</td>\n",
       "      <td>6</td>\n",
       "      <td>18</td>\n",
       "      <td>Взрослое</td>\n",
       "      <td>108</td>\n",
       "      <td>5.7</td>\n",
       "    </tr>\n",
       "    <tr>\n",
       "      <th>2035</th>\n",
       "      <td>Путешествие Гектора в поисках счастья</td>\n",
       "      <td>Великобритания</td>\n",
       "      <td>Комедии</td>\n",
       "      <td>2014</td>\n",
       "      <td>9</td>\n",
       "      <td>16</td>\n",
       "      <td>Подростковое</td>\n",
       "      <td>114</td>\n",
       "      <td>8.0</td>\n",
       "    </tr>\n",
       "    <tr>\n",
       "      <th>2042</th>\n",
       "      <td>Не буди в ней зверя</td>\n",
       "      <td>Великобритания</td>\n",
       "      <td>Триллеры</td>\n",
       "      <td>2019</td>\n",
       "      <td>4</td>\n",
       "      <td>16</td>\n",
       "      <td>Подростковое</td>\n",
       "      <td>96</td>\n",
       "      <td>6.2</td>\n",
       "    </tr>\n",
       "  </tbody>\n",
       "</table>\n",
       "<p>263 rows × 9 columns</p>\n",
       "</div>"
      ],
      "text/plain": [
       "                                   Название          Страна        Жанр  \\\n",
       "15                          Горизонт в огне         Франция       Драмы   \n",
       "18                      При чём тут любовь?  Великобритания   Мелодрамы   \n",
       "29                                      1+1         Франция       Драмы   \n",
       "35               Путешественница во времени         Франция       Драмы   \n",
       "38                   Война миров: Вторжение  Великобритания  Фантастика   \n",
       "...                                     ...             ...         ...   \n",
       "2015                              Овердрайв         Франция     Боевики   \n",
       "2023                                 Гнездо  Великобритания       Драмы   \n",
       "2034                               Выжившая         Франция    Триллеры   \n",
       "2035  Путешествие Гектора в поисках счастья  Великобритания     Комедии   \n",
       "2042                    Не буди в ней зверя  Великобритания    Триллеры   \n",
       "\n",
       "      Год выпуска  Давность  Возрастное ограничение     Категория  \\\n",
       "15           2022         1                      18      Взрослое   \n",
       "18           2022         1                      18      Взрослое   \n",
       "29           2011        12                      16  Подростковое   \n",
       "35           2022         1                      16  Подростковое   \n",
       "38           2023         0                      12  Подростковое   \n",
       "...           ...       ...                     ...           ...   \n",
       "2015         2017         6                      16  Подростковое   \n",
       "2023         2020         3                      18      Взрослое   \n",
       "2034         2017         6                      18      Взрослое   \n",
       "2035         2014         9                      16  Подростковое   \n",
       "2042         2019         4                      16  Подростковое   \n",
       "\n",
       "      Продолжительность  Рейтинг  \n",
       "15                  134      8.1  \n",
       "18                  104      8.2  \n",
       "29                  112      9.0  \n",
       "35                  120      7.7  \n",
       "38                   83      4.7  \n",
       "...                 ...      ...  \n",
       "2015                 89      7.4  \n",
       "2023                103      5.9  \n",
       "2034                108      5.7  \n",
       "2035                114      8.0  \n",
       "2042                 96      6.2  \n",
       "\n",
       "[263 rows x 9 columns]"
      ]
     },
     "execution_count": 9,
     "metadata": {},
     "output_type": "execute_result"
    }
   ],
   "source": [
    "UK_France=df[(df['Страна']=='Великобритания')|(df['Страна']=='Франция')]\n",
    "UK_France"
   ]
  },
  {
   "cell_type": "code",
   "execution_count": 25,
   "id": "98036f35",
   "metadata": {},
   "outputs": [
    {
     "data": {
      "text/plain": [
       "Text(0.5, 1.0, 'Распределение продолжительности фильмов в Великобритании и Франции')"
      ]
     },
     "execution_count": 25,
     "metadata": {},
     "output_type": "execute_result"
    },
    {
     "data": {
      "image/png": "[encoded data removed]",
      "text/plain": [
       "<Figure size 673.125x500 with 1 Axes>"
      ]
     },
     "metadata": {},
     "output_type": "display_data"
    }
   ],
   "source": [
    "sns.displot(data=UK_France,x='Продолжительность', hue='Страна',kind='kde')\n",
    "plt.ylabel(\"Плотность\")\n",
    "plt.title('Распределение продолжительности фильмов в Великобритании и Франции')"
   ]
  },
  {
   "cell_type": "markdown",
   "id": "dc11db6d",
   "metadata": {},
   "source": [
    "Заметим, распределение продолжительностей фильмов в Великобритании и Франции визуально похоже на нормальное, следовательно можем смело применять односторонний t-тест, поскольку основные предпосылки выполняются.\n",
    "\n",
    "__Предпосылки:__\n",
    "1. Выборки независимы (продолжительность фильмов во Франции никак не влияет на продолжительность в Великобритании)\n",
    "2. Данные в выборке имеют нормальное распределение (как мы уже заметили выше)\n",
    "3. Дисперсии двух выборок между собой примерно равны (опираясь на график)\n",
    "4. Явные выбросы отсутствуют"
   ]
  },
  {
   "cell_type": "code",
   "execution_count": 11,
   "id": "d112b7dd",
   "metadata": {},
   "outputs": [
    {
     "data": {
      "text/plain": [
       "Ttest_indResult(statistic=-0.8794918459192044, pvalue=0.8100281623366462)"
      ]
     },
     "execution_count": 11,
     "metadata": {},
     "output_type": "execute_result"
    }
   ],
   "source": [
    "statistic_duration=sts.ttest_ind(UK_France[UK_France['Страна']=='Великобритания']['Продолжительность'],\n",
    "              UK_France[UK_France['Страна']=='Франция']['Продолжительность'],alternative='greater')\n",
    "statistic_duration"
   ]
  },
  {
   "cell_type": "code",
   "execution_count": 12,
   "id": "581190fb",
   "metadata": {},
   "outputs": [
    {
     "data": {
      "text/plain": [
       "True"
      ]
     },
     "execution_count": 12,
     "metadata": {},
     "output_type": "execute_result"
    }
   ],
   "source": [
    "statistic_duration[1]>0.05"
   ]
  },
  {
   "cell_type": "markdown",
   "id": "c81c2856",
   "metadata": {},
   "source": [
    "__Вывод:__\n",
    "\n",
    "Полученная величина p-value оказалась больше уровня значимости, поэтому принимаем нулевую гипотезу и считаем среднюю продолжительность фильмов одинаковой. Это говорит о возможно похожем тренде в киноиндустрии (схожие требования к жанру и формату:например, для телевизионных сериалов обычно устанавливаются стандартные временные рамки для каждой серии, а также, например, драматические фильмы обычно имеют более длительную продолжительность, в то время как комедии или мультфильмы могут быть более короткими (средняя продолжительность фильмов может варьироваться в зависимости от жанра))."
   ]
  },
  {
   "cell_type": "markdown",
   "id": "e4616768",
   "metadata": {},
   "source": [
    "## Гипотеза №3: Клиновый сироп VS Колбаска"
   ]
  },
  {
   "cell_type": "markdown",
   "id": "ae1157e6",
   "metadata": {},
   "source": [
    "Мы решили проверить стабильность качества выпускаемых фильмов после 2000-ых в определённых странах, которые мы выбрали по принципу схожести объёмов выборок."
   ]
  },
  {
   "cell_type": "code",
   "execution_count": 34,
   "id": "6ee647ec",
   "metadata": {},
   "outputs": [
    {
     "data": {
      "text/plain": [
       "53"
      ]
     },
     "execution_count": 34,
     "metadata": {},
     "output_type": "execute_result"
    }
   ],
   "source": [
    "len(df[df['Страна']=='Канада'][df['Год выпуска']>2000])"
   ]
  },
  {
   "cell_type": "code",
   "execution_count": 35,
   "id": "1bb946a9",
   "metadata": {},
   "outputs": [
    {
     "data": {
      "text/plain": [
       "45"
      ]
     },
     "execution_count": 35,
     "metadata": {},
     "output_type": "execute_result"
    }
   ],
   "source": [
    "len(df[df['Страна']=='Германия'][df['Год выпуска']>2000])"
   ]
  },
  {
   "cell_type": "markdown",
   "id": "07bed743",
   "metadata": {},
   "source": [
    "Теперь протестируем следующую гипотезу: разброс рейтинга фильмов c 2000 в Канаде равен разбросу в Германии.\n",
    "$$\n",
    "\\begin{aligned}\n",
    "& H_0: \\sigma^2_{Canada} = \\sigma^2_{Germany} \\\\\n",
    "& H_1: \\sigma^2_{Canada} > \\sigma^2_{Germany}\n",
    "\\end{aligned}\n",
    "$$"
   ]
  },
  {
   "cell_type": "markdown",
   "id": "825ee554",
   "metadata": {},
   "source": [
    "Следуя отработанному алгоритму посмотрим сначала на визуальное распределение рейтинга с указанного выше периода для Канады и Германии, и только после этого решим, какой статистикой будем пользоваться."
   ]
  },
  {
   "cell_type": "code",
   "execution_count": 13,
   "id": "680b7ab8",
   "metadata": {},
   "outputs": [
    {
     "data": {
      "text/html": [
       "<div>\n",
       "<style scoped>\n",
       "    .dataframe tbody tr th:only-of-type {\n",
       "        vertical-align: middle;\n",
       "    }\n",
       "\n",
       "    .dataframe tbody tr th {\n",
       "        vertical-align: top;\n",
       "    }\n",
       "\n",
       "    .dataframe thead th {\n",
       "        text-align: right;\n",
       "    }\n",
       "</style>\n",
       "<table border=\"1\" class=\"dataframe\">\n",
       "  <thead>\n",
       "    <tr style=\"text-align: right;\">\n",
       "      <th></th>\n",
       "      <th>Название</th>\n",
       "      <th>Страна</th>\n",
       "      <th>Жанр</th>\n",
       "      <th>Год выпуска</th>\n",
       "      <th>Давность</th>\n",
       "      <th>Возрастное ограничение</th>\n",
       "      <th>Категория</th>\n",
       "      <th>Продолжительность</th>\n",
       "      <th>Рейтинг</th>\n",
       "    </tr>\n",
       "  </thead>\n",
       "  <tbody>\n",
       "    <tr>\n",
       "      <th>21</th>\n",
       "      <td>Мой любимый призрак</td>\n",
       "      <td>Германия</td>\n",
       "      <td>Фэнтези</td>\n",
       "      <td>2022</td>\n",
       "      <td>1</td>\n",
       "      <td>6</td>\n",
       "      <td>Детское</td>\n",
       "      <td>88</td>\n",
       "      <td>7.5</td>\n",
       "    </tr>\n",
       "    <tr>\n",
       "      <th>25</th>\n",
       "      <td>13 минут</td>\n",
       "      <td>Канада</td>\n",
       "      <td>Боевики</td>\n",
       "      <td>2021</td>\n",
       "      <td>2</td>\n",
       "      <td>18</td>\n",
       "      <td>Взрослое</td>\n",
       "      <td>104</td>\n",
       "      <td>6.5</td>\n",
       "    </tr>\n",
       "    <tr>\n",
       "      <th>116</th>\n",
       "      <td>Ограбление на лайнере</td>\n",
       "      <td>Германия</td>\n",
       "      <td>Комедии</td>\n",
       "      <td>2021</td>\n",
       "      <td>2</td>\n",
       "      <td>16</td>\n",
       "      <td>Подростковое</td>\n",
       "      <td>105</td>\n",
       "      <td>7.1</td>\n",
       "    </tr>\n",
       "    <tr>\n",
       "      <th>128</th>\n",
       "      <td>Царство красоты</td>\n",
       "      <td>Канада</td>\n",
       "      <td>Драмы</td>\n",
       "      <td>2014</td>\n",
       "      <td>9</td>\n",
       "      <td>18</td>\n",
       "      <td>Взрослое</td>\n",
       "      <td>97</td>\n",
       "      <td>5.1</td>\n",
       "    </tr>\n",
       "    <tr>\n",
       "      <th>204</th>\n",
       "      <td>Не/смотря ни на что</td>\n",
       "      <td>Германия</td>\n",
       "      <td>Комедии</td>\n",
       "      <td>2017</td>\n",
       "      <td>6</td>\n",
       "      <td>16</td>\n",
       "      <td>Подростковое</td>\n",
       "      <td>106</td>\n",
       "      <td>8.6</td>\n",
       "    </tr>\n",
       "    <tr>\n",
       "      <th>...</th>\n",
       "      <td>...</td>\n",
       "      <td>...</td>\n",
       "      <td>...</td>\n",
       "      <td>...</td>\n",
       "      <td>...</td>\n",
       "      <td>...</td>\n",
       "      <td>...</td>\n",
       "      <td>...</td>\n",
       "      <td>...</td>\n",
       "    </tr>\n",
       "    <tr>\n",
       "      <th>1942</th>\n",
       "      <td>Небеса подождут</td>\n",
       "      <td>Германия</td>\n",
       "      <td>Драмы</td>\n",
       "      <td>2020</td>\n",
       "      <td>3</td>\n",
       "      <td>16</td>\n",
       "      <td>Подростковое</td>\n",
       "      <td>97</td>\n",
       "      <td>8.0</td>\n",
       "    </tr>\n",
       "    <tr>\n",
       "      <th>1970</th>\n",
       "      <td>Проклятие матери: Прятки на выживание</td>\n",
       "      <td>Канада</td>\n",
       "      <td>Триллеры</td>\n",
       "      <td>2021</td>\n",
       "      <td>2</td>\n",
       "      <td>16</td>\n",
       "      <td>Подростковое</td>\n",
       "      <td>77</td>\n",
       "      <td>5.8</td>\n",
       "    </tr>\n",
       "    <tr>\n",
       "      <th>1988</th>\n",
       "      <td>Джим Пуговка и чертова дюжина</td>\n",
       "      <td>Германия</td>\n",
       "      <td>Фэнтези</td>\n",
       "      <td>2020</td>\n",
       "      <td>3</td>\n",
       "      <td>6</td>\n",
       "      <td>Детское</td>\n",
       "      <td>109</td>\n",
       "      <td>8.0</td>\n",
       "    </tr>\n",
       "    <tr>\n",
       "      <th>1992</th>\n",
       "      <td>Операция «Колибри»</td>\n",
       "      <td>Канада</td>\n",
       "      <td>Триллеры</td>\n",
       "      <td>2018</td>\n",
       "      <td>5</td>\n",
       "      <td>16</td>\n",
       "      <td>Подростковое</td>\n",
       "      <td>106</td>\n",
       "      <td>7.2</td>\n",
       "    </tr>\n",
       "    <tr>\n",
       "      <th>2017</th>\n",
       "      <td>Мясники</td>\n",
       "      <td>Канада</td>\n",
       "      <td>Ужасы</td>\n",
       "      <td>2020</td>\n",
       "      <td>3</td>\n",
       "      <td>18</td>\n",
       "      <td>Взрослое</td>\n",
       "      <td>92</td>\n",
       "      <td>5.2</td>\n",
       "    </tr>\n",
       "  </tbody>\n",
       "</table>\n",
       "<p>98 rows × 9 columns</p>\n",
       "</div>"
      ],
      "text/plain": [
       "                                   Название    Страна      Жанр  Год выпуска  \\\n",
       "21                      Мой любимый призрак  Германия   Фэнтези         2022   \n",
       "25                                 13 минут    Канада   Боевики         2021   \n",
       "116                   Ограбление на лайнере  Германия   Комедии         2021   \n",
       "128                         Царство красоты    Канада     Драмы         2014   \n",
       "204                     Не/смотря ни на что  Германия   Комедии         2017   \n",
       "...                                     ...       ...       ...          ...   \n",
       "1942                        Небеса подождут  Германия     Драмы         2020   \n",
       "1970  Проклятие матери: Прятки на выживание    Канада  Триллеры         2021   \n",
       "1988          Джим Пуговка и чертова дюжина  Германия   Фэнтези         2020   \n",
       "1992                     Операция «Колибри»    Канада  Триллеры         2018   \n",
       "2017                                Мясники    Канада     Ужасы         2020   \n",
       "\n",
       "      Давность  Возрастное ограничение     Категория  Продолжительность  \\\n",
       "21           1                       6       Детское                 88   \n",
       "25           2                      18      Взрослое                104   \n",
       "116          2                      16  Подростковое                105   \n",
       "128          9                      18      Взрослое                 97   \n",
       "204          6                      16  Подростковое                106   \n",
       "...        ...                     ...           ...                ...   \n",
       "1942         3                      16  Подростковое                 97   \n",
       "1970         2                      16  Подростковое                 77   \n",
       "1988         3                       6       Детское                109   \n",
       "1992         5                      16  Подростковое                106   \n",
       "2017         3                      18      Взрослое                 92   \n",
       "\n",
       "      Рейтинг  \n",
       "21        7.5  \n",
       "25        6.5  \n",
       "116       7.1  \n",
       "128       5.1  \n",
       "204       8.6  \n",
       "...       ...  \n",
       "1942      8.0  \n",
       "1970      5.8  \n",
       "1988      8.0  \n",
       "1992      7.2  \n",
       "2017      5.2  \n",
       "\n",
       "[98 rows x 9 columns]"
      ]
     },
     "execution_count": 13,
     "metadata": {},
     "output_type": "execute_result"
    }
   ],
   "source": [
    "Canada_Germany=df[(df['Страна']=='Канада')|(df['Страна']=='Германия')][df['Год выпуска']>2000] \n",
    "Canada_Germany"
   ]
  },
  {
   "cell_type": "code",
   "execution_count": 26,
   "id": "e17e3b18",
   "metadata": {},
   "outputs": [
    {
     "data": {
      "text/plain": [
       "Text(0.5, 1.0, 'Распределение рейтинга фильмов в Канаде и Германии в 2000')"
      ]
     },
     "execution_count": 26,
     "metadata": {},
     "output_type": "execute_result"
    },
    {
     "data": {
      "image/png": "[encoded data removed]",
      "text/plain": [
       "<Figure size 621.5x500 with 1 Axes>"
      ]
     },
     "metadata": {},
     "output_type": "display_data"
    }
   ],
   "source": [
    "sns.displot(data=Canada_Germany, x='Рейтинг', hue='Страна',kind='kde')\n",
    "plt.ylabel(\"Плотность\")\n",
    "plt.title('Распределение рейтинга фильмов в Канаде и Германии в 2000')"
   ]
  },
  {
   "cell_type": "markdown",
   "id": "24e36c71",
   "metadata": {},
   "source": [
    "Из построенного графика можно легко наблюдать несхожесть распределений рейтинга в двух странах. Соответсвенно, определённо нужно воспользоваться непараметрическим тестом. На просторах интернета мы вычитали, что одним из таких тестов, который бы сравнивал дисперсии двух независимых выборок, является тест Левена."
   ]
  },
  {
   "cell_type": "code",
   "execution_count": 15,
   "id": "c5106997",
   "metadata": {},
   "outputs": [
    {
     "data": {
      "text/plain": [
       "0.0021960853217632896"
      ]
     },
     "execution_count": 15,
     "metadata": {},
     "output_type": "execute_result"
    }
   ],
   "source": [
    "statistic_ratio=sts.levene(Canada_Germany[Canada_Germany['Страна']=='Канада']['Рейтинг'],\n",
    "           Canada_Germany[Canada_Germany['Страна']=='Германия']['Рейтинг']) #по дефолту считает двустороннее p-value\n",
    "statistic_p_value = statistic_ratio[1]/2\n",
    "statistic_p_value"
   ]
  },
  {
   "cell_type": "code",
   "execution_count": 16,
   "id": "5b9face5",
   "metadata": {},
   "outputs": [
    {
     "name": "stdout",
     "output_type": "stream",
     "text": [
      "Отвергаем нулевую гипотезу.\n"
     ]
    }
   ],
   "source": [
    "if statistic_p_value < 0.05:\n",
    "    print(\"Отвергаем нулевую гипотезу.\")\n",
    "else:\n",
    "    print(\"Не отвергаем нулевую гипотезу.\")"
   ]
  },
  {
   "cell_type": "markdown",
   "id": "422f1b71",
   "metadata": {},
   "source": [
    "__Вывод:__\n",
    "\n",
    "Нулевая гипотеза отвергается, что не удивительно, если посмотреть на график, на котором заметно, что разброс рейтинга в Канаде больше, чем в Германии. Следовательно, можно предположить, что немецкие фильмы, как правило, высококачесвенные и более популярные среди аудитории ИВИ, поэтому они чаще всего высоко оцениваются. Однако про Канаду можно заметить, что их кинематограф в одинаковой степени как нравится, так и нет потребителям. Полагаем, в этой стране есть и хорошо снятые фильмы, и не очень; но большая часть среднего качества (больше оценок 6)."
   ]
  },
  {
   "cell_type": "markdown",
   "id": "4c9791ec",
   "metadata": {},
   "source": [
    "## Гипотеза №4:                                              👶🏻|🔞"
   ]
  },
  {
   "cell_type": "markdown",
   "id": "4338bf85",
   "metadata": {},
   "source": [
    "Для тестирования данной гипотезы по-прежнему подбирались выборки схожей размерности."
   ]
  },
  {
   "cell_type": "code",
   "execution_count": 38,
   "id": "76abb60e",
   "metadata": {},
   "outputs": [
    {
     "data": {
      "text/plain": [
       "353"
      ]
     },
     "execution_count": 38,
     "metadata": {},
     "output_type": "execute_result"
    }
   ],
   "source": [
    "len(df[df['Возрастное ограничение']==18])"
   ]
  },
  {
   "cell_type": "code",
   "execution_count": 39,
   "id": "7a4b2e60",
   "metadata": {},
   "outputs": [
    {
     "data": {
      "text/plain": [
       "406"
      ]
     },
     "execution_count": 39,
     "metadata": {},
     "output_type": "execute_result"
    }
   ],
   "source": [
    "len(df[df['Возрастное ограничение']==12])"
   ]
  },
  {
   "cell_type": "markdown",
   "id": "546a1f26",
   "metadata": {},
   "source": [
    "Приступим к тестированию следующей гипотезы: средняя продолжительность фильмов во всех странах для возрастного ограничения 12+ имеет то же значение, что и для 18+. \n",
    "$$\n",
    "\\begin{aligned}\n",
    "& H_0: \\mu_{12+} = \\mu_{18+} \\\\\n",
    "& H_1: \\mu_{12+} < \\mu_{18+}\n",
    "\\end{aligned}\n",
    "$$"
   ]
  },
  {
   "cell_type": "markdown",
   "id": "62e4fabb",
   "metadata": {},
   "source": [
    "Первоначально исследуем распределения продолжительностей фильмов для представленных возрастных категорий."
   ]
  },
  {
   "cell_type": "code",
   "execution_count": 17,
   "id": "854f9391",
   "metadata": {},
   "outputs": [
    {
     "data": {
      "text/html": [
       "<div>\n",
       "<style scoped>\n",
       "    .dataframe tbody tr th:only-of-type {\n",
       "        vertical-align: middle;\n",
       "    }\n",
       "\n",
       "    .dataframe tbody tr th {\n",
       "        vertical-align: top;\n",
       "    }\n",
       "\n",
       "    .dataframe thead th {\n",
       "        text-align: right;\n",
       "    }\n",
       "</style>\n",
       "<table border=\"1\" class=\"dataframe\">\n",
       "  <thead>\n",
       "    <tr style=\"text-align: right;\">\n",
       "      <th></th>\n",
       "      <th>Название</th>\n",
       "      <th>Страна</th>\n",
       "      <th>Жанр</th>\n",
       "      <th>Год выпуска</th>\n",
       "      <th>Давность</th>\n",
       "      <th>Возрастное ограничение</th>\n",
       "      <th>Категория</th>\n",
       "      <th>Продолжительность</th>\n",
       "      <th>Рейтинг</th>\n",
       "    </tr>\n",
       "  </thead>\n",
       "  <tbody>\n",
       "    <tr>\n",
       "      <th>1</th>\n",
       "      <td>Беспринципные в деревне</td>\n",
       "      <td>Россия</td>\n",
       "      <td>Комедии</td>\n",
       "      <td>2023</td>\n",
       "      <td>0</td>\n",
       "      <td>18</td>\n",
       "      <td>Взрослое</td>\n",
       "      <td>86</td>\n",
       "      <td>7.2</td>\n",
       "    </tr>\n",
       "    <tr>\n",
       "      <th>2</th>\n",
       "      <td>Нюрнберг</td>\n",
       "      <td>Россия</td>\n",
       "      <td>Драмы</td>\n",
       "      <td>2023</td>\n",
       "      <td>0</td>\n",
       "      <td>12</td>\n",
       "      <td>Подростковое</td>\n",
       "      <td>124</td>\n",
       "      <td>8.1</td>\n",
       "    </tr>\n",
       "    <tr>\n",
       "      <th>3</th>\n",
       "      <td>Моё прекрасное несчастье</td>\n",
       "      <td>США</td>\n",
       "      <td>Комедии</td>\n",
       "      <td>2023</td>\n",
       "      <td>0</td>\n",
       "      <td>18</td>\n",
       "      <td>Взрослое</td>\n",
       "      <td>91</td>\n",
       "      <td>7.7</td>\n",
       "    </tr>\n",
       "    <tr>\n",
       "      <th>4</th>\n",
       "      <td>Взломщик</td>\n",
       "      <td>США</td>\n",
       "      <td>Криминал</td>\n",
       "      <td>2023</td>\n",
       "      <td>0</td>\n",
       "      <td>18</td>\n",
       "      <td>Взрослое</td>\n",
       "      <td>91</td>\n",
       "      <td>6.5</td>\n",
       "    </tr>\n",
       "    <tr>\n",
       "      <th>6</th>\n",
       "      <td>Эскортница</td>\n",
       "      <td>Россия</td>\n",
       "      <td>Драмы</td>\n",
       "      <td>2023</td>\n",
       "      <td>0</td>\n",
       "      <td>18</td>\n",
       "      <td>Взрослое</td>\n",
       "      <td>90</td>\n",
       "      <td>6.3</td>\n",
       "    </tr>\n",
       "    <tr>\n",
       "      <th>...</th>\n",
       "      <td>...</td>\n",
       "      <td>...</td>\n",
       "      <td>...</td>\n",
       "      <td>...</td>\n",
       "      <td>...</td>\n",
       "      <td>...</td>\n",
       "      <td>...</td>\n",
       "      <td>...</td>\n",
       "      <td>...</td>\n",
       "    </tr>\n",
       "    <tr>\n",
       "      <th>2049</th>\n",
       "      <td>Вальгалла: Рагнарёк</td>\n",
       "      <td>Дания</td>\n",
       "      <td>Фэнтези</td>\n",
       "      <td>2019</td>\n",
       "      <td>4</td>\n",
       "      <td>12</td>\n",
       "      <td>Подростковое</td>\n",
       "      <td>100</td>\n",
       "      <td>5.8</td>\n",
       "    </tr>\n",
       "    <tr>\n",
       "      <th>2050</th>\n",
       "      <td>Хакеры</td>\n",
       "      <td>США</td>\n",
       "      <td>Триллеры</td>\n",
       "      <td>1995</td>\n",
       "      <td>28</td>\n",
       "      <td>12</td>\n",
       "      <td>Подростковое</td>\n",
       "      <td>105</td>\n",
       "      <td>7.9</td>\n",
       "    </tr>\n",
       "    <tr>\n",
       "      <th>2053</th>\n",
       "      <td>Безумная дорога</td>\n",
       "      <td>Австралия</td>\n",
       "      <td>Ужасы</td>\n",
       "      <td>2021</td>\n",
       "      <td>2</td>\n",
       "      <td>18</td>\n",
       "      <td>Взрослое</td>\n",
       "      <td>87</td>\n",
       "      <td>5.5</td>\n",
       "    </tr>\n",
       "    <tr>\n",
       "      <th>2054</th>\n",
       "      <td>Восход</td>\n",
       "      <td>Австралия</td>\n",
       "      <td>Драмы</td>\n",
       "      <td>2014</td>\n",
       "      <td>9</td>\n",
       "      <td>12</td>\n",
       "      <td>Подростковое</td>\n",
       "      <td>102</td>\n",
       "      <td>6.7</td>\n",
       "    </tr>\n",
       "    <tr>\n",
       "      <th>2056</th>\n",
       "      <td>Марионетка</td>\n",
       "      <td>Нидерланды</td>\n",
       "      <td>Триллеры</td>\n",
       "      <td>2020</td>\n",
       "      <td>3</td>\n",
       "      <td>18</td>\n",
       "      <td>Взрослое</td>\n",
       "      <td>107</td>\n",
       "      <td>6.5</td>\n",
       "    </tr>\n",
       "  </tbody>\n",
       "</table>\n",
       "<p>759 rows × 9 columns</p>\n",
       "</div>"
      ],
      "text/plain": [
       "                      Название      Страна      Жанр  Год выпуска  Давность  \\\n",
       "1      Беспринципные в деревне      Россия   Комедии         2023         0   \n",
       "2                     Нюрнберг      Россия     Драмы         2023         0   \n",
       "3     Моё прекрасное несчастье         США   Комедии         2023         0   \n",
       "4                     Взломщик         США  Криминал         2023         0   \n",
       "6                   Эскортница      Россия     Драмы         2023         0   \n",
       "...                        ...         ...       ...          ...       ...   \n",
       "2049       Вальгалла: Рагнарёк       Дания   Фэнтези         2019         4   \n",
       "2050                    Хакеры         США  Триллеры         1995        28   \n",
       "2053           Безумная дорога   Австралия     Ужасы         2021         2   \n",
       "2054                    Восход   Австралия     Драмы         2014         9   \n",
       "2056                Марионетка  Нидерланды  Триллеры         2020         3   \n",
       "\n",
       "      Возрастное ограничение     Категория  Продолжительность  Рейтинг  \n",
       "1                         18      Взрослое                 86      7.2  \n",
       "2                         12  Подростковое                124      8.1  \n",
       "3                         18      Взрослое                 91      7.7  \n",
       "4                         18      Взрослое                 91      6.5  \n",
       "6                         18      Взрослое                 90      6.3  \n",
       "...                      ...           ...                ...      ...  \n",
       "2049                      12  Подростковое                100      5.8  \n",
       "2050                      12  Подростковое                105      7.9  \n",
       "2053                      18      Взрослое                 87      5.5  \n",
       "2054                      12  Подростковое                102      6.7  \n",
       "2056                      18      Взрослое                107      6.5  \n",
       "\n",
       "[759 rows x 9 columns]"
      ]
     },
     "execution_count": 17,
     "metadata": {},
     "output_type": "execute_result"
    }
   ],
   "source": [
    "restriction_12_18=df[(df['Возрастное ограничение']==18)|(df['Возрастное ограничение']==12)]\n",
    "restriction_12_18"
   ]
  },
  {
   "cell_type": "code",
   "execution_count": 27,
   "id": "4562c87c",
   "metadata": {},
   "outputs": [
    {
     "data": {
      "text/plain": [
       "Text(0.5, 1.0, 'Распределение продолжительности фильмов категории 12+ и 18+')"
      ]
     },
     "execution_count": 27,
     "metadata": {},
     "output_type": "execute_result"
    },
    {
     "data": {
      "image/png": "[encoded data removed]",
      "text/plain": [
       "<Figure size 695.361x500 with 1 Axes>"
      ]
     },
     "metadata": {},
     "output_type": "display_data"
    }
   ],
   "source": [
    "sns.displot(data=restriction_12_18, x='Продолжительность', hue='Возрастное ограничение',kind='kde')\n",
    "plt.ylabel(\"Плотность\")\n",
    "plt.title('Распределение продолжительности фильмов категории 12+ и 18+')"
   ]
  },
  {
   "cell_type": "markdown",
   "id": "abbb45d2",
   "metadata": {},
   "source": [
    "Обратим внимание, что распределение продолжительности фильмов по возрастному ограничению похоже на нормальное со средним 100 мин. Поэтому можем снова воспользоваться односторонней t-статистикой, поскольку все её предпосылки соблюдаются.\n",
    "\n",
    "__Предпосылки:__\n",
    "1. Выборки независимы (продолжительность фильмов 12+ не влияет на продолжительность фильмов 18+)\n",
    "2. Данные в выборке имеют нормальное распределение (как мы уже заметили выше)\n",
    "3. Дисперсии двух выборок между собой примерно равны (опираясь на график)\n",
    "4. Явные выбросы отсутствуют (но нельзя их полностью исключить, так как есть некоторые выбивающиеся значения для 12+)"
   ]
  },
  {
   "cell_type": "code",
   "execution_count": 19,
   "id": "c7384617",
   "metadata": {},
   "outputs": [
    {
     "data": {
      "text/plain": [
       "Ttest_indResult(statistic=-1.590278442169472, pvalue=0.05609478158434761)"
      ]
     },
     "execution_count": 19,
     "metadata": {},
     "output_type": "execute_result"
    }
   ],
   "source": [
    "statistic_ages=sts.ttest_ind(restriction_12_18[restriction_12_18['Возрастное ограничение']==12]['Продолжительность'],\n",
    "              restriction_12_18[restriction_12_18['Возрастное ограничение']==18]['Продолжительность'],alternative='less')\n",
    "statistic_ages"
   ]
  },
  {
   "cell_type": "code",
   "execution_count": 20,
   "id": "222cc1c0",
   "metadata": {},
   "outputs": [
    {
     "data": {
      "text/plain": [
       "True"
      ]
     },
     "execution_count": 20,
     "metadata": {},
     "output_type": "execute_result"
    }
   ],
   "source": [
    "statistic_ages[1]>0.05"
   ]
  },
  {
   "cell_type": "markdown",
   "id": "6bc329c2",
   "metadata": {},
   "source": [
    "__Вывод:__\n",
    "\n",
    "Получается, что нулевая гипотеза не отвергается, а следовательно средняя продолжительность фильмов для детей (12+) примерно равна длительности фильмов для взрослых (18+). Однако мы можем заметить, что p-value не сильно больше критического значения (0.05), а значит возможно, что при большем объеме выборки основная гипотеза может быть отвергнута в пользу альтернативной. \\\n",
    "Изначально мы предполагали, что кино для детей длится меньше, чем для взрослых, так как детям трудно воспринимать долгие фильмы. Однако, с учетом объема собранных данных, оказалось, что они примерно равны. "
   ]
  },
  {
   "cell_type": "markdown",
   "id": "e0eeafe9",
   "metadata": {},
   "source": [
    "## Гипотеза №5:  Умели ведь раньше!!!"
   ]
  },
  {
   "cell_type": "markdown",
   "id": "3b819eaf",
   "metadata": {},
   "source": [
    "Мы предполагаем, что более старые фильмы имеют средний рейтинг выше, чем современные, что в принципе мы наблюдали на графике динамики рейтинга за весь период во всём мире в части EDA. Разделение данных на две части по границе 2016 обусловлено тем, что выборки полученных периодов примерно равны по объёму."
   ]
  },
  {
   "cell_type": "code",
   "execution_count": 40,
   "id": "81908e39",
   "metadata": {},
   "outputs": [
    {
     "data": {
      "text/plain": [
       "1064"
      ]
     },
     "execution_count": 40,
     "metadata": {},
     "output_type": "execute_result"
    }
   ],
   "source": [
    "len(df[df['Год выпуска'] <= 2016])"
   ]
  },
  {
   "cell_type": "code",
   "execution_count": 41,
   "id": "0bf7a124",
   "metadata": {},
   "outputs": [
    {
     "data": {
      "text/plain": [
       "997"
      ]
     },
     "execution_count": 41,
     "metadata": {},
     "output_type": "execute_result"
    }
   ],
   "source": [
    "len(df[df['Год выпуска'] > 2016])"
   ]
  },
  {
   "cell_type": "markdown",
   "id": "e7facb0b",
   "metadata": {},
   "source": [
    "Далее проверим гипотезу: средний рейтинг фильмов, выпущенных до 2016гг., равен среднему после 2016г. \n",
    "$$\n",
    "\\begin{aligned}\n",
    "& H_0: \\mu_{до \\ 2016} = \\mu_{после\\ 2016} \\\\\n",
    "& H_1: \\mu_{до \\ 2016} \\neq \\mu_{после\\ 2016}\n",
    "\\end{aligned}\n",
    "$$"
   ]
  },
  {
   "cell_type": "markdown",
   "id": "719d683a",
   "metadata": {},
   "source": [
    "И вновь изобразим распределение рейтинга фильмов, подразделяемые по рассматриваемым периодам. После чего важно заметить, что у нас двусторонняя гипотеза, что будет иметь важное значение при определении статистики для проверки гипотезы."
   ]
  },
  {
   "cell_type": "code",
   "execution_count": 28,
   "id": "dc97b5a9",
   "metadata": {},
   "outputs": [
    {
     "data": {
      "image/png": "[encoded data removed]",
      "text/plain": [
       "<Figure size 640x480 with 1 Axes>"
      ]
     },
     "metadata": {},
     "output_type": "display_data"
    }
   ],
   "source": [
    "sns.kdeplot(data=df[df['Год выпуска'] <= 2016]['Рейтинг'], label='Год выпуска <= 2016')\n",
    "sns.kdeplot(data=df[df['Год выпуска'] > 2016]['Рейтинг'], label='Год выпуска > 2016')\n",
    "\n",
    "plt.xlabel('Рейтинг')\n",
    "plt.ylabel('Плотность')\n",
    "plt.title('Распределение рейтинга фильмов до 2016 года и после')\n",
    "\n",
    "plt.legend()\n",
    "plt.show()"
   ]
  },
  {
   "cell_type": "markdown",
   "id": "43265dc4",
   "metadata": {},
   "source": [
    "Из графика выше видно, что значения Рейтинга после 2016 и до него подчинены закону не нормального распределения, соответственно применяем непараметрические тесты. На этот раз мы решили использовать тест Манна-Уитни, опираясь на похожую формулировку гипотезы из семинара 12. Можем обосновать свой выбор такими допущениями как:\n",
    "\n",
    "__Предпосылки:__\n",
    "1. Независимость наблюдений (рейтинги в одном периоде никак не могут изменить рейтинги в другом)\n",
    "2. Данные распределены не нормально, но имеют похожую форму (из графика выше у 2-х выборок наблюдается скошенность вправо)\n",
    "3. Не требует равенства дисперсий "
   ]
  },
  {
   "cell_type": "code",
   "execution_count": 22,
   "id": "065aaf19",
   "metadata": {},
   "outputs": [
    {
     "data": {
      "text/plain": [
       "MannwhitneyuResult(statistic=740275.5, pvalue=1.5094548334077193e-54)"
      ]
     },
     "execution_count": 22,
     "metadata": {},
     "output_type": "execute_result"
    }
   ],
   "source": [
    "statistic_2016=sts.mannwhitneyu(df[df['Год выпуска'] <= 2016]['Рейтинг'],df[df['Год выпуска'] > 2016]['Рейтинг'])\n",
    "statistic_2016"
   ]
  },
  {
   "cell_type": "code",
   "execution_count": 23,
   "id": "2f01ea0b",
   "metadata": {},
   "outputs": [
    {
     "name": "stdout",
     "output_type": "stream",
     "text": [
      "Отвергаем нулевую гипотезу. Средние значения не равны.\n"
     ]
    }
   ],
   "source": [
    "if statistic_2016[1] < 0.05:\n",
    "    print(\"Отвергаем нулевую гипотезу. Средние значения не равны.\")\n",
    "else:\n",
    "    print(\"Не отвергаем нулевую гипотезу. Средние значения равны.\")"
   ]
  },
  {
   "cell_type": "markdown",
   "id": "fcbd58e2",
   "metadata": {},
   "source": [
    "__Вывод:__\n",
    "\n",
    "Результат тестирования гипотезы был еще заметен на этапе визуализации, потому что заметно, что фильмы, выпущенные до 2016 года в больших случаях получают рейтинг 6-9, чем фильмы после указанного года. Это может навести на мысль, что средний рейтинг кинопроектов до 2016 больше, чем после 2016, в котором присутствует уже существенно большее кол-во фильмов с низким рейтингом. Мы изначально, формулируя эту гипотезу, исходили из того, что в последнее время качество и сюжет фильмов испортился, поэтому относительно не новое кино оценивается аудиторией выше, чем современное, что в принципе подтвердилось."
   ]
  }
 ],
 "metadata": {
  "kernelspec": {
   "display_name": "Python 3 (ipykernel)",
   "language": "python",
   "name": "python3"
  },
  "language_info": {
   "codemirror_mode": {
    "name": "ipython",
    "version": 3
   },
   "file_extension": ".py",
   "mimetype": "text/x-python",
   "name": "python",
   "nbconvert_exporter": "python",
   "pygments_lexer": "ipython3",
   "version": "3.9.13"
  }
 },
 "nbformat": 4,
 "nbformat_minor": 5
}
