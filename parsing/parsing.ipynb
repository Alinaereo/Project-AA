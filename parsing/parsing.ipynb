{
 "cells": [
  {
   "cell_type": "code",
   "execution_count": 271,
   "id": "ee39ded3",
   "metadata": {},
   "outputs": [],
   "source": [
    "import requests  \n",
    "from bs4 import BeautifulSoup"
   ]
  },
  {
   "cell_type": "code",
   "execution_count": 278,
   "id": "6206e9ca",
   "metadata": {},
   "outputs": [],
   "source": [
    "# загрузим полезные модули\n",
    "from collections import defaultdict as dd\n",
    "\n",
    "# из pandas берем удобные функции для таблиц. можно не использовать её\n",
    "import pandas as pd\n",
    "\n",
    "import matplotlib.pyplot as plt\n",
    "\n",
    "# визуализация циклов\n",
    "from tqdm.notebook import tqdm\n",
    "\n",
    "import time\n",
    "import os\n",
    "from fake_useragent import UserAgent"
   ]
  },
  {
   "cell_type": "markdown",
   "id": "87802af2",
   "metadata": {},
   "source": [
    "__Выгружаем названия фильмов__"
   ]
  },
  {
   "cell_type": "code",
   "execution_count": 272,
   "id": "f715d118",
   "metadata": {},
   "outputs": [
    {
     "data": {
      "text/plain": [
       "<Response [200]>"
      ]
     },
     "execution_count": 272,
     "metadata": {},
     "output_type": "execute_result"
    }
   ],
   "source": [
    "# подключаемся к сайту\n",
    "url = 'https://www.ivi.ru/movies/all?ysclid=lh3kbxx7q6794249776'\n",
    "response = requests.get(url)\n",
    "response"
   ]
  },
  {
   "cell_type": "code",
   "execution_count": 273,
   "id": "1e066f58",
   "metadata": {},
   "outputs": [],
   "source": [
    "tree = BeautifulSoup(response.content, 'html.parser') #получаем структуру сайта в питоне"
   ]
  },
  {
   "cell_type": "code",
   "execution_count": 275,
   "id": "1cddcad0",
   "metadata": {},
   "outputs": [
    {
     "data": {
      "text/plain": [
       "<span class=\"nbl-slimPosterBlock__titleText\">На солнце, вдоль рядов кукурузы</span>"
      ]
     },
     "execution_count": 275,
     "metadata": {},
     "output_type": "execute_result"
    }
   ],
   "source": [
    "#вынимаем из кода название фильма\n",
    "books_on_one_page=tree.find_all('span','nbl-slimPosterBlock__titleText')\n",
    "books_on_one_page[0] #с первой страницы"
   ]
  },
  {
   "cell_type": "code",
   "execution_count": 276,
   "id": "629f06f0",
   "metadata": {},
   "outputs": [],
   "source": [
    "list_movies=[] #создаем список наших фильмов с первой страницы, чтобы убедиться, что все работает \n",
    "for index in range(len(books_on_one_page)):\n",
    "    elem_soup = BeautifulSoup(str(books_on_one_page[index]), 'html.parser')\n",
    "    title = elem_soup.find('span','nbl-slimPosterBlock__titleText').text\n",
    "    list_movies.append(title)"
   ]
  },
  {
   "cell_type": "code",
   "execution_count": 277,
   "id": "7441573d",
   "metadata": {},
   "outputs": [
    {
     "data": {
      "text/plain": [
       "['На солнце, вдоль рядов кукурузы',\n",
       " 'Подрыв',\n",
       " 'Беспринципные в деревне',\n",
       " 'Нюрнберг',\n",
       " 'Моё прекрасное несчастье',\n",
       " 'Взломщик',\n",
       " 'Любовь-морковь: Восстание машин',\n",
       " 'Эскортница',\n",
       " 'Призрачный дом',\n",
       " 'Ложная память',\n",
       " 'Операция «Фортуна»: Искусство побеждать',\n",
       " 'Праведник',\n",
       " 'Сокровища партизанского леса',\n",
       " 'Аве Мария',\n",
       " 'Моя пиратская свадьба',\n",
       " 'Непослушная',\n",
       " 'Горизонт в огне',\n",
       " 'Свободные отношения',\n",
       " 'Т-34. Полная версия',\n",
       " 'Рыцарь теней',\n",
       " 'При чём тут любовь?',\n",
       " 'Профиль',\n",
       " 'Здоровый человек',\n",
       " 'Мой любимый призрак',\n",
       " 'Девятаев',\n",
       " 'Чёрная метка',\n",
       " 'Крушение',\n",
       " '13 минут',\n",
       " 'Вакцина от коррупции (на казахском языке с русскими субтитрами)']"
      ]
     },
     "execution_count": 277,
     "metadata": {},
     "output_type": "execute_result"
    }
   ],
   "source": [
    "list_movies #интересный факт: порядок фильмов на сайте часто меняется"
   ]
  },
  {
   "cell_type": "code",
   "execution_count": 279,
   "id": "ed036bdc",
   "metadata": {},
   "outputs": [],
   "source": [
    "#проделываем эти же операции для следующих страниц\n",
    "\n",
    "for page in range(2,80):\n",
    "    url = f'https://www.ivi.ru/movies/all/page{page}?ysclid=lh3kbxx7q6794249776'\n",
    "    response = requests.get(url)\n",
    "    tree = BeautifulSoup(response.content, 'html.parser')\n",
    "    books_on_one_page = tree.find_all('span','nbl-slimPosterBlock__titleText')\n",
    "    for index in range(len(books_on_one_page)):\n",
    "        elem_soup = BeautifulSoup(str(books_on_one_page[index]), 'html.parser')\n",
    "        title = elem_soup.find('span','nbl-slimPosterBlock__titleText').text\n",
    "        list_movies.append(title)\n",
    "        "
   ]
  },
  {
   "cell_type": "code",
   "execution_count": 280,
   "id": "d412c332",
   "metadata": {},
   "outputs": [
    {
     "data": {
      "text/plain": [
       "2291"
      ]
     },
     "execution_count": 280,
     "metadata": {},
     "output_type": "execute_result"
    }
   ],
   "source": [
    "len(list_movies) #количество собранных фильмов"
   ]
  },
  {
   "cell_type": "markdown",
   "id": "f2587918",
   "metadata": {},
   "source": [
    "__Выгружаем рейтинг фильмов__"
   ]
  },
  {
   "cell_type": "code",
   "execution_count": 281,
   "id": "4136ddb2",
   "metadata": {},
   "outputs": [
    {
     "data": {
      "text/plain": [
       "<Response [200]>"
      ]
     },
     "execution_count": 281,
     "metadata": {},
     "output_type": "execute_result"
    }
   ],
   "source": [
    "#вновь подключаемся к сайту (боялись, что может слететь)\n",
    "\n",
    "url2 = 'https://www.ivi.ru/movies/all?ysclid=lh3kbxx7q6794249776'\n",
    "response2 = requests.get(url2)\n",
    "response2"
   ]
  },
  {
   "cell_type": "code",
   "execution_count": 282,
   "id": "947a4331",
   "metadata": {},
   "outputs": [],
   "source": [
    "tree2 = BeautifulSoup(response2.content, 'html.parser')"
   ]
  },
  {
   "cell_type": "code",
   "execution_count": 283,
   "id": "bcb92036",
   "metadata": {},
   "outputs": [
    {
     "data": {
      "text/plain": [
       "<div class=\"nbl-ratingCompact__value\"><div class=\"nbl-ratingCompact__valueInteger\">8</div><div class=\"nbl-ratingCompact__valueFraction\">,<!-- -->4</div></div>"
      ]
     },
     "execution_count": 283,
     "metadata": {},
     "output_type": "execute_result"
    }
   ],
   "source": [
    "#смотрим в какой части кода сайта находится рейтинг фильмов\n",
    "\n",
    "books_on_one_page_rate=tree2.find_all('div','nbl-ratingCompact__value')\n",
    "books_on_one_page_rate[0]"
   ]
  },
  {
   "cell_type": "code",
   "execution_count": 284,
   "id": "07631164",
   "metadata": {},
   "outputs": [],
   "source": [
    "#создаем список этих фильмов\n",
    "\n",
    "rate_movies=[]\n",
    "for index in range(len(books_on_one_page_rate)):\n",
    "    elem_soup_rate = BeautifulSoup(str(books_on_one_page_rate[index]), 'html.parser')\n",
    "    ratio = elem_soup_rate.find('div','nbl-ratingCompact__value').text\n",
    "    rate_movies.append(ratio)"
   ]
  },
  {
   "cell_type": "code",
   "execution_count": 285,
   "id": "19b2ed7f",
   "metadata": {},
   "outputs": [],
   "source": [
    "#повторяем эту операцию для следующих страниц\n",
    "\n",
    "for page in range(2,80):\n",
    "    url = f'https://www.ivi.ru/movies/all/page{page}?ysclid=lh3kbxx7q6794249776'\n",
    "    response = requests.get(url)\n",
    "    tree3 = BeautifulSoup(response.content, 'html.parser')\n",
    "    books_on_one_page_2 = tree3.find_all('div','nbl-ratingCompact__value')\n",
    "    for index in range(len(books_on_one_page_2)):\n",
    "        elem_soup_2 = BeautifulSoup(str(books_on_one_page_2[index]), 'html.parser')\n",
    "        ratio = elem_soup_2.find('div','nbl-ratingCompact__value').text\n",
    "        rate_movies.append(ratio)"
   ]
  },
  {
   "cell_type": "code",
   "execution_count": 286,
   "id": "a8b5050b",
   "metadata": {},
   "outputs": [
    {
     "data": {
      "text/plain": [
       "2291"
      ]
     },
     "execution_count": 286,
     "metadata": {},
     "output_type": "execute_result"
    }
   ],
   "source": [
    "len(rate_movies) #количество полученных рейтингов совпала с количество названий"
   ]
  },
  {
   "cell_type": "markdown",
   "id": "e752c58e",
   "metadata": {},
   "source": [
    "__Выгружаем год выпуска фильма__"
   ]
  },
  {
   "cell_type": "code",
   "execution_count": 287,
   "id": "a3ff3efd",
   "metadata": {},
   "outputs": [
    {
     "data": {
      "text/plain": [
       "<Response [200]>"
      ]
     },
     "execution_count": 287,
     "metadata": {},
     "output_type": "execute_result"
    }
   ],
   "source": [
    "url3 = 'https://www.ivi.ru/movies/all?ysclid=lh3kbxx7q6794249776'\n",
    "response3 = requests.get(url3)\n",
    "response3"
   ]
  },
  {
   "cell_type": "code",
   "execution_count": 288,
   "id": "c91374cd",
   "metadata": {},
   "outputs": [],
   "source": [
    "tree3 = BeautifulSoup(response3.content, 'html.parser')"
   ]
  },
  {
   "cell_type": "code",
   "execution_count": 289,
   "id": "059bcc32",
   "metadata": {},
   "outputs": [
    {
     "data": {
      "text/plain": [
       "<div class=\"nbl-poster__propertiesInfo\"><div class=\"nbl-poster__propertiesRow\">2023, Россия, Драмы</div><div class=\"nbl-poster__propertiesRow\">89 минут</div></div>"
      ]
     },
     "execution_count": 289,
     "metadata": {},
     "output_type": "execute_result"
    }
   ],
   "source": [
    "#смотрим в какой части кода сайта находится год выпуска\n",
    "\n",
    "books_on_one_page_years=tree3.find_all('div', 'nbl-poster__propertiesInfo','nbl-poster__propertiesRow') \n",
    "books_on_one_page_years[0]"
   ]
  },
  {
   "cell_type": "code",
   "execution_count": 290,
   "id": "59c9da69",
   "metadata": {},
   "outputs": [],
   "source": [
    "#создаем список с годами с первой страницы, отделив их от страны и жанра\n",
    "\n",
    "year_movies=[]\n",
    "for index in range(len(books_on_one_page_years)):\n",
    "    elem_soup_year = BeautifulSoup(str(books_on_one_page_years[index]), 'html.parser')\n",
    "    year = elem_soup_year.find('div', 'nbl-poster__propertiesInfo','nbl-poster__propertiesRow').text.split(', ')[0]\n",
    "    year_movies.append(year)"
   ]
  },
  {
   "cell_type": "code",
   "execution_count": 291,
   "id": "797f2346",
   "metadata": {},
   "outputs": [],
   "source": [
    "#для 80 страниц\n",
    "\n",
    "for page in range(2,80):\n",
    "    url = f'https://www.ivi.ru/movies/all/page{page}?ysclid=lh3kbxx7q6794249776'\n",
    "    response = requests.get(url)\n",
    "    tree4 = BeautifulSoup(response.content, 'html.parser')\n",
    "    books_on_one_page_3 = tree4.find_all('div', 'nbl-poster__propertiesInfo','nbl-poster__propertiesRow')\n",
    "    for index in range(len(books_on_one_page_3)):\n",
    "        elem_soup_3 = BeautifulSoup(str(books_on_one_page_3[index]), 'html.parser')\n",
    "        year = elem_soup_3.find('div', 'nbl-poster__propertiesInfo','nbl-poster__propertiesRow').text.split(', ')[0]\n",
    "        year_movies.append(year)"
   ]
  },
  {
   "cell_type": "code",
   "execution_count": 292,
   "id": "4f7e7afc",
   "metadata": {},
   "outputs": [
    {
     "data": {
      "text/plain": [
       "2291"
      ]
     },
     "execution_count": 292,
     "metadata": {},
     "output_type": "execute_result"
    }
   ],
   "source": [
    "len(year_movies) #собрали необходимое количество наблюдений"
   ]
  },
  {
   "cell_type": "markdown",
   "id": "5fcbc175",
   "metadata": {},
   "source": [
    "__Выгружаем страну__"
   ]
  },
  {
   "cell_type": "code",
   "execution_count": 293,
   "id": "8cb9c446",
   "metadata": {},
   "outputs": [],
   "source": [
    "#из той же строки кода достаем страну фильма, отделив от года и жанра\n",
    "\n",
    "country_movies=[]\n",
    "for index in range(len(books_on_one_page_years)):\n",
    "    elem_soup_country = BeautifulSoup(str(books_on_one_page_years[index]), 'html.parser')\n",
    "    country = elem_soup_country.find('div', 'nbl-poster__propertiesInfo','nbl-poster__propertiesRow').text.split(', ')[1]\n",
    "    country_movies.append(country)"
   ]
  },
  {
   "cell_type": "code",
   "execution_count": 294,
   "id": "8dc17be6",
   "metadata": {},
   "outputs": [],
   "source": [
    "#для следующих страниц\n",
    "\n",
    "for page in range(2,80):\n",
    "    url = f'https://www.ivi.ru/movies/all/page{page}?ysclid=lh3kbxx7q6794249776'\n",
    "    response = requests.get(url)\n",
    "    tree5 = BeautifulSoup(response.content, 'html.parser')\n",
    "    books_on_one_page_4 = tree5.find_all('div', 'nbl-poster__propertiesInfo','nbl-poster__propertiesRow')\n",
    "    for index in range(len(books_on_one_page_4)):\n",
    "        elem_soup_4 = BeautifulSoup(str(books_on_one_page_4[index]), 'html.parser')\n",
    "        country = elem_soup_4.find('div', 'nbl-poster__propertiesInfo','nbl-poster__propertiesRow').text.split(', ')[1]\n",
    "        country_movies.append(country)"
   ]
  },
  {
   "cell_type": "code",
   "execution_count": 295,
   "id": "c41b1712",
   "metadata": {},
   "outputs": [
    {
     "data": {
      "text/plain": [
       "2291"
      ]
     },
     "execution_count": 295,
     "metadata": {},
     "output_type": "execute_result"
    }
   ],
   "source": [
    "len(country_movies) #собрали необходимое количество наблюдений"
   ]
  },
  {
   "cell_type": "markdown",
   "id": "e2cba3a5",
   "metadata": {},
   "source": [
    "__Выгружаем жанры__"
   ]
  },
  {
   "cell_type": "code",
   "execution_count": 296,
   "id": "eb081e1b",
   "metadata": {},
   "outputs": [
    {
     "data": {
      "text/plain": [
       "<Response [200]>"
      ]
     },
     "execution_count": 296,
     "metadata": {},
     "output_type": "execute_result"
    }
   ],
   "source": [
    "url4 = 'https://www.ivi.ru/movies/all?ysclid=lh3kbxx7q6794249776'\n",
    "response4 = requests.get(url4)\n",
    "response4"
   ]
  },
  {
   "cell_type": "code",
   "execution_count": 297,
   "id": "61a5e768",
   "metadata": {},
   "outputs": [],
   "source": [
    "tree4 = BeautifulSoup(response4.content, 'html.parser')"
   ]
  },
  {
   "cell_type": "code",
   "execution_count": 298,
   "id": "c22fc7d2",
   "metadata": {},
   "outputs": [
    {
     "data": {
      "text/plain": [
       "str"
      ]
     },
     "execution_count": 298,
     "metadata": {},
     "output_type": "execute_result"
    }
   ],
   "source": [
    "#жанры выгружаются вместе с продолжительностью фильмов \n",
    "# и имеют формат str\n",
    "\n",
    "item4=tree4.find('div', 'nbl-poster__propertiesInfo','nbl-poster__propertiesRow') \n",
    "type(item4.text.split(', ')[2].split(' ')[0])"
   ]
  },
  {
   "cell_type": "code",
   "execution_count": 299,
   "id": "1793b3a1",
   "metadata": {},
   "outputs": [
    {
     "data": {
      "text/plain": [
       "'Драмы'"
      ]
     },
     "execution_count": 299,
     "metadata": {},
     "output_type": "execute_result"
    }
   ],
   "source": [
    "#разделяем жанр от продолжительности с помощью регуляризации\n",
    "#(по совету ассистента нашли информацию в интернете)\n",
    "\n",
    "import re \n",
    "res = [re.findall(r'(\\w+?)(\\d+)', item4.text.split(', ')[2].split(' ')[0])[0]] #https://translated.turbopages.org/proxy_u/en-ru.ru.bc230ef0-644ebcdd-a60c0a1a-74722d776562/https/www.geeksforgeeks.org/python-splitting-text-and-number-in-string/\n",
    "res[0][0] #https://docs-python.ru/standart-library/modul-re-python/funktsija-findall-modulja-re/"
   ]
  },
  {
   "cell_type": "code",
   "execution_count": 300,
   "id": "04c758ee",
   "metadata": {},
   "outputs": [],
   "source": [
    "#Убеждаемся, что наш код работает для одной страницы\n",
    "#создаем список жанров\n",
    "\n",
    "genre_movies=[]\n",
    "for index in range(len(books_on_one_page_years)):\n",
    "    elem_soup_genre = BeautifulSoup(str(books_on_one_page_years[index]), 'html.parser')\n",
    "    genre_minute = elem_soup_genre.find('div', 'nbl-poster__propertiesInfo','nbl-poster__propertiesRow').text.split(', ')[2].split(' ')[0]\n",
    "    seperate_genre= [re.findall(r'(\\w+?)(\\d+)',genre_minute)[0]][0][0]\n",
    "    genre_movies.append(seperate_genre)"
   ]
  },
  {
   "cell_type": "code",
   "execution_count": 301,
   "id": "f6747f44",
   "metadata": {},
   "outputs": [
    {
     "data": {
      "text/plain": [
       "29"
      ]
     },
     "execution_count": 301,
     "metadata": {},
     "output_type": "execute_result"
    }
   ],
   "source": [
    "len(genre_movies) #количество жанров с первой страницы"
   ]
  },
  {
   "cell_type": "code",
   "execution_count": 302,
   "id": "0032dc4a",
   "metadata": {},
   "outputs": [],
   "source": [
    "#собираем данные со следующих страниц\n",
    "#Обратим внимае, что есть жанр \"Для детей\", который пишется в два слова\n",
    "#и в одном наблюдении пропущена страна, что мешало собрать данные прошлым кодом\n",
    "\n",
    "pages_last=0\n",
    "for page in range(2,80):\n",
    "    url = f'https://www.ivi.ru/movies/all/page{page}?ysclid=lh3kbxx7q6794249776'\n",
    "    response = requests.get(url)\n",
    "    tree6 = BeautifulSoup(response.content, 'html.parser')\n",
    "    books_on_one_page_5 = tree6.find_all('div', 'nbl-poster__propertiesInfo','nbl-poster__propertiesRow')\n",
    "    for index in range(len(books_on_one_page_5)):\n",
    "        elem_soup_5 = BeautifulSoup(str(books_on_one_page_5[index]), 'html.parser')\n",
    "        genre_minute1 = elem_soup_5.find('div', 'nbl-poster__propertiesInfo','nbl-poster__propertiesRow').text.split(', ')\n",
    "        if len(genre_minute1)==3:\n",
    "            gf= genre_minute1[2]\n",
    "            if len(gf.split(' '))==2: #для детей жанр\n",
    "                tyu= gf.split(' ')[0]\n",
    "                s= [re.findall(r'(\\w+?)(\\d+)',gf)[0]][0][0]\n",
    "                genre_movies.append(s)\n",
    "            else:\n",
    "                lp= gf.split(' ')[1]\n",
    "                s= [re.findall(r'(\\w+?)(\\d+)',gf)[0]][0][0]\n",
    "                genre_movies.append(f\"{gf.split(' ')[0]} {s}\")\n",
    "        else: #Неистовый где пропуск страны\n",
    "            gf=genre_minute1[1]\n",
    "            if len(gf.split(' '))==2:\n",
    "                tyu= gf.split(' ')[0]\n",
    "                s= [re.findall(r'(\\w+?)(\\d+)',gf)[0]][0][0]\n",
    "                genre_movies.append(s)\n",
    "            else:\n",
    "                tyu= gf.split(' ')[1]\n",
    "                s= [re.findall(r'(\\w+?)(\\d+)',gf)[0]][0][0]\n",
    "                genre_movies.append(f\"{gf.split(' ')[0]} {s}\")\n",
    "    pages_last+=1"
   ]
  },
  {
   "cell_type": "code",
   "execution_count": 303,
   "id": "334fa6a1",
   "metadata": {},
   "outputs": [
    {
     "data": {
      "text/plain": [
       "78"
      ]
     },
     "execution_count": 303,
     "metadata": {},
     "output_type": "execute_result"
    }
   ],
   "source": [
    "pages_last"
   ]
  },
  {
   "cell_type": "code",
   "execution_count": 304,
   "id": "e527f876",
   "metadata": {},
   "outputs": [
    {
     "data": {
      "text/plain": [
       "2291"
      ]
     },
     "execution_count": 304,
     "metadata": {},
     "output_type": "execute_result"
    }
   ],
   "source": [
    "len(genre_movies) #собрали необходимосе количество жанров"
   ]
  },
  {
   "cell_type": "markdown",
   "id": "7cddcec0",
   "metadata": {},
   "source": [
    "__Выгружаем продолжительность__"
   ]
  },
  {
   "cell_type": "code",
   "execution_count": 305,
   "id": "7cfe34dd",
   "metadata": {},
   "outputs": [],
   "source": [
    "#переходим к продолжительности\n",
    "#вспомним, что она выгружается вместе с жанром (поэтому вновь используем регуляризацию)\n",
    "\n",
    "minute_movies=[]\n",
    "for index in range(len(books_on_one_page_years)):\n",
    "    elem_soup_genre = BeautifulSoup(str(books_on_one_page_years[index]), 'html.parser')\n",
    "    genre_minute = elem_soup_genre.find('div', 'nbl-poster__propertiesInfo','nbl-poster__propertiesRow').text.split(', ')[2].split(' ')[0]\n",
    "    seperate_genre= [re.findall(r'(\\w+?)(\\d+)',genre_minute)[0]][0][1]\n",
    "    minute_movies.append(seperate_genre)"
   ]
  },
  {
   "cell_type": "code",
   "execution_count": 306,
   "id": "b382faf5",
   "metadata": {},
   "outputs": [
    {
     "data": {
      "text/plain": [
       "['89', '110']"
      ]
     },
     "execution_count": 306,
     "metadata": {},
     "output_type": "execute_result"
    }
   ],
   "source": [
    "minute_movies[:2] #сверяем первые два фильма, чтобы они шли в правильном порядке"
   ]
  },
  {
   "cell_type": "code",
   "execution_count": 307,
   "id": "47adee53",
   "metadata": {},
   "outputs": [],
   "source": [
    "# учитываем все предыдущие комментарии и обращаем внимание на жанр \"Для детей\" и фильм с пропущенной страной \n",
    "pages_last=0\n",
    "for page in range(2,80):\n",
    "    url = f'https://www.ivi.ru/movies/all/page{page}?ysclid=lh3kbxx7q6794249776'\n",
    "    response = requests.get(url)\n",
    "    tree6 = BeautifulSoup(response.content, 'html.parser')\n",
    "    books_on_one_page_5 = tree6.find_all('div', 'nbl-poster__propertiesInfo','nbl-poster__propertiesRow')\n",
    "    for index in range(len(books_on_one_page_5)):\n",
    "        elem_soup_5 = BeautifulSoup(str(books_on_one_page_5[index]), 'html.parser')\n",
    "        genre_minute1 = elem_soup_5.find('div', 'nbl-poster__propertiesInfo','nbl-poster__propertiesRow').text.split(', ')\n",
    "        if len(genre_minute1)==3:\n",
    "            gf= genre_minute1[2]\n",
    "            if len(gf.split(' '))==2: #для детей жанр\n",
    "                tyu= gf.split(' ')[0]\n",
    "                s= [re.findall(r'(\\w+?)(\\d+)',gf)[0]][0][1]\n",
    "                minute_movies.append(s)\n",
    "            else:\n",
    "                lp= gf.split(' ')[1]\n",
    "                s= [re.findall(r'(\\w+?)(\\d+)',gf)[0]][0][1]\n",
    "                minute_movies.append(f\"{s}\")\n",
    "        else: #Неистовый где пропуск страны\n",
    "            gf=genre_minute1[1]\n",
    "            if len(gf.split(' '))==2:\n",
    "                tyu= gf.split(' ')[0]\n",
    "                s= [re.findall(r'(\\w+?)(\\d+)',gf)[0]][0][1]\n",
    "                minute_movies.append(s)\n",
    "            else:\n",
    "                tyu= gf.split(' ')[1]\n",
    "                s= [re.findall(r'(\\w+?)(\\d+)',gf)[0]][0][1]\n",
    "                minute_movies.append(f\"{s}\")\n",
    "    pages_last+=1"
   ]
  },
  {
   "cell_type": "code",
   "execution_count": 308,
   "id": "a5cb8954",
   "metadata": {},
   "outputs": [
    {
     "data": {
      "text/plain": [
       "78"
      ]
     },
     "execution_count": 308,
     "metadata": {},
     "output_type": "execute_result"
    }
   ],
   "source": [
    "pages_last"
   ]
  },
  {
   "cell_type": "code",
   "execution_count": 309,
   "id": "12c6fcb7",
   "metadata": {},
   "outputs": [
    {
     "data": {
      "text/plain": [
       "['115', '105', '75', '106', '131', '92', '93', '112', '105', '104']"
      ]
     },
     "execution_count": 309,
     "metadata": {},
     "output_type": "execute_result"
    }
   ],
   "source": [
    "minute_movies[270:280] #сверим, что мы верно спарсили данные"
   ]
  },
  {
   "cell_type": "code",
   "execution_count": 310,
   "id": "c5a619b7",
   "metadata": {},
   "outputs": [
    {
     "data": {
      "text/plain": [
       "2291"
      ]
     },
     "execution_count": 310,
     "metadata": {},
     "output_type": "execute_result"
    }
   ],
   "source": [
    "len(minute_movies) #получили необходимое количество наблюдений"
   ]
  },
  {
   "cell_type": "markdown",
   "id": "6b2b25d7",
   "metadata": {},
   "source": [
    "__Выгружаем возрастное ограничение__"
   ]
  },
  {
   "cell_type": "code",
   "execution_count": 311,
   "id": "a491f905",
   "metadata": {},
   "outputs": [
    {
     "data": {
      "text/plain": [
       "<Response [200]>"
      ]
     },
     "execution_count": 311,
     "metadata": {},
     "output_type": "execute_result"
    }
   ],
   "source": [
    "#далее переходим к выгрузке возрастного ограничения\n",
    "url5 = 'https://www.ivi.ru/movies/all?ysclid=lh3kbxx7q6794249776'\n",
    "response5 = requests.get(url5)\n",
    "response5"
   ]
  },
  {
   "cell_type": "code",
   "execution_count": 312,
   "id": "8cd14b28",
   "metadata": {},
   "outputs": [],
   "source": [
    "tree7 = BeautifulSoup(response5.content, 'html.parser')"
   ]
  },
  {
   "cell_type": "code",
   "execution_count": 313,
   "id": "2e618bbc",
   "metadata": {},
   "outputs": [
    {
     "data": {
      "text/plain": [
       "<div class=\"nbl-poster nbl-poster_type_poster nbl-poster_extrasMode_rusk nbl-slimPosterBlock__nbl-poster\"><div class=\"nbl-poster__imageWrapper\"><img alt=\"На солнце, вдоль рядов кукурузы\" class=\"nbl-poster__image\" data-stub=\"false\" src=\"https://thumbs.dfs.ivi.ru/storage5/contents/9/f/19a5fa548a9b111455b04f3d54d76a.jpg/234x360/?q=85\"/></div><div class=\"nbl-poster__properties\"><div class=\"nbl-poster__hoards\"><div class=\"hoard hoard_type_favorite hoard_style_kaera hoard_iconOnly nbl-poster__hoard\"><div class=\"hoard__icon\"></div></div><div class=\"hoard hoard_type_similar hoard_style_kaera hoard_iconOnly nbl-poster__hoard\"><div class=\"hoard__icon\"></div></div><div class=\"hoard hoard_type_rate hoard_style_kaera hoard_iconOnly nbl-poster__hoard\"><div class=\"nbl-icon nbl-icon_rating_20 hoard__nbl-icon hoard__icon\" style=\"width:20px;height:20px;font-size:20px;line-height:20px\"></div></div><div class=\"hoard hoard_type_dislike hoard_style_dislike hoard_iconOnly nbl-poster__hoard\"><div class=\"hoard__icon\"></div></div></div><div class=\"nbl-poster__properties-inner\"><div class=\"nbl-poster__propertiesRow\"><div class=\"nbl-poster__nbl-ratingCompact nbl-ratingCompact nbl-ratingCompact_style_utis nbl-ratingCompact_hasExtra_0\"><div class=\"nbl-ratingCompact__value\"><div class=\"nbl-ratingCompact__valueInteger\">8</div><div class=\"nbl-ratingCompact__valueFraction\">,<!-- -->4</div></div><div class=\"nbl-ratingCompact__graph nbl-ratingCompact__graph_filled\"><div class=\"nbl-progressBar nbl-progressBar_isRoundingEnabled_0 nbl-progressBar_hasHoverBar_0 nbl-progressBar_direction_leftToRight nbl-ratingCompact__nbl-progressBar\"><div class=\"nbl-progressBar__backBar\"></div><div class=\"nbl-progressBar__valueBar\" style=\"width:32%\"></div></div><div class=\"nbl-progressBar nbl-progressBar_isRoundingEnabled_0 nbl-progressBar_hasHoverBar_0 nbl-progressBar_direction_leftToRight nbl-ratingCompact__nbl-progressBar\"><div class=\"nbl-progressBar__backBar\"></div><div class=\"nbl-progressBar__valueBar\" style=\"width:43%\"></div></div><div class=\"nbl-progressBar nbl-progressBar_isRoundingEnabled_0 nbl-progressBar_hasHoverBar_0 nbl-progressBar_direction_leftToRight nbl-ratingCompact__nbl-progressBar\"><div class=\"nbl-progressBar__backBar\"></div><div class=\"nbl-progressBar__valueBar\" style=\"width:30%\"></div></div><div class=\"nbl-progressBar nbl-progressBar_isRoundingEnabled_0 nbl-progressBar_hasHoverBar_0 nbl-progressBar_direction_leftToRight nbl-ratingCompact__nbl-progressBar\"><div class=\"nbl-progressBar__backBar\"></div><div class=\"nbl-progressBar__valueBar\" style=\"width:39%\"></div></div></div></div></div><div class=\"nbl-poster__propertiesRow\"><div class=\"barChart nbl-poster__barChart\"><div class=\"barChart__name\">сюжет</div><div class=\"barChart__graph\"><div class=\"barChart__graphProgress\" style=\"width:43%\"></div></div></div></div><div class=\"nbl-poster__propertiesInfo\"><div class=\"nbl-poster__propertiesRow\">2023, Россия, Драмы</div><div class=\"nbl-poster__propertiesRow\">89 минут</div></div></div></div><div class=\"nbl-ageBadge nbl-ageBadge nbl-ageBadge_value_6 nbl-poster__nbl-ageBadge\"></div></div>"
      ]
     },
     "execution_count": 313,
     "metadata": {},
     "output_type": "execute_result"
    }
   ],
   "source": [
    "#определяем, где в коде сайта находится ограничение\n",
    "books_on_one_page_years=tree7.find_all('div', \"nbl-poster nbl-poster_type_poster nbl-poster_extrasMode_rusk nbl-slimPosterBlock__nbl-poster\") \n",
    "books_on_one_page_years[0]\n",
    "#в последней строчке данного блока можно заметить nbl-ageBadge_value_6 и это то, что нам надо"
   ]
  },
  {
   "cell_type": "code",
   "execution_count": 314,
   "id": "f94f2319",
   "metadata": {},
   "outputs": [
    {
     "data": {
      "text/plain": [
       "29"
      ]
     },
     "execution_count": 314,
     "metadata": {},
     "output_type": "execute_result"
    }
   ],
   "source": [
    "#добираемся до ограничения многократно сплитуя элементы этого блока\n",
    "# проверяем работу для первой страницы\n",
    "\n",
    "restriction=[]\n",
    "for i in range(len(books_on_one_page_years)):\n",
    "    film=books_on_one_page_years[i]\n",
    "    splitted=film.prettify().split('\\n')\n",
    "    lenght=len(splitted)\n",
    "    restrict=splitted[lenght-3].split(' ')[4].split('_')\n",
    "    long=len(restrict)\n",
    "    limit=restrict[long-1]\n",
    "    restriction.append(limit)\n",
    "len(restriction)"
   ]
  },
  {
   "cell_type": "code",
   "execution_count": 315,
   "id": "6c04aeb1",
   "metadata": {},
   "outputs": [],
   "source": [
    "#проделываем для следующих страниц\n",
    "\n",
    "for page in range(2,80):\n",
    "    url = f'https://www.ivi.ru/movies/all/page{page}?ysclid=lh3kbxx7q6794249776'\n",
    "    response = requests.get(url)\n",
    "    tree_limit = BeautifulSoup(response.content, 'html.parser')\n",
    "    books_on_one_page_limit = tree_limit.find_all('div', \"nbl-poster nbl-poster_type_poster nbl-poster_extrasMode_rusk nbl-slimPosterBlock__nbl-poster\")\n",
    "    for i in range(len(books_on_one_page_limit)):\n",
    "        film=books_on_one_page_limit[i]\n",
    "        splitted=film.prettify().split('\\n')\n",
    "        lenght=len(splitted)\n",
    "        restrict=splitted[lenght-3].split(' ')[4].split('_')\n",
    "        long=len(restrict)\n",
    "        limit=restrict[long-1]\n",
    "        restriction.append(limit)"
   ]
  },
  {
   "cell_type": "code",
   "execution_count": 316,
   "id": "e351c773",
   "metadata": {},
   "outputs": [
    {
     "data": {
      "text/plain": [
       "2291"
      ]
     },
     "execution_count": 316,
     "metadata": {},
     "output_type": "execute_result"
    }
   ],
   "source": [
    "len(restriction) #получаем необходимое количество наблюдений"
   ]
  },
  {
   "cell_type": "code",
   "execution_count": 317,
   "id": "b11739a3",
   "metadata": {},
   "outputs": [],
   "source": [
    "#наконец-то создаем DataFrame с выгруженными данными\n",
    "\n",
    "df = pd.DataFrame({'Название': list_movies,'Страна': country_movies,\n",
    "                   'Жанр':genre_movies,'Год выпуска': year_movies,\n",
    "                   'Возрастное ограничение':restriction,'Продолжительность':minute_movies, \n",
    "                   'Рейтинг':rate_movies})"
   ]
  },
  {
   "cell_type": "code",
   "execution_count": 318,
   "id": "d6ef215b",
   "metadata": {},
   "outputs": [
    {
     "name": "stdout",
     "output_type": "stream",
     "text": [
      "2291 2291 2291 2291 2291 2291\n"
     ]
    }
   ],
   "source": [
    "#количество данных каждого признака одинаковое\n",
    "print( len (list_movies), len (country_movies), len (year_movies),len (genre_movies),len (minute_movies),len (rate_movies))"
   ]
  },
  {
   "cell_type": "code",
   "execution_count": 319,
   "id": "34d3a029",
   "metadata": {},
   "outputs": [
    {
     "data": {
      "text/html": [
       "<div>\n",
       "<style scoped>\n",
       "    .dataframe tbody tr th:only-of-type {\n",
       "        vertical-align: middle;\n",
       "    }\n",
       "\n",
       "    .dataframe tbody tr th {\n",
       "        vertical-align: top;\n",
       "    }\n",
       "\n",
       "    .dataframe thead th {\n",
       "        text-align: right;\n",
       "    }\n",
       "</style>\n",
       "<table border=\"1\" class=\"dataframe\">\n",
       "  <thead>\n",
       "    <tr style=\"text-align: right;\">\n",
       "      <th></th>\n",
       "      <th>Название</th>\n",
       "      <th>Страна</th>\n",
       "      <th>Жанр</th>\n",
       "      <th>Год выпуска</th>\n",
       "      <th>Возрастное ограничение</th>\n",
       "      <th>Продолжительность</th>\n",
       "      <th>Рейтинг</th>\n",
       "    </tr>\n",
       "  </thead>\n",
       "  <tbody>\n",
       "    <tr>\n",
       "      <th>0</th>\n",
       "      <td>На солнце, вдоль рядов кукурузы</td>\n",
       "      <td>Россия</td>\n",
       "      <td>Драмы</td>\n",
       "      <td>2023</td>\n",
       "      <td>6</td>\n",
       "      <td>89</td>\n",
       "      <td>8,4</td>\n",
       "    </tr>\n",
       "    <tr>\n",
       "      <th>1</th>\n",
       "      <td>Подрыв</td>\n",
       "      <td>Беларусь</td>\n",
       "      <td>Драмы</td>\n",
       "      <td>2022</td>\n",
       "      <td>16</td>\n",
       "      <td>110</td>\n",
       "      <td>7,5</td>\n",
       "    </tr>\n",
       "    <tr>\n",
       "      <th>2</th>\n",
       "      <td>Беспринципные в деревне</td>\n",
       "      <td>Россия</td>\n",
       "      <td>Комедии</td>\n",
       "      <td>2023</td>\n",
       "      <td>18</td>\n",
       "      <td>86</td>\n",
       "      <td>7,2</td>\n",
       "    </tr>\n",
       "    <tr>\n",
       "      <th>3</th>\n",
       "      <td>Нюрнберг</td>\n",
       "      <td>Россия</td>\n",
       "      <td>Драмы</td>\n",
       "      <td>2023</td>\n",
       "      <td>12</td>\n",
       "      <td>124</td>\n",
       "      <td>8,1</td>\n",
       "    </tr>\n",
       "    <tr>\n",
       "      <th>4</th>\n",
       "      <td>Моё прекрасное несчастье</td>\n",
       "      <td>США</td>\n",
       "      <td>Комедии</td>\n",
       "      <td>2023</td>\n",
       "      <td>18</td>\n",
       "      <td>91</td>\n",
       "      <td>7,7</td>\n",
       "    </tr>\n",
       "    <tr>\n",
       "      <th>...</th>\n",
       "      <td>...</td>\n",
       "      <td>...</td>\n",
       "      <td>...</td>\n",
       "      <td>...</td>\n",
       "      <td>...</td>\n",
       "      <td>...</td>\n",
       "      <td>...</td>\n",
       "    </tr>\n",
       "    <tr>\n",
       "      <th>2286</th>\n",
       "      <td>Русалка. Озеро мертвых</td>\n",
       "      <td>Россия</td>\n",
       "      <td>Ужасы</td>\n",
       "      <td>2018</td>\n",
       "      <td>16</td>\n",
       "      <td>83</td>\n",
       "      <td>5,5</td>\n",
       "    </tr>\n",
       "    <tr>\n",
       "      <th>2287</th>\n",
       "      <td>Форсаж 4</td>\n",
       "      <td>США</td>\n",
       "      <td>Криминал</td>\n",
       "      <td>2009</td>\n",
       "      <td>16</td>\n",
       "      <td>106</td>\n",
       "      <td>8,8</td>\n",
       "    </tr>\n",
       "    <tr>\n",
       "      <th>2288</th>\n",
       "      <td>Полночь на злаковом поле</td>\n",
       "      <td>США</td>\n",
       "      <td>Триллеры</td>\n",
       "      <td>2021</td>\n",
       "      <td>16</td>\n",
       "      <td>98</td>\n",
       "      <td>6,7</td>\n",
       "    </tr>\n",
       "    <tr>\n",
       "      <th>2289</th>\n",
       "      <td>Грань времени</td>\n",
       "      <td>США</td>\n",
       "      <td>Фантастика</td>\n",
       "      <td>2016</td>\n",
       "      <td>16</td>\n",
       "      <td>99</td>\n",
       "      <td>5,2</td>\n",
       "    </tr>\n",
       "    <tr>\n",
       "      <th>2290</th>\n",
       "      <td>[4k] Капкан</td>\n",
       "      <td>США</td>\n",
       "      <td>Ужасы</td>\n",
       "      <td>2019</td>\n",
       "      <td>18</td>\n",
       "      <td>83</td>\n",
       "      <td>6,7</td>\n",
       "    </tr>\n",
       "  </tbody>\n",
       "</table>\n",
       "<p>2291 rows × 7 columns</p>\n",
       "</div>"
      ],
      "text/plain": [
       "                             Название    Страна        Жанр Год выпуска  \\\n",
       "0     На солнце, вдоль рядов кукурузы    Россия       Драмы        2023   \n",
       "1                              Подрыв  Беларусь       Драмы        2022   \n",
       "2             Беспринципные в деревне    Россия     Комедии        2023   \n",
       "3                            Нюрнберг    Россия       Драмы        2023   \n",
       "4            Моё прекрасное несчастье       США     Комедии        2023   \n",
       "...                               ...       ...         ...         ...   \n",
       "2286           Русалка. Озеро мертвых    Россия       Ужасы        2018   \n",
       "2287                         Форсаж 4       США    Криминал        2009   \n",
       "2288         Полночь на злаковом поле       США    Триллеры        2021   \n",
       "2289                    Грань времени       США  Фантастика        2016   \n",
       "2290                      [4k] Капкан       США       Ужасы        2019   \n",
       "\n",
       "     Возрастное ограничение Продолжительность Рейтинг  \n",
       "0                         6                89     8,4  \n",
       "1                        16               110     7,5  \n",
       "2                        18                86     7,2  \n",
       "3                        12               124     8,1  \n",
       "4                        18                91     7,7  \n",
       "...                     ...               ...     ...  \n",
       "2286                     16                83     5,5  \n",
       "2287                     16               106     8,8  \n",
       "2288                     16                98     6,7  \n",
       "2289                     16                99     5,2  \n",
       "2290                     18                83     6,7  \n",
       "\n",
       "[2291 rows x 7 columns]"
      ]
     },
     "execution_count": 319,
     "metadata": {},
     "output_type": "execute_result"
    }
   ],
   "source": [
    "df"
   ]
  },
  {
   "cell_type": "code",
   "execution_count": 320,
   "id": "77d39157",
   "metadata": {},
   "outputs": [],
   "source": [
    "#запишем в файл\n",
    "df.to_csv('project2.csv', index=False, columns=['Название', 'Страна', 'Жанр', 'Год выпуска', 'Возрастное ограничение', 'Продолжительность','Рейтинг'])"
   ]
  }
 ],
 "metadata": {
  "kernelspec": {
   "display_name": "Python 3 (ipykernel)",
   "language": "python",
   "name": "python3"
  },
  "language_info": {
   "codemirror_mode": {
    "name": "ipython",
    "version": 3
   },
   "file_extension": ".py",
   "mimetype": "text/x-python",
   "name": "python",
   "nbconvert_exporter": "python",
   "pygments_lexer": "ipython3",
   "version": "3.9.13"
  }
 },
 "nbformat": 4,
 "nbformat_minor": 5
}
